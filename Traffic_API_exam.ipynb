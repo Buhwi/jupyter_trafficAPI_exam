{
 "cells": [
  {
   "cell_type": "code",
   "execution_count": 1,
   "id": "a6650f9c",
   "metadata": {},
   "outputs": [],
   "source": [
    "#pip install requests"
   ]
  },
  {
   "cell_type": "code",
   "execution_count": 2,
   "id": "dd851b70",
   "metadata": {},
   "outputs": [],
   "source": [
    "import requests\n",
    "import pandas as pd"
   ]
  },
  {
   "cell_type": "code",
   "execution_count": 3,
   "id": "e0ab8138",
   "metadata": {},
   "outputs": [],
   "source": [
    "url = \"http://data.ex.co.kr/openapi/odtraffic/trafficAmountByUnit\""
   ]
  },
  {
   "cell_type": "code",
   "execution_count": 4,
   "id": "c94c69fe",
   "metadata": {},
   "outputs": [],
   "source": [
    "key = \"**********\""
   ]
  },
  {
   "cell_type": "code",
   "execution_count": 5,
   "id": "ff665acd",
   "metadata": {},
   "outputs": [],
   "source": [
    "params = {'key' : key, 'type' : 'xml',\n",
    "          'sumTmUnitTypeCode' : '3', 'stdHour' : '15',\n",
    "          'numOfRows' : '100', 'pageNo' : '26'}"
   ]
  },
  {
   "cell_type": "code",
   "execution_count": 6,
   "id": "c6cdd84c",
   "metadata": {},
   "outputs": [],
   "source": [
    "response = requests.get(url, params = params)"
   ]
  },
  {
   "cell_type": "code",
   "execution_count": 7,
   "id": "f0700a39",
   "metadata": {},
   "outputs": [
    {
     "data": {
      "text/plain": [
       "200"
      ]
     },
     "execution_count": 7,
     "metadata": {},
     "output_type": "execute_result"
    }
   ],
   "source": [
    "response.status_code"
   ]
  },
  {
   "cell_type": "code",
   "execution_count": 8,
   "id": "0ad5e392",
   "metadata": {
    "scrolled": true
   },
   "outputs": [
    {
     "data": {
      "text/plain": [
       "b'<?xml version=\"1.0\" encoding=\"UTF-8\" standalone=\"yes\"?><data><code>SUCCESS</code><message>\\xec\\x9d\\xb8\\xec\\xa6\\x9d\\xed\\x82\\xa4\\xea\\xb0\\x80 \\xec\\x9c\\xa0\\xed\\x9a\\xa8\\xed\\x95\\xa9\\xeb\\x8b\\x88\\xeb\\x8b\\xa4.</message><count>5674</count><list><brofCode>610100</brofCode><brofName>\\xea\\xb5\\xac\\xeb\\xaf\\xb8</brofName><centerCode>905</centerCode><centerName>\\xeb\\x8c\\x80\\xea\\xb5\\xac\\xea\\xb2\\xbd\\xeb\\xb6\\x81\\xeb\\xb3\\xb8\\xeb\\xb6\\x80</centerName><inoutName>\\xec\\xb6\\x9c\\xea\\xb5\\xac</inoutName><stdDate>20240206</stdDate><stdHour>15  </stdHour><tcsCarTypeCd>6</tcsCarTypeCd><tcsCarTypeGrpCd>1</tcsCarTypeGrpCd><tcsCarTypeGrpNm>\\xec\\x86\\x8c\\xed\\x98\\x95\\xec\\xb0\\xa8</tcsCarTypeGrpNm><tcsCarTypeNm>6\\xec\\xa2\\x85</tcsCarTypeNm><trafficAmout>12</trafficAmout><unitCode>122 </unitCode><unitName>\\xea\\xb9\\x80\\xec\\xb2\\x9c</unitName></list><list><brofCode>610100</brofCode><brofName>\\xea\\xb5\\xac\\xeb\\xaf\\xb8</brofName><centerCode>905</centerCode><centerName>\\xeb\\x8c\\x80\\xea\\xb5\\xac\\xea\\xb2\\xbd\\xeb\\xb6\\x81\\xeb\\xb3\\xb8\\xeb\\xb6\\x80</centerName><inoutName>\\xec\\x9e\\x85\\xea\\xb5\\xac</inoutName><stdDate>20240206</stdDate><stdHour>15  </stdHour><tcsCarTypeCd>1</tcsCarTypeCd><tcsCarTypeGrpCd>1</tcsCarTypeGrpCd><tcsCarTypeGrpNm>\\xec\\x86\\x8c\\xed\\x98\\x95\\xec\\xb0\\xa8</tcsCarTypeGrpNm><tcsCarTypeNm>1\\xec\\xa2\\x85</tcsCarTypeNm><trafficAmout>843</trafficAmout><unitCode>123 </unitCode><unitName>\\xea\\xb5\\xac\\xeb\\xaf\\xb8</unitName></list><list><brofCode>610100</brofCode><brofName>\\xea\\xb5\\xac\\xeb\\xaf\\xb8</brofName><centerCode>905</centerCode><centerName>\\xeb\\x8c\\x80\\xea\\xb5\\xac\\xea\\xb2\\xbd\\xeb\\xb6\\x81\\xeb\\xb3\\xb8\\xeb\\xb6\\x80</centerName><inoutName>\\xec\\xb6\\x9c\\xea\\xb5\\xac</inoutName><stdDate>20240206</stdDate><stdHour>15  </stdHour><tcsCarTypeCd>1</tcsCarTypeCd><tcsCarTypeGrpCd>1</tcsCarTypeGrpCd><tcsCarTypeGrpNm>\\xec\\x86\\x8c\\xed\\x98\\x95\\xec\\xb0\\xa8</tcsCarTypeGrpNm><tcsCarTypeNm>1\\xec\\xa2\\x85</tcsCarTypeNm><trafficAmout>830</trafficAmout><unitCode>123 </unitCode><unitName>\\xea\\xb5\\xac\\xeb\\xaf\\xb8</unitName></list><list><brofCode>610100</brofCode><brofName>\\xea\\xb5\\xac\\xeb\\xaf\\xb8</brofName><centerCode>905</centerCode><centerName>\\xeb\\x8c\\x80\\xea\\xb5\\xac\\xea\\xb2\\xbd\\xeb\\xb6\\x81\\xeb\\xb3\\xb8\\xeb\\xb6\\x80</centerName><inoutName>\\xec\\x9e\\x85\\xea\\xb5\\xac</inoutName><stdDate>20240206</stdDate><stdHour>15  </stdHour><tcsCarTypeCd>2</tcsCarTypeCd><tcsCarTypeGrpCd>2</tcsCarTypeGrpCd><tcsCarTypeGrpNm>\\xec\\xa4\\x91\\xed\\x98\\x95\\xec\\xb0\\xa8</tcsCarTypeGrpNm><tcsCarTypeNm>2\\xec\\xa2\\x85</tcsCarTypeNm><trafficAmout>16</trafficAmout><unitCode>123 </unitCode><unitName>\\xea\\xb5\\xac\\xeb\\xaf\\xb8</unitName></list><list><brofCode>610100</brofCode><brofName>\\xea\\xb5\\xac\\xeb\\xaf\\xb8</brofName><centerCode>905</centerCode><centerName>\\xeb\\x8c\\x80\\xea\\xb5\\xac\\xea\\xb2\\xbd\\xeb\\xb6\\x81\\xeb\\xb3\\xb8\\xeb\\xb6\\x80</centerName><inoutName>\\xec\\xb6\\x9c\\xea\\xb5\\xac</inoutName><stdDate>20240206</stdDate><stdHour>15  </stdHour><tcsCarTypeCd>2</tcsCarTypeCd><tcsCarTypeGrpCd>2</tcsCarTypeGrpCd><tcsCarTypeGrpNm>\\xec\\xa4\\x91\\xed\\x98\\x95\\xec\\xb0\\xa8</tcsCarTypeGrpNm><tcsCarTypeNm>2\\xec\\xa2\\x85</tcsCarTypeNm><trafficAmout>31</trafficAmout><unitCode>123 </unitCode><unitName>\\xea\\xb5\\xac\\xeb\\xaf\\xb8</unitName></list><list><brofCode>610100</brofCode><brofName>\\xea\\xb5\\xac\\xeb\\xaf\\xb8</brofName><centerCode>905</centerCode><centerName>\\xeb\\x8c\\x80\\xea\\xb5\\xac\\xea\\xb2\\xbd\\xeb\\xb6\\x81\\xeb\\xb3\\xb8\\xeb\\xb6\\x80</centerName><inoutName>\\xec\\x9e\\x85\\xea\\xb5\\xac</inoutName><stdDate>20240206</stdDate><stdHour>15  </stdHour><tcsCarTypeCd>3</tcsCarTypeCd><tcsCarTypeGrpCd>3</tcsCarTypeGrpCd><tcsCarTypeGrpNm>\\xeb\\x8c\\x80\\xed\\x98\\x95\\xec\\xb0\\xa8</tcsCarTypeGrpNm><tcsCarTypeNm>3\\xec\\xa2\\x85</tcsCarTypeNm><trafficAmout>22</trafficAmout><unitCode>123 </unitCode><unitName>\\xea\\xb5\\xac\\xeb\\xaf\\xb8</unitName></list><list><brofCode>610100</brofCode><brofName>\\xea\\xb5\\xac\\xeb\\xaf\\xb8</brofName><centerCode>905</centerCode><centerName>\\xeb\\x8c\\x80\\xea\\xb5\\xac\\xea\\xb2\\xbd\\xeb\\xb6\\x81\\xeb\\xb3\\xb8\\xeb\\xb6\\x80</centerName><inoutName>\\xec\\xb6\\x9c\\xea\\xb5\\xac</inoutName><stdDate>20240206</stdDate><stdHour>15  </stdHour><tcsCarTypeCd>3</tcsCarTypeCd><tcsCarTypeGrpCd>3</tcsCarTypeGrpCd><tcsCarTypeGrpNm>\\xeb\\x8c\\x80\\xed\\x98\\x95\\xec\\xb0\\xa8</tcsCarTypeGrpNm><tcsCarTypeNm>3\\xec\\xa2\\x85</tcsCarTypeNm><trafficAmout>33</trafficAmout><unitCode>123 </unitCode><unitName>\\xea\\xb5\\xac\\xeb\\xaf\\xb8</unitName></list><list><brofCode>610100</brofCode><brofName>\\xea\\xb5\\xac\\xeb\\xaf\\xb8</brofName><centerCode>905</centerCode><centerName>\\xeb\\x8c\\x80\\xea\\xb5\\xac\\xea\\xb2\\xbd\\xeb\\xb6\\x81\\xeb\\xb3\\xb8\\xeb\\xb6\\x80</centerName><inoutName>\\xec\\xb6\\x9c\\xea\\xb5\\xac</inoutName><stdDate>20240206</stdDate><stdHour>15  </stdHour><tcsCarTypeCd>4</tcsCarTypeCd><tcsCarTypeGrpCd>3</tcsCarTypeGrpCd><tcsCarTypeGrpNm>\\xeb\\x8c\\x80\\xed\\x98\\x95\\xec\\xb0\\xa8</tcsCarTypeGrpNm><tcsCarTypeNm>4\\xec\\xa2\\x85</tcsCarTypeNm><trafficAmout>27</trafficAmout><unitCode>123 </unitCode><unitName>\\xea\\xb5\\xac\\xeb\\xaf\\xb8</unitName></list><list><brofCode>610100</brofCode><brofName>\\xea\\xb5\\xac\\xeb\\xaf\\xb8</brofName><centerCode>905</centerCode><centerName>\\xeb\\x8c\\x80\\xea\\xb5\\xac\\xea\\xb2\\xbd\\xeb\\xb6\\x81\\xeb\\xb3\\xb8\\xeb\\xb6\\x80</centerName><inoutName>\\xec\\x9e\\x85\\xea\\xb5\\xac</inoutName><stdDate>20240206</stdDate><stdHour>15  </stdHour><tcsCarTypeCd>4</tcsCarTypeCd><tcsCarTypeGrpCd>3</tcsCarTypeGrpCd><tcsCarTypeGrpNm>\\xeb\\x8c\\x80\\xed\\x98\\x95\\xec\\xb0\\xa8</tcsCarTypeGrpNm><tcsCarTypeNm>4\\xec\\xa2\\x85</tcsCarTypeNm><trafficAmout>9</trafficAmout><unitCode>123 </unitCode><unitName>\\xea\\xb5\\xac\\xeb\\xaf\\xb8</unitName></list><list><brofCode>610100</brofCode><brofName>\\xea\\xb5\\xac\\xeb\\xaf\\xb8</brofName><centerCode>905</centerCode><centerName>\\xeb\\x8c\\x80\\xea\\xb5\\xac\\xea\\xb2\\xbd\\xeb\\xb6\\x81\\xeb\\xb3\\xb8\\xeb\\xb6\\x80</centerName><inoutName>\\xec\\x9e\\x85\\xea\\xb5\\xac</inoutName><stdDate>20240206</stdDate><stdHour>15  </stdHour><tcsCarTypeCd>5</tcsCarTypeCd><tcsCarTypeGrpCd>3</tcsCarTypeGrpCd><tcsCarTypeGrpNm>\\xeb\\x8c\\x80\\xed\\x98\\x95\\xec\\xb0\\xa8</tcsCarTypeGrpNm><tcsCarTypeNm>5\\xec\\xa2\\x85</tcsCarTypeNm><trafficAmout>18</trafficAmout><unitCode>123 </unitCode><unitName>\\xea\\xb5\\xac\\xeb\\xaf\\xb8</unitName></list><list><brofCode>610100</brofCode><brofName>\\xea\\xb5\\xac\\xeb\\xaf\\xb8</brofName><centerCode>905</centerCode><centerName>\\xeb\\x8c\\x80\\xea\\xb5\\xac\\xea\\xb2\\xbd\\xeb\\xb6\\x81\\xeb\\xb3\\xb8\\xeb\\xb6\\x80</centerName><inoutName>\\xec\\xb6\\x9c\\xea\\xb5\\xac</inoutName><stdDate>20240206</stdDate><stdHour>15  </stdHour><tcsCarTypeCd>5</tcsCarTypeCd><tcsCarTypeGrpCd>3</tcsCarTypeGrpCd><tcsCarTypeGrpNm>\\xeb\\x8c\\x80\\xed\\x98\\x95\\xec\\xb0\\xa8</tcsCarTypeGrpNm><tcsCarTypeNm>5\\xec\\xa2\\x85</tcsCarTypeNm><trafficAmout>22</trafficAmout><unitCode>123 </unitCode><unitName>\\xea\\xb5\\xac\\xeb\\xaf\\xb8</unitName></list><list><brofCode>610100</brofCode><brofName>\\xea\\xb5\\xac\\xeb\\xaf\\xb8</brofName><centerCode>905</centerCode><centerName>\\xeb\\x8c\\x80\\xea\\xb5\\xac\\xea\\xb2\\xbd\\xeb\\xb6\\x81\\xeb\\xb3\\xb8\\xeb\\xb6\\x80</centerName><inoutName>\\xec\\x9e\\x85\\xea\\xb5\\xac</inoutName><stdDate>20240206</stdDate><stdHour>15  </stdHour><tcsCarTypeCd>6</tcsCarTypeCd><tcsCarTypeGrpCd>1</tcsCarTypeGrpCd><tcsCarTypeGrpNm>\\xec\\x86\\x8c\\xed\\x98\\x95\\xec\\xb0\\xa8</tcsCarTypeGrpNm><tcsCarTypeNm>6\\xec\\xa2\\x85</tcsCarTypeNm><trafficAmout>30</trafficAmout><unitCode>123 </unitCode><unitName>\\xea\\xb5\\xac\\xeb\\xaf\\xb8</unitName></list><list><brofCode>610100</brofCode><brofName>\\xea\\xb5\\xac\\xeb\\xaf\\xb8</brofName><centerCode>905</centerCode><centerName>\\xeb\\x8c\\x80\\xea\\xb5\\xac\\xea\\xb2\\xbd\\xeb\\xb6\\x81\\xeb\\xb3\\xb8\\xeb\\xb6\\x80</centerName><inoutName>\\xec\\xb6\\x9c\\xea\\xb5\\xac</inoutName><stdDate>20240206</stdDate><stdHour>15  </stdHour><tcsCarTypeCd>6</tcsCarTypeCd><tcsCarTypeGrpCd>1</tcsCarTypeGrpCd><tcsCarTypeGrpNm>\\xec\\x86\\x8c\\xed\\x98\\x95\\xec\\xb0\\xa8</tcsCarTypeGrpNm><tcsCarTypeNm>6\\xec\\xa2\\x85</tcsCarTypeNm><trafficAmout>40</trafficAmout><unitCode>123 </unitCode><unitName>\\xea\\xb5\\xac\\xeb\\xaf\\xb8</unitName></list><list><brofCode>610100</brofCode><brofName>\\xea\\xb5\\xac\\xeb\\xaf\\xb8</brofName><centerCode>905</centerCode><centerName>\\xeb\\x8c\\x80\\xea\\xb5\\xac\\xea\\xb2\\xbd\\xeb\\xb6\\x81\\xeb\\xb3\\xb8\\xeb\\xb6\\x80</centerName><inoutName>\\xec\\x9e\\x85\\xea\\xb5\\xac</inoutName><stdDate>20240206</stdDate><stdHour>15  </stdHour><tcsCarTypeCd>1</tcsCarTypeCd><tcsCarTypeGrpCd>1</tcsCarTypeGrpCd><tcsCarTypeGrpNm>\\xec\\x86\\x8c\\xed\\x98\\x95\\xec\\xb0\\xa8</tcsCarTypeGrpNm><tcsCarTypeNm>1\\xec\\xa2\\x85</tcsCarTypeNm><trafficAmout>694</trafficAmout><unitCode>125 </unitCode><unitName>\\xeb\\x82\\xa8\\xea\\xb5\\xac\\xeb\\xaf\\xb8</unitName></list><list><brofCode>610100</brofCode><brofName>\\xea\\xb5\\xac\\xeb\\xaf\\xb8</brofName><centerCode>905</centerCode><centerName>\\xeb\\x8c\\x80\\xea\\xb5\\xac\\xea\\xb2\\xbd\\xeb\\xb6\\x81\\xeb\\xb3\\xb8\\xeb\\xb6\\x80</centerName><inoutName>\\xec\\xb6\\x9c\\xea\\xb5\\xac</inoutName><stdDate>20240206</stdDate><stdHour>15  </stdHour><tcsCarTypeCd>1</tcsCarTypeCd><tcsCarTypeGrpCd>1</tcsCarTypeGrpCd><tcsCarTypeGrpNm>\\xec\\x86\\x8c\\xed\\x98\\x95\\xec\\xb0\\xa8</tcsCarTypeGrpNm><tcsCarTypeNm>1\\xec\\xa2\\x85</tcsCarTypeNm><trafficAmout>595</trafficAmout><unitCode>125 </unitCode><unitName>\\xeb\\x82\\xa8\\xea\\xb5\\xac\\xeb\\xaf\\xb8</unitName></list><list><brofCode>610100</brofCode><brofName>\\xea\\xb5\\xac\\xeb\\xaf\\xb8</brofName><centerCode>905</centerCode><centerName>\\xeb\\x8c\\x80\\xea\\xb5\\xac\\xea\\xb2\\xbd\\xeb\\xb6\\x81\\xeb\\xb3\\xb8\\xeb\\xb6\\x80</centerName><inoutName>\\xec\\x9e\\x85\\xea\\xb5\\xac</inoutName><stdDate>20240206</stdDate><stdHour>15  </stdHour><tcsCarTypeCd>2</tcsCarTypeCd><tcsCarTypeGrpCd>2</tcsCarTypeGrpCd><tcsCarTypeGrpNm>\\xec\\xa4\\x91\\xed\\x98\\x95\\xec\\xb0\\xa8</tcsCarTypeGrpNm><tcsCarTypeNm>2\\xec\\xa2\\x85</tcsCarTypeNm><trafficAmout>33</trafficAmout><unitCode>125 </unitCode><unitName>\\xeb\\x82\\xa8\\xea\\xb5\\xac\\xeb\\xaf\\xb8</unitName></list><list><brofCode>610100</brofCode><brofName>\\xea\\xb5\\xac\\xeb\\xaf\\xb8</brofName><centerCode>905</centerCode><centerName>\\xeb\\x8c\\x80\\xea\\xb5\\xac\\xea\\xb2\\xbd\\xeb\\xb6\\x81\\xeb\\xb3\\xb8\\xeb\\xb6\\x80</centerName><inoutName>\\xec\\xb6\\x9c\\xea\\xb5\\xac</inoutName><stdDate>20240206</stdDate><stdHour>15  </stdHour><tcsCarTypeCd>2</tcsCarTypeCd><tcsCarTypeGrpCd>2</tcsCarTypeGrpCd><tcsCarTypeGrpNm>\\xec\\xa4\\x91\\xed\\x98\\x95\\xec\\xb0\\xa8</tcsCarTypeGrpNm><tcsCarTypeNm>2\\xec\\xa2\\x85</tcsCarTypeNm><trafficAmout>37</trafficAmout><unitCode>125 </unitCode><unitName>\\xeb\\x82\\xa8\\xea\\xb5\\xac\\xeb\\xaf\\xb8</unitName></list><list><brofCode>610100</brofCode><brofName>\\xea\\xb5\\xac\\xeb\\xaf\\xb8</brofName><centerCode>905</centerCode><centerName>\\xeb\\x8c\\x80\\xea\\xb5\\xac\\xea\\xb2\\xbd\\xeb\\xb6\\x81\\xeb\\xb3\\xb8\\xeb\\xb6\\x80</centerName><inoutName>\\xec\\x9e\\x85\\xea\\xb5\\xac</inoutName><stdDate>20240206</stdDate><stdHour>15  </stdHour><tcsCarTypeCd>3</tcsCarTypeCd><tcsCarTypeGrpCd>3</tcsCarTypeGrpCd><tcsCarTypeGrpNm>\\xeb\\x8c\\x80\\xed\\x98\\x95\\xec\\xb0\\xa8</tcsCarTypeGrpNm><tcsCarTypeNm>3\\xec\\xa2\\x85</tcsCarTypeNm><trafficAmout>28</trafficAmout><unitCode>125 </unitCode><unitName>\\xeb\\x82\\xa8\\xea\\xb5\\xac\\xeb\\xaf\\xb8</unitName></list><list><brofCode>610100</brofCode><brofName>\\xea\\xb5\\xac\\xeb\\xaf\\xb8</brofName><centerCode>905</centerCode><centerName>\\xeb\\x8c\\x80\\xea\\xb5\\xac\\xea\\xb2\\xbd\\xeb\\xb6\\x81\\xeb\\xb3\\xb8\\xeb\\xb6\\x80</centerName><inoutName>\\xec\\xb6\\x9c\\xea\\xb5\\xac</inoutName><stdDate>20240206</stdDate><stdHour>15  </stdHour><tcsCarTypeCd>3</tcsCarTypeCd><tcsCarTypeGrpCd>3</tcsCarTypeGrpCd><tcsCarTypeGrpNm>\\xeb\\x8c\\x80\\xed\\x98\\x95\\xec\\xb0\\xa8</tcsCarTypeGrpNm><tcsCarTypeNm>3\\xec\\xa2\\x85</tcsCarTypeNm><trafficAmout>42</trafficAmout><unitCode>125 </unitCode><unitName>\\xeb\\x82\\xa8\\xea\\xb5\\xac\\xeb\\xaf\\xb8</unitName></list><list><brofCode>610100</brofCode><brofName>\\xea\\xb5\\xac\\xeb\\xaf\\xb8</brofName><centerCode>905</centerCode><centerName>\\xeb\\x8c\\x80\\xea\\xb5\\xac\\xea\\xb2\\xbd\\xeb\\xb6\\x81\\xeb\\xb3\\xb8\\xeb\\xb6\\x80</centerName><inoutName>\\xec\\xb6\\x9c\\xea\\xb5\\xac</inoutName><stdDate>20240206</stdDate><stdHour>15  </stdHour><tcsCarTypeCd>4</tcsCarTypeCd><tcsCarTypeGrpCd>3</tcsCarTypeGrpCd><tcsCarTypeGrpNm>\\xeb\\x8c\\x80\\xed\\x98\\x95\\xec\\xb0\\xa8</tcsCarTypeGrpNm><tcsCarTypeNm>4\\xec\\xa2\\x85</tcsCarTypeNm><trafficAmout>47</trafficAmout><unitCode>125 </unitCode><unitName>\\xeb\\x82\\xa8\\xea\\xb5\\xac\\xeb\\xaf\\xb8</unitName></list><list><brofCode>610100</brofCode><brofName>\\xea\\xb5\\xac\\xeb\\xaf\\xb8</brofName><centerCode>905</centerCode><centerName>\\xeb\\x8c\\x80\\xea\\xb5\\xac\\xea\\xb2\\xbd\\xeb\\xb6\\x81\\xeb\\xb3\\xb8\\xeb\\xb6\\x80</centerName><inoutName>\\xec\\x9e\\x85\\xea\\xb5\\xac</inoutName><stdDate>20240206</stdDate><stdHour>15  </stdHour><tcsCarTypeCd>4</tcsCarTypeCd><tcsCarTypeGrpCd>3</tcsCarTypeGrpCd><tcsCarTypeGrpNm>\\xeb\\x8c\\x80\\xed\\x98\\x95\\xec\\xb0\\xa8</tcsCarTypeGrpNm><tcsCarTypeNm>4\\xec\\xa2\\x85</tcsCarTypeNm><trafficAmout>27</trafficAmout><unitCode>125 </unitCode><unitName>\\xeb\\x82\\xa8\\xea\\xb5\\xac\\xeb\\xaf\\xb8</unitName></list><list><brofCode>610100</brofCode><brofName>\\xea\\xb5\\xac\\xeb\\xaf\\xb8</brofName><centerCode>905</centerCode><centerName>\\xeb\\x8c\\x80\\xea\\xb5\\xac\\xea\\xb2\\xbd\\xeb\\xb6\\x81\\xeb\\xb3\\xb8\\xeb\\xb6\\x80</centerName><inoutName>\\xec\\x9e\\x85\\xea\\xb5\\xac</inoutName><stdDate>20240206</stdDate><stdHour>15  </stdHour><tcsCarTypeCd>5</tcsCarTypeCd><tcsCarTypeGrpCd>3</tcsCarTypeGrpCd><tcsCarTypeGrpNm>\\xeb\\x8c\\x80\\xed\\x98\\x95\\xec\\xb0\\xa8</tcsCarTypeGrpNm><tcsCarTypeNm>5\\xec\\xa2\\x85</tcsCarTypeNm><trafficAmout>67</trafficAmout><unitCode>125 </unitCode><unitName>\\xeb\\x82\\xa8\\xea\\xb5\\xac\\xeb\\xaf\\xb8</unitName></list><list><brofCode>610100</brofCode><brofName>\\xea\\xb5\\xac\\xeb\\xaf\\xb8</brofName><centerCode>905</centerCode><centerName>\\xeb\\x8c\\x80\\xea\\xb5\\xac\\xea\\xb2\\xbd\\xeb\\xb6\\x81\\xeb\\xb3\\xb8\\xeb\\xb6\\x80</centerName><inoutName>\\xec\\xb6\\x9c\\xea\\xb5\\xac</inoutName><stdDate>20240206</stdDate><stdHour>15  </stdHour><tcsCarTypeCd>5</tcsCarTypeCd><tcsCarTypeGrpCd>3</tcsCarTypeGrpCd><tcsCarTypeGrpNm>\\xeb\\x8c\\x80\\xed\\x98\\x95\\xec\\xb0\\xa8</tcsCarTypeGrpNm><tcsCarTypeNm>5\\xec\\xa2\\x85</tcsCarTypeNm><trafficAmout>57</trafficAmout><unitCode>125 </unitCode><unitName>\\xeb\\x82\\xa8\\xea\\xb5\\xac\\xeb\\xaf\\xb8</unitName></list><list><brofCode>610100</brofCode><brofName>\\xea\\xb5\\xac\\xeb\\xaf\\xb8</brofName><centerCode>905</centerCode><centerName>\\xeb\\x8c\\x80\\xea\\xb5\\xac\\xea\\xb2\\xbd\\xeb\\xb6\\x81\\xeb\\xb3\\xb8\\xeb\\xb6\\x80</centerName><inoutName>\\xec\\x9e\\x85\\xea\\xb5\\xac</inoutName><stdDate>20240206</stdDate><stdHour>15  </stdHour><tcsCarTypeCd>6</tcsCarTypeCd><tcsCarTypeGrpCd>1</tcsCarTypeGrpCd><tcsCarTypeGrpNm>\\xec\\x86\\x8c\\xed\\x98\\x95\\xec\\xb0\\xa8</tcsCarTypeGrpNm><tcsCarTypeNm>6\\xec\\xa2\\x85</tcsCarTypeNm><trafficAmout>26</trafficAmout><unitCode>125 </unitCode><unitName>\\xeb\\x82\\xa8\\xea\\xb5\\xac\\xeb\\xaf\\xb8</unitName></list><list><brofCode>610100</brofCode><brofName>\\xea\\xb5\\xac\\xeb\\xaf\\xb8</brofName><centerCode>905</centerCode><centerName>\\xeb\\x8c\\x80\\xea\\xb5\\xac\\xea\\xb2\\xbd\\xeb\\xb6\\x81\\xeb\\xb3\\xb8\\xeb\\xb6\\x80</centerName><inoutName>\\xec\\xb6\\x9c\\xea\\xb5\\xac</inoutName><stdDate>20240206</stdDate><stdHour>15  </stdHour><tcsCarTypeCd>6</tcsCarTypeCd><tcsCarTypeGrpCd>1</tcsCarTypeGrpCd><tcsCarTypeGrpNm>\\xec\\x86\\x8c\\xed\\x98\\x95\\xec\\xb0\\xa8</tcsCarTypeGrpNm><tcsCarTypeNm>6\\xec\\xa2\\x85</tcsCarTypeNm><trafficAmout>25</trafficAmout><unitCode>125 </unitCode><unitName>\\xeb\\x82\\xa8\\xea\\xb5\\xac\\xeb\\xaf\\xb8</unitName></list><list><brofCode>610100</brofCode><brofName>\\xea\\xb5\\xac\\xeb\\xaf\\xb8</brofName><centerCode>905</centerCode><centerName>\\xeb\\x8c\\x80\\xea\\xb5\\xac\\xea\\xb2\\xbd\\xeb\\xb6\\x81\\xeb\\xb3\\xb8\\xeb\\xb6\\x80</centerName><inoutName>\\xec\\x9e\\x85\\xea\\xb5\\xac</inoutName><stdDate>20240206</stdDate><stdHour>15  </stdHour><tcsCarTypeCd>1</tcsCarTypeCd><tcsCarTypeGrpCd>1</tcsCarTypeGrpCd><tcsCarTypeGrpNm>\\xec\\x86\\x8c\\xed\\x98\\x95\\xec\\xb0\\xa8</tcsCarTypeGrpNm><tcsCarTypeNm>1\\xec\\xa2\\x85</tcsCarTypeNm><trafficAmout>779</trafficAmout><unitCode>126 </unitCode><unitName>\\xec\\x99\\x9c\\xea\\xb4\\x80</unitName></list><list><brofCode>610100</brofCode><brofName>\\xea\\xb5\\xac\\xeb\\xaf\\xb8</brofName><centerCode>905</centerCode><centerName>\\xeb\\x8c\\x80\\xea\\xb5\\xac\\xea\\xb2\\xbd\\xeb\\xb6\\x81\\xeb\\xb3\\xb8\\xeb\\xb6\\x80</centerName><inoutName>\\xec\\xb6\\x9c\\xea\\xb5\\xac</inoutName><stdDate>20240206</stdDate><stdHour>15  </stdHour><tcsCarTypeCd>1</tcsCarTypeCd><tcsCarTypeGrpCd>1</tcsCarTypeGrpCd><tcsCarTypeGrpNm>\\xec\\x86\\x8c\\xed\\x98\\x95\\xec\\xb0\\xa8</tcsCarTypeGrpNm><tcsCarTypeNm>1\\xec\\xa2\\x85</tcsCarTypeNm><trafficAmout>716</trafficAmout><unitCode>126 </unitCode><unitName>\\xec\\x99\\x9c\\xea\\xb4\\x80</unitName></list><list><brofCode>610100</brofCode><brofName>\\xea\\xb5\\xac\\xeb\\xaf\\xb8</brofName><centerCode>905</centerCode><centerName>\\xeb\\x8c\\x80\\xea\\xb5\\xac\\xea\\xb2\\xbd\\xeb\\xb6\\x81\\xeb\\xb3\\xb8\\xeb\\xb6\\x80</centerName><inoutName>\\xec\\x9e\\x85\\xea\\xb5\\xac</inoutName><stdDate>20240206</stdDate><stdHour>15  </stdHour><tcsCarTypeCd>2</tcsCarTypeCd><tcsCarTypeGrpCd>2</tcsCarTypeGrpCd><tcsCarTypeGrpNm>\\xec\\xa4\\x91\\xed\\x98\\x95\\xec\\xb0\\xa8</tcsCarTypeGrpNm><tcsCarTypeNm>2\\xec\\xa2\\x85</tcsCarTypeNm><trafficAmout>42</trafficAmout><unitCode>126 </unitCode><unitName>\\xec\\x99\\x9c\\xea\\xb4\\x80</unitName></list><list><brofCode>610100</brofCode><brofName>\\xea\\xb5\\xac\\xeb\\xaf\\xb8</brofName><centerCode>905</centerCode><centerName>\\xeb\\x8c\\x80\\xea\\xb5\\xac\\xea\\xb2\\xbd\\xeb\\xb6\\x81\\xeb\\xb3\\xb8\\xeb\\xb6\\x80</centerName><inoutName>\\xec\\xb6\\x9c\\xea\\xb5\\xac</inoutName><stdDate>20240206</stdDate><stdHour>15  </stdHour><tcsCarTypeCd>2</tcsCarTypeCd><tcsCarTypeGrpCd>2</tcsCarTypeGrpCd><tcsCarTypeGrpNm>\\xec\\xa4\\x91\\xed\\x98\\x95\\xec\\xb0\\xa8</tcsCarTypeGrpNm><tcsCarTypeNm>2\\xec\\xa2\\x85</tcsCarTypeNm><trafficAmout>56</trafficAmout><unitCode>126 </unitCode><unitName>\\xec\\x99\\x9c\\xea\\xb4\\x80</unitName></list><list><brofCode>610100</brofCode><brofName>\\xea\\xb5\\xac\\xeb\\xaf\\xb8</brofName><centerCode>905</centerCode><centerName>\\xeb\\x8c\\x80\\xea\\xb5\\xac\\xea\\xb2\\xbd\\xeb\\xb6\\x81\\xeb\\xb3\\xb8\\xeb\\xb6\\x80</centerName><inoutName>\\xec\\x9e\\x85\\xea\\xb5\\xac</inoutName><stdDate>20240206</stdDate><stdHour>15  </stdHour><tcsCarTypeCd>3</tcsCarTypeCd><tcsCarTypeGrpCd>3</tcsCarTypeGrpCd><tcsCarTypeGrpNm>\\xeb\\x8c\\x80\\xed\\x98\\x95\\xec\\xb0\\xa8</tcsCarTypeGrpNm><tcsCarTypeNm>3\\xec\\xa2\\x85</tcsCarTypeNm><trafficAmout>21</trafficAmout><unitCode>126 </unitCode><unitName>\\xec\\x99\\x9c\\xea\\xb4\\x80</unitName></list><list><brofCode>610100</brofCode><brofName>\\xea\\xb5\\xac\\xeb\\xaf\\xb8</brofName><centerCode>905</centerCode><centerName>\\xeb\\x8c\\x80\\xea\\xb5\\xac\\xea\\xb2\\xbd\\xeb\\xb6\\x81\\xeb\\xb3\\xb8\\xeb\\xb6\\x80</centerName><inoutName>\\xec\\xb6\\x9c\\xea\\xb5\\xac</inoutName><stdDate>20240206</stdDate><stdHour>15  </stdHour><tcsCarTypeCd>3</tcsCarTypeCd><tcsCarTypeGrpCd>3</tcsCarTypeGrpCd><tcsCarTypeGrpNm>\\xeb\\x8c\\x80\\xed\\x98\\x95\\xec\\xb0\\xa8</tcsCarTypeGrpNm><tcsCarTypeNm>3\\xec\\xa2\\x85</tcsCarTypeNm><trafficAmout>57</trafficAmout><unitCode>126 </unitCode><unitName>\\xec\\x99\\x9c\\xea\\xb4\\x80</unitName></list><list><brofCode>610100</brofCode><brofName>\\xea\\xb5\\xac\\xeb\\xaf\\xb8</brofName><centerCode>905</centerCode><centerName>\\xeb\\x8c\\x80\\xea\\xb5\\xac\\xea\\xb2\\xbd\\xeb\\xb6\\x81\\xeb\\xb3\\xb8\\xeb\\xb6\\x80</centerName><inoutName>\\xec\\xb6\\x9c\\xea\\xb5\\xac</inoutName><stdDate>20240206</stdDate><stdHour>15  </stdHour><tcsCarTypeCd>4</tcsCarTypeCd><tcsCarTypeGrpCd>3</tcsCarTypeGrpCd><tcsCarTypeGrpNm>\\xeb\\x8c\\x80\\xed\\x98\\x95\\xec\\xb0\\xa8</tcsCarTypeGrpNm><tcsCarTypeNm>4\\xec\\xa2\\x85</tcsCarTypeNm><trafficAmout>48</trafficAmout><unitCode>126 </unitCode><unitName>\\xec\\x99\\x9c\\xea\\xb4\\x80</unitName></list><list><brofCode>610100</brofCode><brofName>\\xea\\xb5\\xac\\xeb\\xaf\\xb8</brofName><centerCode>905</centerCode><centerName>\\xeb\\x8c\\x80\\xea\\xb5\\xac\\xea\\xb2\\xbd\\xeb\\xb6\\x81\\xeb\\xb3\\xb8\\xeb\\xb6\\x80</centerName><inoutName>\\xec\\x9e\\x85\\xea\\xb5\\xac</inoutName><stdDate>20240206</stdDate><stdHour>15  </stdHour><tcsCarTypeCd>4</tcsCarTypeCd><tcsCarTypeGrpCd>3</tcsCarTypeGrpCd><tcsCarTypeGrpNm>\\xeb\\x8c\\x80\\xed\\x98\\x95\\xec\\xb0\\xa8</tcsCarTypeGrpNm><tcsCarTypeNm>4\\xec\\xa2\\x85</tcsCarTypeNm><trafficAmout>25</trafficAmout><unitCode>126 </unitCode><unitName>\\xec\\x99\\x9c\\xea\\xb4\\x80</unitName></list><list><brofCode>610100</brofCode><brofName>\\xea\\xb5\\xac\\xeb\\xaf\\xb8</brofName><centerCode>905</centerCode><centerName>\\xeb\\x8c\\x80\\xea\\xb5\\xac\\xea\\xb2\\xbd\\xeb\\xb6\\x81\\xeb\\xb3\\xb8\\xeb\\xb6\\x80</centerName><inoutName>\\xec\\x9e\\x85\\xea\\xb5\\xac</inoutName><stdDate>20240206</stdDate><stdHour>15  </stdHour><tcsCarTypeCd>5</tcsCarTypeCd><tcsCarTypeGrpCd>3</tcsCarTypeGrpCd><tcsCarTypeGrpNm>\\xeb\\x8c\\x80\\xed\\x98\\x95\\xec\\xb0\\xa8</tcsCarTypeGrpNm><tcsCarTypeNm>5\\xec\\xa2\\x85</tcsCarTypeNm><trafficAmout>58</trafficAmout><unitCode>126 </unitCode><unitName>\\xec\\x99\\x9c\\xea\\xb4\\x80</unitName></list><list><brofCode>610100</brofCode><brofName>\\xea\\xb5\\xac\\xeb\\xaf\\xb8</brofName><centerCode>905</centerCode><centerName>\\xeb\\x8c\\x80\\xea\\xb5\\xac\\xea\\xb2\\xbd\\xeb\\xb6\\x81\\xeb\\xb3\\xb8\\xeb\\xb6\\x80</centerName><inoutName>\\xec\\xb6\\x9c\\xea\\xb5\\xac</inoutName><stdDate>20240206</stdDate><stdHour>15  </stdHour><tcsCarTypeCd>5</tcsCarTypeCd><tcsCarTypeGrpCd>3</tcsCarTypeGrpCd><tcsCarTypeGrpNm>\\xeb\\x8c\\x80\\xed\\x98\\x95\\xec\\xb0\\xa8</tcsCarTypeGrpNm><tcsCarTypeNm>5\\xec\\xa2\\x85</tcsCarTypeNm><trafficAmout>51</trafficAmout><unitCode>126 </unitCode><unitName>\\xec\\x99\\x9c\\xea\\xb4\\x80</unitName></list><list><brofCode>610100</brofCode><brofName>\\xea\\xb5\\xac\\xeb\\xaf\\xb8</brofName><centerCode>905</centerCode><centerName>\\xeb\\x8c\\x80\\xea\\xb5\\xac\\xea\\xb2\\xbd\\xeb\\xb6\\x81\\xeb\\xb3\\xb8\\xeb\\xb6\\x80</centerName><inoutName>\\xec\\x9e\\x85\\xea\\xb5\\xac</inoutName><stdDate>20240206</stdDate><stdHour>15  </stdHour><tcsCarTypeCd>6</tcsCarTypeCd><tcsCarTypeGrpCd>1</tcsCarTypeGrpCd><tcsCarTypeGrpNm>\\xec\\x86\\x8c\\xed\\x98\\x95\\xec\\xb0\\xa8</tcsCarTypeGrpNm><tcsCarTypeNm>6\\xec\\xa2\\x85</tcsCarTypeNm><trafficAmout>28</trafficAmout><unitCode>126 </unitCode><unitName>\\xec\\x99\\x9c\\xea\\xb4\\x80</unitName></list><list><brofCode>610100</brofCode><brofName>\\xea\\xb5\\xac\\xeb\\xaf\\xb8</brofName><centerCode>905</centerCode><centerName>\\xeb\\x8c\\x80\\xea\\xb5\\xac\\xea\\xb2\\xbd\\xeb\\xb6\\x81\\xeb\\xb3\\xb8\\xeb\\xb6\\x80</centerName><inoutName>\\xec\\xb6\\x9c\\xea\\xb5\\xac</inoutName><stdDate>20240206</stdDate><stdHour>15  </stdHour><tcsCarTypeCd>6</tcsCarTypeCd><tcsCarTypeGrpCd>1</tcsCarTypeGrpCd><tcsCarTypeGrpNm>\\xec\\x86\\x8c\\xed\\x98\\x95\\xec\\xb0\\xa8</tcsCarTypeGrpNm><tcsCarTypeNm>6\\xec\\xa2\\x85</tcsCarTypeNm><trafficAmout>25</trafficAmout><unitCode>126 </unitCode><unitName>\\xec\\x99\\x9c\\xea\\xb4\\x80</unitName></list><list><brofCode>610100</brofCode><brofName>\\xea\\xb5\\xac\\xeb\\xaf\\xb8</brofName><centerCode>905</centerCode><centerName>\\xeb\\x8c\\x80\\xea\\xb5\\xac\\xea\\xb2\\xbd\\xeb\\xb6\\x81\\xeb\\xb3\\xb8\\xeb\\xb6\\x80</centerName><inoutName>\\xec\\x9e\\x85\\xea\\xb5\\xac</inoutName><stdDate>20240206</stdDate><stdHour>15  </stdHour><tcsCarTypeCd>1</tcsCarTypeCd><tcsCarTypeGrpCd>1</tcsCarTypeGrpCd><tcsCarTypeGrpNm>\\xec\\x86\\x8c\\xed\\x98\\x95\\xec\\xb0\\xa8</tcsCarTypeGrpNm><tcsCarTypeNm>1\\xec\\xa2\\x85</tcsCarTypeNm><trafficAmout>405</trafficAmout><unitCode>130 </unitCode><unitName>\\xeb\\x8f\\x99\\xea\\xb9\\x80\\xec\\xb2\\x9c</unitName></list><list><brofCode>610100</brofCode><brofName>\\xea\\xb5\\xac\\xeb\\xaf\\xb8</brofName><centerCode>905</centerCode><centerName>\\xeb\\x8c\\x80\\xea\\xb5\\xac\\xea\\xb2\\xbd\\xeb\\xb6\\x81\\xeb\\xb3\\xb8\\xeb\\xb6\\x80</centerName><inoutName>\\xec\\xb6\\x9c\\xea\\xb5\\xac</inoutName><stdDate>20240206</stdDate><stdHour>15  </stdHour><tcsCarTypeCd>1</tcsCarTypeCd><tcsCarTypeGrpCd>1</tcsCarTypeGrpCd><tcsCarTypeGrpNm>\\xec\\x86\\x8c\\xed\\x98\\x95\\xec\\xb0\\xa8</tcsCarTypeGrpNm><tcsCarTypeNm>1\\xec\\xa2\\x85</tcsCarTypeNm><trafficAmout>311</trafficAmout><unitCode>130 </unitCode><unitName>\\xeb\\x8f\\x99\\xea\\xb9\\x80\\xec\\xb2\\x9c</unitName></list><list><brofCode>610100</brofCode><brofName>\\xea\\xb5\\xac\\xeb\\xaf\\xb8</brofName><centerCode>905</centerCode><centerName>\\xeb\\x8c\\x80\\xea\\xb5\\xac\\xea\\xb2\\xbd\\xeb\\xb6\\x81\\xeb\\xb3\\xb8\\xeb\\xb6\\x80</centerName><inoutName>\\xec\\x9e\\x85\\xea\\xb5\\xac</inoutName><stdDate>20240206</stdDate><stdHour>15  </stdHour><tcsCarTypeCd>2</tcsCarTypeCd><tcsCarTypeGrpCd>2</tcsCarTypeGrpCd><tcsCarTypeGrpNm>\\xec\\xa4\\x91\\xed\\x98\\x95\\xec\\xb0\\xa8</tcsCarTypeGrpNm><tcsCarTypeNm>2\\xec\\xa2\\x85</tcsCarTypeNm><trafficAmout>10</trafficAmout><unitCode>130 </unitCode><unitName>\\xeb\\x8f\\x99\\xea\\xb9\\x80\\xec\\xb2\\x9c</unitName></list><list><brofCode>610100</brofCode><brofName>\\xea\\xb5\\xac\\xeb\\xaf\\xb8</brofName><centerCode>905</centerCode><centerName>\\xeb\\x8c\\x80\\xea\\xb5\\xac\\xea\\xb2\\xbd\\xeb\\xb6\\x81\\xeb\\xb3\\xb8\\xeb\\xb6\\x80</centerName><inoutName>\\xec\\xb6\\x9c\\xea\\xb5\\xac</inoutName><stdDate>20240206</stdDate><stdHour>15  </stdHour><tcsCarTypeCd>2</tcsCarTypeCd><tcsCarTypeGrpCd>2</tcsCarTypeGrpCd><tcsCarTypeGrpNm>\\xec\\xa4\\x91\\xed\\x98\\x95\\xec\\xb0\\xa8</tcsCarTypeGrpNm><tcsCarTypeNm>2\\xec\\xa2\\x85</tcsCarTypeNm><trafficAmout>11</trafficAmout><unitCode>130 </unitCode><unitName>\\xeb\\x8f\\x99\\xea\\xb9\\x80\\xec\\xb2\\x9c</unitName></list><list><brofCode>610100</brofCode><brofName>\\xea\\xb5\\xac\\xeb\\xaf\\xb8</brofName><centerCode>905</centerCode><centerName>\\xeb\\x8c\\x80\\xea\\xb5\\xac\\xea\\xb2\\xbd\\xeb\\xb6\\x81\\xeb\\xb3\\xb8\\xeb\\xb6\\x80</centerName><inoutName>\\xec\\x9e\\x85\\xea\\xb5\\xac</inoutName><stdDate>20240206</stdDate><stdHour>15  </stdHour><tcsCarTypeCd>3</tcsCarTypeCd><tcsCarTypeGrpCd>3</tcsCarTypeGrpCd><tcsCarTypeGrpNm>\\xeb\\x8c\\x80\\xed\\x98\\x95\\xec\\xb0\\xa8</tcsCarTypeGrpNm><tcsCarTypeNm>3\\xec\\xa2\\x85</tcsCarTypeNm><trafficAmout>9</trafficAmout><unitCode>130 </unitCode><unitName>\\xeb\\x8f\\x99\\xea\\xb9\\x80\\xec\\xb2\\x9c</unitName></list><list><brofCode>610100</brofCode><brofName>\\xea\\xb5\\xac\\xeb\\xaf\\xb8</brofName><centerCode>905</centerCode><centerName>\\xeb\\x8c\\x80\\xea\\xb5\\xac\\xea\\xb2\\xbd\\xeb\\xb6\\x81\\xeb\\xb3\\xb8\\xeb\\xb6\\x80</centerName><inoutName>\\xec\\xb6\\x9c\\xea\\xb5\\xac</inoutName><stdDate>20240206</stdDate><stdHour>15  </stdHour><tcsCarTypeCd>3</tcsCarTypeCd><tcsCarTypeGrpCd>3</tcsCarTypeGrpCd><tcsCarTypeGrpNm>\\xeb\\x8c\\x80\\xed\\x98\\x95\\xec\\xb0\\xa8</tcsCarTypeGrpNm><tcsCarTypeNm>3\\xec\\xa2\\x85</tcsCarTypeNm><trafficAmout>36</trafficAmout><unitCode>130 </unitCode><unitName>\\xeb\\x8f\\x99\\xea\\xb9\\x80\\xec\\xb2\\x9c</unitName></list><list><brofCode>610100</brofCode><brofName>\\xea\\xb5\\xac\\xeb\\xaf\\xb8</brofName><centerCode>905</centerCode><centerName>\\xeb\\x8c\\x80\\xea\\xb5\\xac\\xea\\xb2\\xbd\\xeb\\xb6\\x81\\xeb\\xb3\\xb8\\xeb\\xb6\\x80</centerName><inoutName>\\xec\\xb6\\x9c\\xea\\xb5\\xac</inoutName><stdDate>20240206</stdDate><stdHour>15  </stdHour><tcsCarTypeCd>4</tcsCarTypeCd><tcsCarTypeGrpCd>3</tcsCarTypeGrpCd><tcsCarTypeGrpNm>\\xeb\\x8c\\x80\\xed\\x98\\x95\\xec\\xb0\\xa8</tcsCarTypeGrpNm><tcsCarTypeNm>4\\xec\\xa2\\x85</tcsCarTypeNm><trafficAmout>18</trafficAmout><unitCode>130 </unitCode><unitName>\\xeb\\x8f\\x99\\xea\\xb9\\x80\\xec\\xb2\\x9c</unitName></list><list><brofCode>610100</brofCode><brofName>\\xea\\xb5\\xac\\xeb\\xaf\\xb8</brofName><centerCode>905</centerCode><centerName>\\xeb\\x8c\\x80\\xea\\xb5\\xac\\xea\\xb2\\xbd\\xeb\\xb6\\x81\\xeb\\xb3\\xb8\\xeb\\xb6\\x80</centerName><inoutName>\\xec\\x9e\\x85\\xea\\xb5\\xac</inoutName><stdDate>20240206</stdDate><stdHour>15  </stdHour><tcsCarTypeCd>4</tcsCarTypeCd><tcsCarTypeGrpCd>3</tcsCarTypeGrpCd><tcsCarTypeGrpNm>\\xeb\\x8c\\x80\\xed\\x98\\x95\\xec\\xb0\\xa8</tcsCarTypeGrpNm><tcsCarTypeNm>4\\xec\\xa2\\x85</tcsCarTypeNm><trafficAmout>9</trafficAmout><unitCode>130 </unitCode><unitName>\\xeb\\x8f\\x99\\xea\\xb9\\x80\\xec\\xb2\\x9c</unitName></list><list><brofCode>610100</brofCode><brofName>\\xea\\xb5\\xac\\xeb\\xaf\\xb8</brofName><centerCode>905</centerCode><centerName>\\xeb\\x8c\\x80\\xea\\xb5\\xac\\xea\\xb2\\xbd\\xeb\\xb6\\x81\\xeb\\xb3\\xb8\\xeb\\xb6\\x80</centerName><inoutName>\\xec\\x9e\\x85\\xea\\xb5\\xac</inoutName><stdDate>20240206</stdDate><stdHour>15  </stdHour><tcsCarTypeCd>5</tcsCarTypeCd><tcsCarTypeGrpCd>3</tcsCarTypeGrpCd><tcsCarTypeGrpNm>\\xeb\\x8c\\x80\\xed\\x98\\x95\\xec\\xb0\\xa8</tcsCarTypeGrpNm><tcsCarTypeNm>5\\xec\\xa2\\x85</tcsCarTypeNm><trafficAmout>38</trafficAmout><unitCode>130 </unitCode><unitName>\\xeb\\x8f\\x99\\xea\\xb9\\x80\\xec\\xb2\\x9c</unitName></list><list><brofCode>610100</brofCode><brofName>\\xea\\xb5\\xac\\xeb\\xaf\\xb8</brofName><centerCode>905</centerCode><centerName>\\xeb\\x8c\\x80\\xea\\xb5\\xac\\xea\\xb2\\xbd\\xeb\\xb6\\x81\\xeb\\xb3\\xb8\\xeb\\xb6\\x80</centerName><inoutName>\\xec\\xb6\\x9c\\xea\\xb5\\xac</inoutName><stdDate>20240206</stdDate><stdHour>15  </stdHour><tcsCarTypeCd>5</tcsCarTypeCd><tcsCarTypeGrpCd>3</tcsCarTypeGrpCd><tcsCarTypeGrpNm>\\xeb\\x8c\\x80\\xed\\x98\\x95\\xec\\xb0\\xa8</tcsCarTypeGrpNm><tcsCarTypeNm>5\\xec\\xa2\\x85</tcsCarTypeNm><trafficAmout>30</trafficAmout><unitCode>130 </unitCode><unitName>\\xeb\\x8f\\x99\\xea\\xb9\\x80\\xec\\xb2\\x9c</unitName></list><list><brofCode>610100</brofCode><brofName>\\xea\\xb5\\xac\\xeb\\xaf\\xb8</brofName><centerCode>905</centerCode><centerName>\\xeb\\x8c\\x80\\xea\\xb5\\xac\\xea\\xb2\\xbd\\xeb\\xb6\\x81\\xeb\\xb3\\xb8\\xeb\\xb6\\x80</centerName><inoutName>\\xec\\x9e\\x85\\xea\\xb5\\xac</inoutName><stdDate>20240206</stdDate><stdHour>15  </stdHour><tcsCarTypeCd>6</tcsCarTypeCd><tcsCarTypeGrpCd>1</tcsCarTypeGrpCd><tcsCarTypeGrpNm>\\xec\\x86\\x8c\\xed\\x98\\x95\\xec\\xb0\\xa8</tcsCarTypeGrpNm><tcsCarTypeNm>6\\xec\\xa2\\x85</tcsCarTypeNm><trafficAmout>19</trafficAmout><unitCode>130 </unitCode><unitName>\\xeb\\x8f\\x99\\xea\\xb9\\x80\\xec\\xb2\\x9c</unitName></list><list><brofCode>610100</brofCode><brofName>\\xea\\xb5\\xac\\xeb\\xaf\\xb8</brofName><centerCode>905</centerCode><centerName>\\xeb\\x8c\\x80\\xea\\xb5\\xac\\xea\\xb2\\xbd\\xeb\\xb6\\x81\\xeb\\xb3\\xb8\\xeb\\xb6\\x80</centerName><inoutName>\\xec\\xb6\\x9c\\xea\\xb5\\xac</inoutName><stdDate>20240206</stdDate><stdHour>15  </stdHour><tcsCarTypeCd>6</tcsCarTypeCd><tcsCarTypeGrpCd>1</tcsCarTypeGrpCd><tcsCarTypeGrpNm>\\xec\\x86\\x8c\\xed\\x98\\x95\\xec\\xb0\\xa8</tcsCarTypeGrpNm><tcsCarTypeNm>6\\xec\\xa2\\x85</tcsCarTypeNm><trafficAmout>17</trafficAmout><unitCode>130 </unitCode><unitName>\\xeb\\x8f\\x99\\xea\\xb9\\x80\\xec\\xb2\\x9c</unitName></list><list><brofCode>610100</brofCode><brofName>\\xea\\xb5\\xac\\xeb\\xaf\\xb8</brofName><centerCode>905</centerCode><centerName>\\xeb\\x8c\\x80\\xea\\xb5\\xac\\xea\\xb2\\xbd\\xeb\\xb6\\x81\\xeb\\xb3\\xb8\\xeb\\xb6\\x80</centerName><inoutName>\\xec\\x9e\\x85\\xea\\xb5\\xac</inoutName><stdDate>20240206</stdDate><stdHour>15  </stdHour><tcsCarTypeCd>1</tcsCarTypeCd><tcsCarTypeGrpCd>1</tcsCarTypeGrpCd><tcsCarTypeGrpNm>\\xec\\x86\\x8c\\xed\\x98\\x95\\xec\\xb0\\xa8</tcsCarTypeGrpNm><tcsCarTypeNm>1\\xec\\xa2\\x85</tcsCarTypeNm><trafficAmout>265</trafficAmout><unitCode>518 </unitCode><unitName>\\xec\\xb9\\xa0\\xea\\xb3\\xa1\\xeb\\xac\\xbc\\xeb\\xa5\\x98</unitName></list><list><brofCode>610100</brofCode><brofName>\\xea\\xb5\\xac\\xeb\\xaf\\xb8</brofName><centerCode>905</centerCode><centerName>\\xeb\\x8c\\x80\\xea\\xb5\\xac\\xea\\xb2\\xbd\\xeb\\xb6\\x81\\xeb\\xb3\\xb8\\xeb\\xb6\\x80</centerName><inoutName>\\xec\\xb6\\x9c\\xea\\xb5\\xac</inoutName><stdDate>20240206</stdDate><stdHour>15  </stdHour><tcsCarTypeCd>1</tcsCarTypeCd><tcsCarTypeGrpCd>1</tcsCarTypeGrpCd><tcsCarTypeGrpNm>\\xec\\x86\\x8c\\xed\\x98\\x95\\xec\\xb0\\xa8</tcsCarTypeGrpNm><tcsCarTypeNm>1\\xec\\xa2\\x85</tcsCarTypeNm><trafficAmout>210</trafficAmout><unitCode>518 </unitCode><unitName>\\xec\\xb9\\xa0\\xea\\xb3\\xa1\\xeb\\xac\\xbc\\xeb\\xa5\\x98</unitName></list><list><brofCode>610100</brofCode><brofName>\\xea\\xb5\\xac\\xeb\\xaf\\xb8</brofName><centerCode>905</centerCode><centerName>\\xeb\\x8c\\x80\\xea\\xb5\\xac\\xea\\xb2\\xbd\\xeb\\xb6\\x81\\xeb\\xb3\\xb8\\xeb\\xb6\\x80</centerName><inoutName>\\xec\\x9e\\x85\\xea\\xb5\\xac</inoutName><stdDate>20240206</stdDate><stdHour>15  </stdHour><tcsCarTypeCd>2</tcsCarTypeCd><tcsCarTypeGrpCd>2</tcsCarTypeGrpCd><tcsCarTypeGrpNm>\\xec\\xa4\\x91\\xed\\x98\\x95\\xec\\xb0\\xa8</tcsCarTypeGrpNm><tcsCarTypeNm>2\\xec\\xa2\\x85</tcsCarTypeNm><trafficAmout>18</trafficAmout><unitCode>518 </unitCode><unitName>\\xec\\xb9\\xa0\\xea\\xb3\\xa1\\xeb\\xac\\xbc\\xeb\\xa5\\x98</unitName></list><list><brofCode>610100</brofCode><brofName>\\xea\\xb5\\xac\\xeb\\xaf\\xb8</brofName><centerCode>905</centerCode><centerName>\\xeb\\x8c\\x80\\xea\\xb5\\xac\\xea\\xb2\\xbd\\xeb\\xb6\\x81\\xeb\\xb3\\xb8\\xeb\\xb6\\x80</centerName><inoutName>\\xec\\xb6\\x9c\\xea\\xb5\\xac</inoutName><stdDate>20240206</stdDate><stdHour>15  </stdHour><tcsCarTypeCd>2</tcsCarTypeCd><tcsCarTypeGrpCd>2</tcsCarTypeGrpCd><tcsCarTypeGrpNm>\\xec\\xa4\\x91\\xed\\x98\\x95\\xec\\xb0\\xa8</tcsCarTypeGrpNm><tcsCarTypeNm>2\\xec\\xa2\\x85</tcsCarTypeNm><trafficAmout>37</trafficAmout><unitCode>518 </unitCode><unitName>\\xec\\xb9\\xa0\\xea\\xb3\\xa1\\xeb\\xac\\xbc\\xeb\\xa5\\x98</unitName></list><list><brofCode>610100</brofCode><brofName>\\xea\\xb5\\xac\\xeb\\xaf\\xb8</brofName><centerCode>905</centerCode><centerName>\\xeb\\x8c\\x80\\xea\\xb5\\xac\\xea\\xb2\\xbd\\xeb\\xb6\\x81\\xeb\\xb3\\xb8\\xeb\\xb6\\x80</centerName><inoutName>\\xec\\x9e\\x85\\xea\\xb5\\xac</inoutName><stdDate>20240206</stdDate><stdHour>15  </stdHour><tcsCarTypeCd>3</tcsCarTypeCd><tcsCarTypeGrpCd>3</tcsCarTypeGrpCd><tcsCarTypeGrpNm>\\xeb\\x8c\\x80\\xed\\x98\\x95\\xec\\xb0\\xa8</tcsCarTypeGrpNm><tcsCarTypeNm>3\\xec\\xa2\\x85</tcsCarTypeNm><trafficAmout>13</trafficAmout><unitCode>518 </unitCode><unitName>\\xec\\xb9\\xa0\\xea\\xb3\\xa1\\xeb\\xac\\xbc\\xeb\\xa5\\x98</unitName></list><list><brofCode>610100</brofCode><brofName>\\xea\\xb5\\xac\\xeb\\xaf\\xb8</brofName><centerCode>905</centerCode><centerName>\\xeb\\x8c\\x80\\xea\\xb5\\xac\\xea\\xb2\\xbd\\xeb\\xb6\\x81\\xeb\\xb3\\xb8\\xeb\\xb6\\x80</centerName><inoutName>\\xec\\xb6\\x9c\\xea\\xb5\\xac</inoutName><stdDate>20240206</stdDate><stdHour>15  </stdHour><tcsCarTypeCd>3</tcsCarTypeCd><tcsCarTypeGrpCd>3</tcsCarTypeGrpCd><tcsCarTypeGrpNm>\\xeb\\x8c\\x80\\xed\\x98\\x95\\xec\\xb0\\xa8</tcsCarTypeGrpNm><tcsCarTypeNm>3\\xec\\xa2\\x85</tcsCarTypeNm><trafficAmout>55</trafficAmout><unitCode>518 </unitCode><unitName>\\xec\\xb9\\xa0\\xea\\xb3\\xa1\\xeb\\xac\\xbc\\xeb\\xa5\\x98</unitName></list><list><brofCode>610100</brofCode><brofName>\\xea\\xb5\\xac\\xeb\\xaf\\xb8</brofName><centerCode>905</centerCode><centerName>\\xeb\\x8c\\x80\\xea\\xb5\\xac\\xea\\xb2\\xbd\\xeb\\xb6\\x81\\xeb\\xb3\\xb8\\xeb\\xb6\\x80</centerName><inoutName>\\xec\\xb6\\x9c\\xea\\xb5\\xac</inoutName><stdDate>20240206</stdDate><stdHour>15  </stdHour><tcsCarTypeCd>4</tcsCarTypeCd><tcsCarTypeGrpCd>3</tcsCarTypeGrpCd><tcsCarTypeGrpNm>\\xeb\\x8c\\x80\\xed\\x98\\x95\\xec\\xb0\\xa8</tcsCarTypeGrpNm><tcsCarTypeNm>4\\xec\\xa2\\x85</tcsCarTypeNm><trafficAmout>60</trafficAmout><unitCode>518 </unitCode><unitName>\\xec\\xb9\\xa0\\xea\\xb3\\xa1\\xeb\\xac\\xbc\\xeb\\xa5\\x98</unitName></list><list><brofCode>610100</brofCode><brofName>\\xea\\xb5\\xac\\xeb\\xaf\\xb8</brofName><centerCode>905</centerCode><centerName>\\xeb\\x8c\\x80\\xea\\xb5\\xac\\xea\\xb2\\xbd\\xeb\\xb6\\x81\\xeb\\xb3\\xb8\\xeb\\xb6\\x80</centerName><inoutName>\\xec\\x9e\\x85\\xea\\xb5\\xac</inoutName><stdDate>20240206</stdDate><stdHour>15  </stdHour><tcsCarTypeCd>4</tcsCarTypeCd><tcsCarTypeGrpCd>3</tcsCarTypeGrpCd><tcsCarTypeGrpNm>\\xeb\\x8c\\x80\\xed\\x98\\x95\\xec\\xb0\\xa8</tcsCarTypeGrpNm><tcsCarTypeNm>4\\xec\\xa2\\x85</tcsCarTypeNm><trafficAmout>24</trafficAmout><unitCode>518 </unitCode><unitName>\\xec\\xb9\\xa0\\xea\\xb3\\xa1\\xeb\\xac\\xbc\\xeb\\xa5\\x98</unitName></list><list><brofCode>610100</brofCode><brofName>\\xea\\xb5\\xac\\xeb\\xaf\\xb8</brofName><centerCode>905</centerCode><centerName>\\xeb\\x8c\\x80\\xea\\xb5\\xac\\xea\\xb2\\xbd\\xeb\\xb6\\x81\\xeb\\xb3\\xb8\\xeb\\xb6\\x80</centerName><inoutName>\\xec\\x9e\\x85\\xea\\xb5\\xac</inoutName><stdDate>20240206</stdDate><stdHour>15  </stdHour><tcsCarTypeCd>5</tcsCarTypeCd><tcsCarTypeGrpCd>3</tcsCarTypeGrpCd><tcsCarTypeGrpNm>\\xeb\\x8c\\x80\\xed\\x98\\x95\\xec\\xb0\\xa8</tcsCarTypeGrpNm><tcsCarTypeNm>5\\xec\\xa2\\x85</tcsCarTypeNm><trafficAmout>17</trafficAmout><unitCode>518 </unitCode><unitName>\\xec\\xb9\\xa0\\xea\\xb3\\xa1\\xeb\\xac\\xbc\\xeb\\xa5\\x98</unitName></list><list><brofCode>610100</brofCode><brofName>\\xea\\xb5\\xac\\xeb\\xaf\\xb8</brofName><centerCode>905</centerCode><centerName>\\xeb\\x8c\\x80\\xea\\xb5\\xac\\xea\\xb2\\xbd\\xeb\\xb6\\x81\\xeb\\xb3\\xb8\\xeb\\xb6\\x80</centerName><inoutName>\\xec\\xb6\\x9c\\xea\\xb5\\xac</inoutName><stdDate>20240206</stdDate><stdHour>15  </stdHour><tcsCarTypeCd>5</tcsCarTypeCd><tcsCarTypeGrpCd>3</tcsCarTypeGrpCd><tcsCarTypeGrpNm>\\xeb\\x8c\\x80\\xed\\x98\\x95\\xec\\xb0\\xa8</tcsCarTypeGrpNm><tcsCarTypeNm>5\\xec\\xa2\\x85</tcsCarTypeNm><trafficAmout>24</trafficAmout><unitCode>518 </unitCode><unitName>\\xec\\xb9\\xa0\\xea\\xb3\\xa1\\xeb\\xac\\xbc\\xeb\\xa5\\x98</unitName></list><list><brofCode>610100</brofCode><brofName>\\xea\\xb5\\xac\\xeb\\xaf\\xb8</brofName><centerCode>905</centerCode><centerName>\\xeb\\x8c\\x80\\xea\\xb5\\xac\\xea\\xb2\\xbd\\xeb\\xb6\\x81\\xeb\\xb3\\xb8\\xeb\\xb6\\x80</centerName><inoutName>\\xec\\x9e\\x85\\xea\\xb5\\xac</inoutName><stdDate>20240206</stdDate><stdHour>15  </stdHour><tcsCarTypeCd>6</tcsCarTypeCd><tcsCarTypeGrpCd>1</tcsCarTypeGrpCd><tcsCarTypeGrpNm>\\xec\\x86\\x8c\\xed\\x98\\x95\\xec\\xb0\\xa8</tcsCarTypeGrpNm><tcsCarTypeNm>6\\xec\\xa2\\x85</tcsCarTypeNm><trafficAmout>6</trafficAmout><unitCode>518 </unitCode><unitName>\\xec\\xb9\\xa0\\xea\\xb3\\xa1\\xeb\\xac\\xbc\\xeb\\xa5\\x98</unitName></list><list><brofCode>610100</brofCode><brofName>\\xea\\xb5\\xac\\xeb\\xaf\\xb8</brofName><centerCode>905</centerCode><centerName>\\xeb\\x8c\\x80\\xea\\xb5\\xac\\xea\\xb2\\xbd\\xeb\\xb6\\x81\\xeb\\xb3\\xb8\\xeb\\xb6\\x80</centerName><inoutName>\\xec\\xb6\\x9c\\xea\\xb5\\xac</inoutName><stdDate>20240206</stdDate><stdHour>15  </stdHour><tcsCarTypeCd>6</tcsCarTypeCd><tcsCarTypeGrpCd>1</tcsCarTypeGrpCd><tcsCarTypeGrpNm>\\xec\\x86\\x8c\\xed\\x98\\x95\\xec\\xb0\\xa8</tcsCarTypeGrpNm><tcsCarTypeNm>6\\xec\\xa2\\x85</tcsCarTypeNm><trafficAmout>3</trafficAmout><unitCode>518 </unitCode><unitName>\\xec\\xb9\\xa0\\xea\\xb3\\xa1\\xeb\\xac\\xbc\\xeb\\xa5\\x98</unitName></list><list><brofCode>610100</brofCode><brofName>\\xea\\xb5\\xac\\xeb\\xaf\\xb8</brofName><centerCode>905</centerCode><centerName>\\xeb\\x8c\\x80\\xea\\xb5\\xac\\xea\\xb2\\xbd\\xeb\\xb6\\x81\\xeb\\xb3\\xb8\\xeb\\xb6\\x80</centerName><inoutName>\\xec\\xb6\\x9c\\xea\\xb5\\xac</inoutName><stdDate>20240206</stdDate><stdHour>15  </stdHour><tcsCarTypeCd>1</tcsCarTypeCd><tcsCarTypeGrpCd>1</tcsCarTypeGrpCd><tcsCarTypeGrpNm>\\xec\\x86\\x8c\\xed\\x98\\x95\\xec\\xb0\\xa8</tcsCarTypeGrpNm><tcsCarTypeNm>1\\xec\\xa2\\x85</tcsCarTypeNm><trafficAmout>291</trafficAmout><unitCode>723 </unitCode><unitName>\\xeb\\xb6\\x81\\xea\\xb5\\xac\\xeb\\xaf\\xb8</unitName></list><list><brofCode>610100</brofCode><brofName>\\xea\\xb5\\xac\\xeb\\xaf\\xb8</brofName><centerCode>905</centerCode><centerName>\\xeb\\x8c\\x80\\xea\\xb5\\xac\\xea\\xb2\\xbd\\xeb\\xb6\\x81\\xeb\\xb3\\xb8\\xeb\\xb6\\x80</centerName><inoutName>\\xec\\x9e\\x85\\xea\\xb5\\xac</inoutName><stdDate>20240206</stdDate><stdHour>15  </stdHour><tcsCarTypeCd>1</tcsCarTypeCd><tcsCarTypeGrpCd>1</tcsCarTypeGrpCd><tcsCarTypeGrpNm>\\xec\\x86\\x8c\\xed\\x98\\x95\\xec\\xb0\\xa8</tcsCarTypeGrpNm><tcsCarTypeNm>1\\xec\\xa2\\x85</tcsCarTypeNm><trafficAmout>275</trafficAmout><unitCode>723 </unitCode><unitName>\\xeb\\xb6\\x81\\xea\\xb5\\xac\\xeb\\xaf\\xb8</unitName></list><list><brofCode>610100</brofCode><brofName>\\xea\\xb5\\xac\\xeb\\xaf\\xb8</brofName><centerCode>905</centerCode><centerName>\\xeb\\x8c\\x80\\xea\\xb5\\xac\\xea\\xb2\\xbd\\xeb\\xb6\\x81\\xeb\\xb3\\xb8\\xeb\\xb6\\x80</centerName><inoutName>\\xec\\xb6\\x9c\\xea\\xb5\\xac</inoutName><stdDate>20240206</stdDate><stdHour>15  </stdHour><tcsCarTypeCd>2</tcsCarTypeCd><tcsCarTypeGrpCd>2</tcsCarTypeGrpCd><tcsCarTypeGrpNm>\\xec\\xa4\\x91\\xed\\x98\\x95\\xec\\xb0\\xa8</tcsCarTypeGrpNm><tcsCarTypeNm>2\\xec\\xa2\\x85</tcsCarTypeNm><trafficAmout>6</trafficAmout><unitCode>723 </unitCode><unitName>\\xeb\\xb6\\x81\\xea\\xb5\\xac\\xeb\\xaf\\xb8</unitName></list><list><brofCode>610100</brofCode><brofName>\\xea\\xb5\\xac\\xeb\\xaf\\xb8</brofName><centerCode>905</centerCode><centerName>\\xeb\\x8c\\x80\\xea\\xb5\\xac\\xea\\xb2\\xbd\\xeb\\xb6\\x81\\xeb\\xb3\\xb8\\xeb\\xb6\\x80</centerName><inoutName>\\xec\\x9e\\x85\\xea\\xb5\\xac</inoutName><stdDate>20240206</stdDate><stdHour>15  </stdHour><tcsCarTypeCd>2</tcsCarTypeCd><tcsCarTypeGrpCd>2</tcsCarTypeGrpCd><tcsCarTypeGrpNm>\\xec\\xa4\\x91\\xed\\x98\\x95\\xec\\xb0\\xa8</tcsCarTypeGrpNm><tcsCarTypeNm>2\\xec\\xa2\\x85</tcsCarTypeNm><trafficAmout>13</trafficAmout><unitCode>723 </unitCode><unitName>\\xeb\\xb6\\x81\\xea\\xb5\\xac\\xeb\\xaf\\xb8</unitName></list><list><brofCode>610100</brofCode><brofName>\\xea\\xb5\\xac\\xeb\\xaf\\xb8</brofName><centerCode>905</centerCode><centerName>\\xeb\\x8c\\x80\\xea\\xb5\\xac\\xea\\xb2\\xbd\\xeb\\xb6\\x81\\xeb\\xb3\\xb8\\xeb\\xb6\\x80</centerName><inoutName>\\xec\\x9e\\x85\\xea\\xb5\\xac</inoutName><stdDate>20240206</stdDate><stdHour>15  </stdHour><tcsCarTypeCd>3</tcsCarTypeCd><tcsCarTypeGrpCd>3</tcsCarTypeGrpCd><tcsCarTypeGrpNm>\\xeb\\x8c\\x80\\xed\\x98\\x95\\xec\\xb0\\xa8</tcsCarTypeGrpNm><tcsCarTypeNm>3\\xec\\xa2\\x85</tcsCarTypeNm><trafficAmout>2</trafficAmout><unitCode>723 </unitCode><unitName>\\xeb\\xb6\\x81\\xea\\xb5\\xac\\xeb\\xaf\\xb8</unitName></list><list><brofCode>610100</brofCode><brofName>\\xea\\xb5\\xac\\xeb\\xaf\\xb8</brofName><centerCode>905</centerCode><centerName>\\xeb\\x8c\\x80\\xea\\xb5\\xac\\xea\\xb2\\xbd\\xeb\\xb6\\x81\\xeb\\xb3\\xb8\\xeb\\xb6\\x80</centerName><inoutName>\\xec\\xb6\\x9c\\xea\\xb5\\xac</inoutName><stdDate>20240206</stdDate><stdHour>15  </stdHour><tcsCarTypeCd>3</tcsCarTypeCd><tcsCarTypeGrpCd>3</tcsCarTypeGrpCd><tcsCarTypeGrpNm>\\xeb\\x8c\\x80\\xed\\x98\\x95\\xec\\xb0\\xa8</tcsCarTypeGrpNm><tcsCarTypeNm>3\\xec\\xa2\\x85</tcsCarTypeNm><trafficAmout>2</trafficAmout><unitCode>723 </unitCode><unitName>\\xeb\\xb6\\x81\\xea\\xb5\\xac\\xeb\\xaf\\xb8</unitName></list><list><brofCode>610100</brofCode><brofName>\\xea\\xb5\\xac\\xeb\\xaf\\xb8</brofName><centerCode>905</centerCode><centerName>\\xeb\\x8c\\x80\\xea\\xb5\\xac\\xea\\xb2\\xbd\\xeb\\xb6\\x81\\xeb\\xb3\\xb8\\xeb\\xb6\\x80</centerName><inoutName>\\xec\\xb6\\x9c\\xea\\xb5\\xac</inoutName><stdDate>20240206</stdDate><stdHour>15  </stdHour><tcsCarTypeCd>4</tcsCarTypeCd><tcsCarTypeGrpCd>3</tcsCarTypeGrpCd><tcsCarTypeGrpNm>\\xeb\\x8c\\x80\\xed\\x98\\x95\\xec\\xb0\\xa8</tcsCarTypeGrpNm><tcsCarTypeNm>4\\xec\\xa2\\x85</tcsCarTypeNm><trafficAmout>1</trafficAmout><unitCode>723 </unitCode><unitName>\\xeb\\xb6\\x81\\xea\\xb5\\xac\\xeb\\xaf\\xb8</unitName></list><list><brofCode>610100</brofCode><brofName>\\xea\\xb5\\xac\\xeb\\xaf\\xb8</brofName><centerCode>905</centerCode><centerName>\\xeb\\x8c\\x80\\xea\\xb5\\xac\\xea\\xb2\\xbd\\xeb\\xb6\\x81\\xeb\\xb3\\xb8\\xeb\\xb6\\x80</centerName><inoutName>\\xec\\xb6\\x9c\\xea\\xb5\\xac</inoutName><stdDate>20240206</stdDate><stdHour>15  </stdHour><tcsCarTypeCd>5</tcsCarTypeCd><tcsCarTypeGrpCd>3</tcsCarTypeGrpCd><tcsCarTypeGrpNm>\\xeb\\x8c\\x80\\xed\\x98\\x95\\xec\\xb0\\xa8</tcsCarTypeGrpNm><tcsCarTypeNm>5\\xec\\xa2\\x85</tcsCarTypeNm><trafficAmout>4</trafficAmout><unitCode>723 </unitCode><unitName>\\xeb\\xb6\\x81\\xea\\xb5\\xac\\xeb\\xaf\\xb8</unitName></list><list><brofCode>610100</brofCode><brofName>\\xea\\xb5\\xac\\xeb\\xaf\\xb8</brofName><centerCode>905</centerCode><centerName>\\xeb\\x8c\\x80\\xea\\xb5\\xac\\xea\\xb2\\xbd\\xeb\\xb6\\x81\\xeb\\xb3\\xb8\\xeb\\xb6\\x80</centerName><inoutName>\\xec\\xb6\\x9c\\xea\\xb5\\xac</inoutName><stdDate>20240206</stdDate><stdHour>15  </stdHour><tcsCarTypeCd>6</tcsCarTypeCd><tcsCarTypeGrpCd>1</tcsCarTypeGrpCd><tcsCarTypeGrpNm>\\xec\\x86\\x8c\\xed\\x98\\x95\\xec\\xb0\\xa8</tcsCarTypeGrpNm><tcsCarTypeNm>6\\xec\\xa2\\x85</tcsCarTypeNm><trafficAmout>16</trafficAmout><unitCode>723 </unitCode><unitName>\\xeb\\xb6\\x81\\xea\\xb5\\xac\\xeb\\xaf\\xb8</unitName></list><list><brofCode>610100</brofCode><brofName>\\xea\\xb5\\xac\\xeb\\xaf\\xb8</brofName><centerCode>905</centerCode><centerName>\\xeb\\x8c\\x80\\xea\\xb5\\xac\\xea\\xb2\\xbd\\xeb\\xb6\\x81\\xeb\\xb3\\xb8\\xeb\\xb6\\x80</centerName><inoutName>\\xec\\x9e\\x85\\xea\\xb5\\xac</inoutName><stdDate>20240206</stdDate><stdHour>15  </stdHour><tcsCarTypeCd>6</tcsCarTypeCd><tcsCarTypeGrpCd>1</tcsCarTypeGrpCd><tcsCarTypeGrpNm>\\xec\\x86\\x8c\\xed\\x98\\x95\\xec\\xb0\\xa8</tcsCarTypeGrpNm><tcsCarTypeNm>6\\xec\\xa2\\x85</tcsCarTypeNm><trafficAmout>9</trafficAmout><unitCode>723 </unitCode><unitName>\\xeb\\xb6\\x81\\xea\\xb5\\xac\\xeb\\xaf\\xb8</unitName></list><list><brofCode>610200</brofCode><brofName>\\xeb\\x8c\\x80\\xea\\xb5\\xac</brofName><centerCode>905</centerCode><centerName>\\xeb\\x8c\\x80\\xea\\xb5\\xac\\xea\\xb2\\xbd\\xeb\\xb6\\x81\\xeb\\xb3\\xb8\\xeb\\xb6\\x80</centerName><inoutName>\\xec\\xb6\\x9c\\xea\\xb5\\xac</inoutName><stdDate>20240206</stdDate><stdHour>15  </stdHour><tcsCarTypeCd>1</tcsCarTypeCd><tcsCarTypeGrpCd>1</tcsCarTypeGrpCd><tcsCarTypeGrpNm>\\xec\\x86\\x8c\\xed\\x98\\x95\\xec\\xb0\\xa8</tcsCarTypeGrpNm><tcsCarTypeNm>1\\xec\\xa2\\x85</tcsCarTypeNm><trafficAmout>78</trafficAmout><unitCode>057 </unitCode><unitName>\\xeb\\x8b\\xa4\\xec\\x82\\xac</unitName></list><list><brofCode>610200</brofCode><brofName>\\xeb\\x8c\\x80\\xea\\xb5\\xac</brofName><centerCode>905</centerCode><centerName>\\xeb\\x8c\\x80\\xea\\xb5\\xac\\xea\\xb2\\xbd\\xeb\\xb6\\x81\\xeb\\xb3\\xb8\\xeb\\xb6\\x80</centerName><inoutName>\\xec\\x9e\\x85\\xea\\xb5\\xac</inoutName><stdDate>20240206</stdDate><stdHour>15  </stdHour><tcsCarTypeCd>1</tcsCarTypeCd><tcsCarTypeGrpCd>1</tcsCarTypeGrpCd><tcsCarTypeGrpNm>\\xec\\x86\\x8c\\xed\\x98\\x95\\xec\\xb0\\xa8</tcsCarTypeGrpNm><tcsCarTypeNm>1\\xec\\xa2\\x85</tcsCarTypeNm><trafficAmout>87</trafficAmout><unitCode>057 </unitCode><unitName>\\xeb\\x8b\\xa4\\xec\\x82\\xac</unitName></list><list><brofCode>610200</brofCode><brofName>\\xeb\\x8c\\x80\\xea\\xb5\\xac</brofName><centerCode>905</centerCode><centerName>\\xeb\\x8c\\x80\\xea\\xb5\\xac\\xea\\xb2\\xbd\\xeb\\xb6\\x81\\xeb\\xb3\\xb8\\xeb\\xb6\\x80</centerName><inoutName>\\xec\\xb6\\x9c\\xea\\xb5\\xac</inoutName><stdDate>20240206</stdDate><stdHour>15  </stdHour><tcsCarTypeCd>2</tcsCarTypeCd><tcsCarTypeGrpCd>2</tcsCarTypeGrpCd><tcsCarTypeGrpNm>\\xec\\xa4\\x91\\xed\\x98\\x95\\xec\\xb0\\xa8</tcsCarTypeGrpNm><tcsCarTypeNm>2\\xec\\xa2\\x85</tcsCarTypeNm><trafficAmout>4</trafficAmout><unitCode>057 </unitCode><unitName>\\xeb\\x8b\\xa4\\xec\\x82\\xac</unitName></list><list><brofCode>610200</brofCode><brofName>\\xeb\\x8c\\x80\\xea\\xb5\\xac</brofName><centerCode>905</centerCode><centerName>\\xeb\\x8c\\x80\\xea\\xb5\\xac\\xea\\xb2\\xbd\\xeb\\xb6\\x81\\xeb\\xb3\\xb8\\xeb\\xb6\\x80</centerName><inoutName>\\xec\\x9e\\x85\\xea\\xb5\\xac</inoutName><stdDate>20240206</stdDate><stdHour>15  </stdHour><tcsCarTypeCd>2</tcsCarTypeCd><tcsCarTypeGrpCd>2</tcsCarTypeGrpCd><tcsCarTypeGrpNm>\\xec\\xa4\\x91\\xed\\x98\\x95\\xec\\xb0\\xa8</tcsCarTypeGrpNm><tcsCarTypeNm>2\\xec\\xa2\\x85</tcsCarTypeNm><trafficAmout>2</trafficAmout><unitCode>057 </unitCode><unitName>\\xeb\\x8b\\xa4\\xec\\x82\\xac</unitName></list><list><brofCode>610200</brofCode><brofName>\\xeb\\x8c\\x80\\xea\\xb5\\xac</brofName><centerCode>905</centerCode><centerName>\\xeb\\x8c\\x80\\xea\\xb5\\xac\\xea\\xb2\\xbd\\xeb\\xb6\\x81\\xeb\\xb3\\xb8\\xeb\\xb6\\x80</centerName><inoutName>\\xec\\x9e\\x85\\xea\\xb5\\xac</inoutName><stdDate>20240206</stdDate><stdHour>15  </stdHour><tcsCarTypeCd>3</tcsCarTypeCd><tcsCarTypeGrpCd>3</tcsCarTypeGrpCd><tcsCarTypeGrpNm>\\xeb\\x8c\\x80\\xed\\x98\\x95\\xec\\xb0\\xa8</tcsCarTypeGrpNm><tcsCarTypeNm>3\\xec\\xa2\\x85</tcsCarTypeNm><trafficAmout>2</trafficAmout><unitCode>057 </unitCode><unitName>\\xeb\\x8b\\xa4\\xec\\x82\\xac</unitName></list><list><brofCode>610200</brofCode><brofName>\\xeb\\x8c\\x80\\xea\\xb5\\xac</brofName><centerCode>905</centerCode><centerName>\\xeb\\x8c\\x80\\xea\\xb5\\xac\\xea\\xb2\\xbd\\xeb\\xb6\\x81\\xeb\\xb3\\xb8\\xeb\\xb6\\x80</centerName><inoutName>\\xec\\xb6\\x9c\\xea\\xb5\\xac</inoutName><stdDate>20240206</stdDate><stdHour>15  </stdHour><tcsCarTypeCd>3</tcsCarTypeCd><tcsCarTypeGrpCd>3</tcsCarTypeGrpCd><tcsCarTypeGrpNm>\\xeb\\x8c\\x80\\xed\\x98\\x95\\xec\\xb0\\xa8</tcsCarTypeGrpNm><tcsCarTypeNm>3\\xec\\xa2\\x85</tcsCarTypeNm><trafficAmout>1</trafficAmout><unitCode>057 </unitCode><unitName>\\xeb\\x8b\\xa4\\xec\\x82\\xac</unitName></list><list><brofCode>610200</brofCode><brofName>\\xeb\\x8c\\x80\\xea\\xb5\\xac</brofName><centerCode>905</centerCode><centerName>\\xeb\\x8c\\x80\\xea\\xb5\\xac\\xea\\xb2\\xbd\\xeb\\xb6\\x81\\xeb\\xb3\\xb8\\xeb\\xb6\\x80</centerName><inoutName>\\xec\\x9e\\x85\\xea\\xb5\\xac</inoutName><stdDate>20240206</stdDate><stdHour>15  </stdHour><tcsCarTypeCd>5</tcsCarTypeCd><tcsCarTypeGrpCd>3</tcsCarTypeGrpCd><tcsCarTypeGrpNm>\\xeb\\x8c\\x80\\xed\\x98\\x95\\xec\\xb0\\xa8</tcsCarTypeGrpNm><tcsCarTypeNm>5\\xec\\xa2\\x85</tcsCarTypeNm><trafficAmout>1</trafficAmout><unitCode>057 </unitCode><unitName>\\xeb\\x8b\\xa4\\xec\\x82\\xac</unitName></list><list><brofCode>610200</brofCode><brofName>\\xeb\\x8c\\x80\\xea\\xb5\\xac</brofName><centerCode>905</centerCode><centerName>\\xeb\\x8c\\x80\\xea\\xb5\\xac\\xea\\xb2\\xbd\\xeb\\xb6\\x81\\xeb\\xb3\\xb8\\xeb\\xb6\\x80</centerName><inoutName>\\xec\\x9e\\x85\\xea\\xb5\\xac</inoutName><stdDate>20240206</stdDate><stdHour>15  </stdHour><tcsCarTypeCd>6</tcsCarTypeCd><tcsCarTypeGrpCd>1</tcsCarTypeGrpCd><tcsCarTypeGrpNm>\\xec\\x86\\x8c\\xed\\x98\\x95\\xec\\xb0\\xa8</tcsCarTypeGrpNm><tcsCarTypeNm>6\\xec\\xa2\\x85</tcsCarTypeNm><trafficAmout>7</trafficAmout><unitCode>057 </unitCode><unitName>\\xeb\\x8b\\xa4\\xec\\x82\\xac</unitName></list><list><brofCode>610200</brofCode><brofName>\\xeb\\x8c\\x80\\xea\\xb5\\xac</brofName><centerCode>905</centerCode><centerName>\\xeb\\x8c\\x80\\xea\\xb5\\xac\\xea\\xb2\\xbd\\xeb\\xb6\\x81\\xeb\\xb3\\xb8\\xeb\\xb6\\x80</centerName><inoutName>\\xec\\xb6\\x9c\\xea\\xb5\\xac</inoutName><stdDate>20240206</stdDate><stdHour>15  </stdHour><tcsCarTypeCd>6</tcsCarTypeCd><tcsCarTypeGrpCd>1</tcsCarTypeGrpCd><tcsCarTypeGrpNm>\\xec\\x86\\x8c\\xed\\x98\\x95\\xec\\xb0\\xa8</tcsCarTypeGrpNm><tcsCarTypeNm>6\\xec\\xa2\\x85</tcsCarTypeNm><trafficAmout>5</trafficAmout><unitCode>057 </unitCode><unitName>\\xeb\\x8b\\xa4\\xec\\x82\\xac</unitName></list><list><brofCode>610200</brofCode><brofName>\\xeb\\x8c\\x80\\xea\\xb5\\xac</brofName><centerCode>905</centerCode><centerName>\\xeb\\x8c\\x80\\xea\\xb5\\xac\\xea\\xb2\\xbd\\xeb\\xb6\\x81\\xeb\\xb3\\xb8\\xeb\\xb6\\x80</centerName><inoutName>\\xec\\xb6\\x9c\\xea\\xb5\\xac</inoutName><stdDate>20240206</stdDate><stdHour>15  </stdHour><tcsCarTypeCd>1</tcsCarTypeCd><tcsCarTypeGrpCd>1</tcsCarTypeGrpCd><tcsCarTypeGrpNm>\\xec\\x86\\x8c\\xed\\x98\\x95\\xec\\xb0\\xa8</tcsCarTypeGrpNm><tcsCarTypeNm>1\\xec\\xa2\\x85</tcsCarTypeNm><trafficAmout>56</trafficAmout><unitCode>058 </unitCode><unitName>\\xec\\xa7\\x80\\xec\\xb2\\x9c</unitName></list><list><brofCode>610200</brofCode><brofName>\\xeb\\x8c\\x80\\xea\\xb5\\xac</brofName><centerCode>905</centerCode><centerName>\\xeb\\x8c\\x80\\xea\\xb5\\xac\\xea\\xb2\\xbd\\xeb\\xb6\\x81\\xeb\\xb3\\xb8\\xeb\\xb6\\x80</centerName><inoutName>\\xec\\x9e\\x85\\xea\\xb5\\xac</inoutName><stdDate>20240206</stdDate><stdHour>15  </stdHour><tcsCarTypeCd>1</tcsCarTypeCd><tcsCarTypeGrpCd>1</tcsCarTypeGrpCd><tcsCarTypeGrpNm>\\xec\\x86\\x8c\\xed\\x98\\x95\\xec\\xb0\\xa8</tcsCarTypeGrpNm><tcsCarTypeNm>1\\xec\\xa2\\x85</tcsCarTypeNm><trafficAmout>39</trafficAmout><unitCode>058 </unitCode><unitName>\\xec\\xa7\\x80\\xec\\xb2\\x9c</unitName></list><list><brofCode>610200</brofCode><brofName>\\xeb\\x8c\\x80\\xea\\xb5\\xac</brofName><centerCode>905</centerCode><centerName>\\xeb\\x8c\\x80\\xea\\xb5\\xac\\xea\\xb2\\xbd\\xeb\\xb6\\x81\\xeb\\xb3\\xb8\\xeb\\xb6\\x80</centerName><inoutName>\\xec\\xb6\\x9c\\xea\\xb5\\xac</inoutName><stdDate>20240206</stdDate><stdHour>15  </stdHour><tcsCarTypeCd>2</tcsCarTypeCd><tcsCarTypeGrpCd>2</tcsCarTypeGrpCd><tcsCarTypeGrpNm>\\xec\\xa4\\x91\\xed\\x98\\x95\\xec\\xb0\\xa8</tcsCarTypeGrpNm><tcsCarTypeNm>2\\xec\\xa2\\x85</tcsCarTypeNm><trafficAmout>4</trafficAmout><unitCode>058 </unitCode><unitName>\\xec\\xa7\\x80\\xec\\xb2\\x9c</unitName></list><list><brofCode>610200</brofCode><brofName>\\xeb\\x8c\\x80\\xea\\xb5\\xac</brofName><centerCode>905</centerCode><centerName>\\xeb\\x8c\\x80\\xea\\xb5\\xac\\xea\\xb2\\xbd\\xeb\\xb6\\x81\\xeb\\xb3\\xb8\\xeb\\xb6\\x80</centerName><inoutName>\\xec\\xb6\\x9c\\xea\\xb5\\xac</inoutName><stdDate>20240206</stdDate><stdHour>15  </stdHour><tcsCarTypeCd>3</tcsCarTypeCd><tcsCarTypeGrpCd>3</tcsCarTypeGrpCd><tcsCarTypeGrpNm>\\xeb\\x8c\\x80\\xed\\x98\\x95\\xec\\xb0\\xa8</tcsCarTypeGrpNm><tcsCarTypeNm>3\\xec\\xa2\\x85</tcsCarTypeNm><trafficAmout>3</trafficAmout><unitCode>058 </unitCode><unitName>\\xec\\xa7\\x80\\xec\\xb2\\x9c</unitName></list><list><brofCode>610200</brofCode><brofName>\\xeb\\x8c\\x80\\xea\\xb5\\xac</brofName><centerCode>905</centerCode><centerName>\\xeb\\x8c\\x80\\xea\\xb5\\xac\\xea\\xb2\\xbd\\xeb\\xb6\\x81\\xeb\\xb3\\xb8\\xeb\\xb6\\x80</centerName><inoutName>\\xec\\x9e\\x85\\xea\\xb5\\xac</inoutName><stdDate>20240206</stdDate><stdHour>15  </stdHour><tcsCarTypeCd>4</tcsCarTypeCd><tcsCarTypeGrpCd>3</tcsCarTypeGrpCd><tcsCarTypeGrpNm>\\xeb\\x8c\\x80\\xed\\x98\\x95\\xec\\xb0\\xa8</tcsCarTypeGrpNm><tcsCarTypeNm>4\\xec\\xa2\\x85</tcsCarTypeNm><trafficAmout>1</trafficAmout><unitCode>058 </unitCode><unitName>\\xec\\xa7\\x80\\xec\\xb2\\x9c</unitName></list><list><brofCode>610200</brofCode><brofName>\\xeb\\x8c\\x80\\xea\\xb5\\xac</brofName><centerCode>905</centerCode><centerName>\\xeb\\x8c\\x80\\xea\\xb5\\xac\\xea\\xb2\\xbd\\xeb\\xb6\\x81\\xeb\\xb3\\xb8\\xeb\\xb6\\x80</centerName><inoutName>\\xec\\xb6\\x9c\\xea\\xb5\\xac</inoutName><stdDate>20240206</stdDate><stdHour>15  </stdHour><tcsCarTypeCd>4</tcsCarTypeCd><tcsCarTypeGrpCd>3</tcsCarTypeGrpCd><tcsCarTypeGrpNm>\\xeb\\x8c\\x80\\xed\\x98\\x95\\xec\\xb0\\xa8</tcsCarTypeGrpNm><tcsCarTypeNm>4\\xec\\xa2\\x85</tcsCarTypeNm><trafficAmout>1</trafficAmout><unitCode>058 </unitCode><unitName>\\xec\\xa7\\x80\\xec\\xb2\\x9c</unitName></list><list><brofCode>610200</brofCode><brofName>\\xeb\\x8c\\x80\\xea\\xb5\\xac</brofName><centerCode>905</centerCode><centerName>\\xeb\\x8c\\x80\\xea\\xb5\\xac\\xea\\xb2\\xbd\\xeb\\xb6\\x81\\xeb\\xb3\\xb8\\xeb\\xb6\\x80</centerName><inoutName>\\xec\\x9e\\x85\\xea\\xb5\\xac</inoutName><stdDate>20240206</stdDate><stdHour>15  </stdHour><tcsCarTypeCd>5</tcsCarTypeCd><tcsCarTypeGrpCd>3</tcsCarTypeGrpCd><tcsCarTypeGrpNm>\\xeb\\x8c\\x80\\xed\\x98\\x95\\xec\\xb0\\xa8</tcsCarTypeGrpNm><tcsCarTypeNm>5\\xec\\xa2\\x85</tcsCarTypeNm><trafficAmout>1</trafficAmout><unitCode>058 </unitCode><unitName>\\xec\\xa7\\x80\\xec\\xb2\\x9c</unitName></list><list><brofCode>610200</brofCode><brofName>\\xeb\\x8c\\x80\\xea\\xb5\\xac</brofName><centerCode>905</centerCode><centerName>\\xeb\\x8c\\x80\\xea\\xb5\\xac\\xea\\xb2\\xbd\\xeb\\xb6\\x81\\xeb\\xb3\\xb8\\xeb\\xb6\\x80</centerName><inoutName>\\xec\\x9e\\x85\\xea\\xb5\\xac</inoutName><stdDate>20240206</stdDate><stdHour>15  </stdHour><tcsCarTypeCd>6</tcsCarTypeCd><tcsCarTypeGrpCd>1</tcsCarTypeGrpCd><tcsCarTypeGrpNm>\\xec\\x86\\x8c\\xed\\x98\\x95\\xec\\xb0\\xa8</tcsCarTypeGrpNm><tcsCarTypeNm>6\\xec\\xa2\\x85</tcsCarTypeNm><trafficAmout>4</trafficAmout><unitCode>058 </unitCode><unitName>\\xec\\xa7\\x80\\xec\\xb2\\x9c</unitName></list><list><brofCode>610200</brofCode><brofName>\\xeb\\x8c\\x80\\xea\\xb5\\xac</brofName><centerCode>905</centerCode><centerName>\\xeb\\x8c\\x80\\xea\\xb5\\xac\\xea\\xb2\\xbd\\xeb\\xb6\\x81\\xeb\\xb3\\xb8\\xeb\\xb6\\x80</centerName><inoutName>\\xec\\xb6\\x9c\\xea\\xb5\\xac</inoutName><stdDate>20240206</stdDate><stdHour>15  </stdHour><tcsCarTypeCd>6</tcsCarTypeCd><tcsCarTypeGrpCd>1</tcsCarTypeGrpCd><tcsCarTypeGrpNm>\\xec\\x86\\x8c\\xed\\x98\\x95\\xec\\xb0\\xa8</tcsCarTypeGrpNm><tcsCarTypeNm>6\\xec\\xa2\\x85</tcsCarTypeNm><trafficAmout>3</trafficAmout><unitCode>058 </unitCode><unitName>\\xec\\xa7\\x80\\xec\\xb2\\x9c</unitName></list><list><brofCode>610200</brofCode><brofName>\\xeb\\x8c\\x80\\xea\\xb5\\xac</brofName><centerCode>905</centerCode><centerName>\\xeb\\x8c\\x80\\xea\\xb5\\xac\\xea\\xb2\\xbd\\xeb\\xb6\\x81\\xeb\\xb3\\xb8\\xeb\\xb6\\x80</centerName><inoutName>\\xec\\x9e\\x85\\xea\\xb5\\xac</inoutName><stdDate>20240206</stdDate><stdHour>15  </stdHour><tcsCarTypeCd>1</tcsCarTypeCd><tcsCarTypeGrpCd>1</tcsCarTypeGrpCd><tcsCarTypeGrpNm>\\xec\\x86\\x8c\\xed\\x98\\x95\\xec\\xb0\\xa8</tcsCarTypeGrpNm><tcsCarTypeNm>1\\xec\\xa2\\x85</tcsCarTypeNm><trafficAmout>1456</trafficAmout><unitCode>129 </unitCode><unitName>\\xeb\\xb6\\x81\\xeb\\x8c\\x80\\xea\\xb5\\xac</unitName></list><list><brofCode>610200</brofCode><brofName>\\xeb\\x8c\\x80\\xea\\xb5\\xac</brofName><centerCode>905</centerCode><centerName>\\xeb\\x8c\\x80\\xea\\xb5\\xac\\xea\\xb2\\xbd\\xeb\\xb6\\x81\\xeb\\xb3\\xb8\\xeb\\xb6\\x80</centerName><inoutName>\\xec\\xb6\\x9c\\xea\\xb5\\xac</inoutName><stdDate>20240206</stdDate><stdHour>15  </stdHour><tcsCarTypeCd>1</tcsCarTypeCd><tcsCarTypeGrpCd>1</tcsCarTypeGrpCd><tcsCarTypeGrpNm>\\xec\\x86\\x8c\\xed\\x98\\x95\\xec\\xb0\\xa8</tcsCarTypeGrpNm><tcsCarTypeNm>1\\xec\\xa2\\x85</tcsCarTypeNm><trafficAmout>2274</trafficAmout><unitCode>129 </unitCode><unitName>\\xeb\\xb6\\x81\\xeb\\x8c\\x80\\xea\\xb5\\xac</unitName></list><list><brofCode>610200</brofCode><brofName>\\xeb\\x8c\\x80\\xea\\xb5\\xac</brofName><centerCode>905</centerCode><centerName>\\xeb\\x8c\\x80\\xea\\xb5\\xac\\xea\\xb2\\xbd\\xeb\\xb6\\x81\\xeb\\xb3\\xb8\\xeb\\xb6\\x80</centerName><inoutName>\\xec\\x9e\\x85\\xea\\xb5\\xac</inoutName><stdDate>20240206</stdDate><stdHour>15  </stdHour><tcsCarTypeCd>2</tcsCarTypeCd><tcsCarTypeGrpCd>2</tcsCarTypeGrpCd><tcsCarTypeGrpNm>\\xec\\xa4\\x91\\xed\\x98\\x95\\xec\\xb0\\xa8</tcsCarTypeGrpNm><tcsCarTypeNm>2\\xec\\xa2\\x85</tcsCarTypeNm><trafficAmout>46</trafficAmout><unitCode>129 </unitCode><unitName>\\xeb\\xb6\\x81\\xeb\\x8c\\x80\\xea\\xb5\\xac</unitName></list><list><brofCode>610200</brofCode><brofName>\\xeb\\x8c\\x80\\xea\\xb5\\xac</brofName><centerCode>905</centerCode><centerName>\\xeb\\x8c\\x80\\xea\\xb5\\xac\\xea\\xb2\\xbd\\xeb\\xb6\\x81\\xeb\\xb3\\xb8\\xeb\\xb6\\x80</centerName><inoutName>\\xec\\xb6\\x9c\\xea\\xb5\\xac</inoutName><stdDate>20240206</stdDate><stdHour>15  </stdHour><tcsCarTypeCd>2</tcsCarTypeCd><tcsCarTypeGrpCd>2</tcsCarTypeGrpCd><tcsCarTypeGrpNm>\\xec\\xa4\\x91\\xed\\x98\\x95\\xec\\xb0\\xa8</tcsCarTypeGrpNm><tcsCarTypeNm>2\\xec\\xa2\\x85</tcsCarTypeNm><trafficAmout>82</trafficAmout><unitCode>129 </unitCode><unitName>\\xeb\\xb6\\x81\\xeb\\x8c\\x80\\xea\\xb5\\xac</unitName></list><list><brofCode>610200</brofCode><brofName>\\xeb\\x8c\\x80\\xea\\xb5\\xac</brofName><centerCode>905</centerCode><centerName>\\xeb\\x8c\\x80\\xea\\xb5\\xac\\xea\\xb2\\xbd\\xeb\\xb6\\x81\\xeb\\xb3\\xb8\\xeb\\xb6\\x80</centerName><inoutName>\\xec\\x9e\\x85\\xea\\xb5\\xac</inoutName><stdDate>20240206</stdDate><stdHour>15  </stdHour><tcsCarTypeCd>3</tcsCarTypeCd><tcsCarTypeGrpCd>3</tcsCarTypeGrpCd><tcsCarTypeGrpNm>\\xeb\\x8c\\x80\\xed\\x98\\x95\\xec\\xb0\\xa8</tcsCarTypeGrpNm><tcsCarTypeNm>3\\xec\\xa2\\x85</tcsCarTypeNm><trafficAmout>33</trafficAmout><unitCode>129 </unitCode><unitName>\\xeb\\xb6\\x81\\xeb\\x8c\\x80\\xea\\xb5\\xac</unitName></list><list><brofCode>610200</brofCode><brofName>\\xeb\\x8c\\x80\\xea\\xb5\\xac</brofName><centerCode>905</centerCode><centerName>\\xeb\\x8c\\x80\\xea\\xb5\\xac\\xea\\xb2\\xbd\\xeb\\xb6\\x81\\xeb\\xb3\\xb8\\xeb\\xb6\\x80</centerName><inoutName>\\xec\\xb6\\x9c\\xea\\xb5\\xac</inoutName><stdDate>20240206</stdDate><stdHour>15  </stdHour><tcsCarTypeCd>3</tcsCarTypeCd><tcsCarTypeGrpCd>3</tcsCarTypeGrpCd><tcsCarTypeGrpNm>\\xeb\\x8c\\x80\\xed\\x98\\x95\\xec\\xb0\\xa8</tcsCarTypeGrpNm><tcsCarTypeNm>3\\xec\\xa2\\x85</tcsCarTypeNm><trafficAmout>61</trafficAmout><unitCode>129 </unitCode><unitName>\\xeb\\xb6\\x81\\xeb\\x8c\\x80\\xea\\xb5\\xac</unitName></list><list><brofCode>610200</brofCode><brofName>\\xeb\\x8c\\x80\\xea\\xb5\\xac</brofName><centerCode>905</centerCode><centerName>\\xeb\\x8c\\x80\\xea\\xb5\\xac\\xea\\xb2\\xbd\\xeb\\xb6\\x81\\xeb\\xb3\\xb8\\xeb\\xb6\\x80</centerName><inoutName>\\xec\\xb6\\x9c\\xea\\xb5\\xac</inoutName><stdDate>20240206</stdDate><stdHour>15  </stdHour><tcsCarTypeCd>4</tcsCarTypeCd><tcsCarTypeGrpCd>3</tcsCarTypeGrpCd><tcsCarTypeGrpNm>\\xeb\\x8c\\x80\\xed\\x98\\x95\\xec\\xb0\\xa8</tcsCarTypeGrpNm><tcsCarTypeNm>4\\xec\\xa2\\x85</tcsCarTypeNm><trafficAmout>40</trafficAmout><unitCode>129 </unitCode><unitName>\\xeb\\xb6\\x81\\xeb\\x8c\\x80\\xea\\xb5\\xac</unitName></list><list><brofCode>610200</brofCode><brofName>\\xeb\\x8c\\x80\\xea\\xb5\\xac</brofName><centerCode>905</centerCode><centerName>\\xeb\\x8c\\x80\\xea\\xb5\\xac\\xea\\xb2\\xbd\\xeb\\xb6\\x81\\xeb\\xb3\\xb8\\xeb\\xb6\\x80</centerName><inoutName>\\xec\\x9e\\x85\\xea\\xb5\\xac</inoutName><stdDate>20240206</stdDate><stdHour>15  </stdHour><tcsCarTypeCd>4</tcsCarTypeCd><tcsCarTypeGrpCd>3</tcsCarTypeGrpCd><tcsCarTypeGrpNm>\\xeb\\x8c\\x80\\xed\\x98\\x95\\xec\\xb0\\xa8</tcsCarTypeGrpNm><tcsCarTypeNm>4\\xec\\xa2\\x85</tcsCarTypeNm><trafficAmout>19</trafficAmout><unitCode>129 </unitCode><unitName>\\xeb\\xb6\\x81\\xeb\\x8c\\x80\\xea\\xb5\\xac</unitName></list><list><brofCode>610200</brofCode><brofName>\\xeb\\x8c\\x80\\xea\\xb5\\xac</brofName><centerCode>905</centerCode><centerName>\\xeb\\x8c\\x80\\xea\\xb5\\xac\\xea\\xb2\\xbd\\xeb\\xb6\\x81\\xeb\\xb3\\xb8\\xeb\\xb6\\x80</centerName><inoutName>\\xec\\x9e\\x85\\xea\\xb5\\xac</inoutName><stdDate>20240206</stdDate><stdHour>15  </stdHour><tcsCarTypeCd>5</tcsCarTypeCd><tcsCarTypeGrpCd>3</tcsCarTypeGrpCd><tcsCarTypeGrpNm>\\xeb\\x8c\\x80\\xed\\x98\\x95\\xec\\xb0\\xa8</tcsCarTypeGrpNm><tcsCarTypeNm>5\\xec\\xa2\\x85</tcsCarTypeNm><trafficAmout>17</trafficAmout><unitCode>129 </unitCode><unitName>\\xeb\\xb6\\x81\\xeb\\x8c\\x80\\xea\\xb5\\xac</unitName></list><list><brofCode>610200</brofCode><brofName>\\xeb\\x8c\\x80\\xea\\xb5\\xac</brofName><centerCode>905</centerCode><centerName>\\xeb\\x8c\\x80\\xea\\xb5\\xac\\xea\\xb2\\xbd\\xeb\\xb6\\x81\\xeb\\xb3\\xb8\\xeb\\xb6\\x80</centerName><inoutName>\\xec\\xb6\\x9c\\xea\\xb5\\xac</inoutName><stdDate>20240206</stdDate><stdHour>15  </stdHour><tcsCarTypeCd>5</tcsCarTypeCd><tcsCarTypeGrpCd>3</tcsCarTypeGrpCd><tcsCarTypeGrpNm>\\xeb\\x8c\\x80\\xed\\x98\\x95\\xec\\xb0\\xa8</tcsCarTypeGrpNm><tcsCarTypeNm>5\\xec\\xa2\\x85</tcsCarTypeNm><trafficAmout>47</trafficAmout><unitCode>129 </unitCode><unitName>\\xeb\\xb6\\x81\\xeb\\x8c\\x80\\xea\\xb5\\xac</unitName></list><numOfRows>99</numOfRows><pageNo>26</pageNo><pageSize>58</pageSize></data>'"
      ]
     },
     "execution_count": 8,
     "metadata": {},
     "output_type": "execute_result"
    }
   ],
   "source": [
    "response.content"
   ]
  },
  {
   "cell_type": "code",
   "execution_count": 9,
   "id": "a0babff8",
   "metadata": {},
   "outputs": [
    {
     "data": {
      "text/plain": [
       "'<?xml version=\"1.0\" encoding=\"UTF-8\" standalone=\"yes\"?><data><code>SUCCESS</code><message>인증키가 유효합니다.</message><count>5674</count><list><brofCode>610100</brofCode><brofName>구미</brofName><centerCode>905</centerCode><centerName>대구경북본부</centerName><inoutName>출구</inoutName><stdDate>20240206</stdDate><stdHour>15  </stdHour><tcsCarTypeCd>6</tcsCarTypeCd><tcsCarTypeGrpCd>1</tcsCarTypeGrpCd><tcsCarTypeGrpNm>소형차</tcsCarTypeGrpNm><tcsCarTypeNm>6종</tcsCarTypeNm><trafficAmout>12</trafficAmout><unitCode>122 </unitCode><unitName>김천</unitName></list><list><brofCode>610100</brofCode><brofName>구미</brofName><centerCode>905</centerCode><centerName>대구경북본부</centerName><inoutName>입구</inoutName><stdDate>20240206</stdDate><stdHour>15  </stdHour><tcsCarTypeCd>1</tcsCarTypeCd><tcsCarTypeGrpCd>1</tcsCarTypeGrpCd><tcsCarTypeGrpNm>소형차</tcsCarTypeGrpNm><tcsCarTypeNm>1종</tcsCarTypeNm><trafficAmout>843</trafficAmout><unitCode>123 </unitCode><unitName>구미</unitName></list><list><brofCode>610100</brofCode><brofName>구미</brofName><centerCode>905</centerCode><centerName>대구경북본부</centerName><inoutName>출구</inoutName><stdDate>20240206</stdDate><stdHour>15  </stdHour><tcsCarTypeCd>1</tcsCarTypeCd><tcsCarTypeGrpCd>1</tcsCarTypeGrpCd><tcsCarTypeGrpNm>소형차</tcsCarTypeGrpNm><tcsCarTypeNm>1종</tcsCarTypeNm><trafficAmout>830</trafficAmout><unitCode>123 </unitCode><unitName>구미</unitName></list><list><brofCode>610100</brofCode><brofName>구미</brofName><centerCode>905</centerCode><centerName>대구경북본부</centerName><inoutName>입구</inoutName><stdDate>20240206</stdDate><stdHour>15  </stdHour><tcsCarTypeCd>2</tcsCarTypeCd><tcsCarTypeGrpCd>2</tcsCarTypeGrpCd><tcsCarTypeGrpNm>중형차</tcsCarTypeGrpNm><tcsCarTypeNm>2종</tcsCarTypeNm><trafficAmout>16</trafficAmout><unitCode>123 </unitCode><unitName>구미</unitName></list><list><brofCode>610100</brofCode><brofName>구미</brofName><centerCode>905</centerCode><centerName>대구경북본부</centerName><inoutName>출구</inoutName><stdDate>20240206</stdDate><stdHour>15  </stdHour><tcsCarTypeCd>2</tcsCarTypeCd><tcsCarTypeGrpCd>2</tcsCarTypeGrpCd><tcsCarTypeGrpNm>중형차</tcsCarTypeGrpNm><tcsCarTypeNm>2종</tcsCarTypeNm><trafficAmout>31</trafficAmout><unitCode>123 </unitCode><unitName>구미</unitName></list><list><brofCode>610100</brofCode><brofName>구미</brofName><centerCode>905</centerCode><centerName>대구경북본부</centerName><inoutName>입구</inoutName><stdDate>20240206</stdDate><stdHour>15  </stdHour><tcsCarTypeCd>3</tcsCarTypeCd><tcsCarTypeGrpCd>3</tcsCarTypeGrpCd><tcsCarTypeGrpNm>대형차</tcsCarTypeGrpNm><tcsCarTypeNm>3종</tcsCarTypeNm><trafficAmout>22</trafficAmout><unitCode>123 </unitCode><unitName>구미</unitName></list><list><brofCode>610100</brofCode><brofName>구미</brofName><centerCode>905</centerCode><centerName>대구경북본부</centerName><inoutName>출구</inoutName><stdDate>20240206</stdDate><stdHour>15  </stdHour><tcsCarTypeCd>3</tcsCarTypeCd><tcsCarTypeGrpCd>3</tcsCarTypeGrpCd><tcsCarTypeGrpNm>대형차</tcsCarTypeGrpNm><tcsCarTypeNm>3종</tcsCarTypeNm><trafficAmout>33</trafficAmout><unitCode>123 </unitCode><unitName>구미</unitName></list><list><brofCode>610100</brofCode><brofName>구미</brofName><centerCode>905</centerCode><centerName>대구경북본부</centerName><inoutName>출구</inoutName><stdDate>20240206</stdDate><stdHour>15  </stdHour><tcsCarTypeCd>4</tcsCarTypeCd><tcsCarTypeGrpCd>3</tcsCarTypeGrpCd><tcsCarTypeGrpNm>대형차</tcsCarTypeGrpNm><tcsCarTypeNm>4종</tcsCarTypeNm><trafficAmout>27</trafficAmout><unitCode>123 </unitCode><unitName>구미</unitName></list><list><brofCode>610100</brofCode><brofName>구미</brofName><centerCode>905</centerCode><centerName>대구경북본부</centerName><inoutName>입구</inoutName><stdDate>20240206</stdDate><stdHour>15  </stdHour><tcsCarTypeCd>4</tcsCarTypeCd><tcsCarTypeGrpCd>3</tcsCarTypeGrpCd><tcsCarTypeGrpNm>대형차</tcsCarTypeGrpNm><tcsCarTypeNm>4종</tcsCarTypeNm><trafficAmout>9</trafficAmout><unitCode>123 </unitCode><unitName>구미</unitName></list><list><brofCode>610100</brofCode><brofName>구미</brofName><centerCode>905</centerCode><centerName>대구경북본부</centerName><inoutName>입구</inoutName><stdDate>20240206</stdDate><stdHour>15  </stdHour><tcsCarTypeCd>5</tcsCarTypeCd><tcsCarTypeGrpCd>3</tcsCarTypeGrpCd><tcsCarTypeGrpNm>대형차</tcsCarTypeGrpNm><tcsCarTypeNm>5종</tcsCarTypeNm><trafficAmout>18</trafficAmout><unitCode>123 </unitCode><unitName>구미</unitName></list><list><brofCode>610100</brofCode><brofName>구미</brofName><centerCode>905</centerCode><centerName>대구경북본부</centerName><inoutName>출구</inoutName><stdDate>20240206</stdDate><stdHour>15  </stdHour><tcsCarTypeCd>5</tcsCarTypeCd><tcsCarTypeGrpCd>3</tcsCarTypeGrpCd><tcsCarTypeGrpNm>대형차</tcsCarTypeGrpNm><tcsCarTypeNm>5종</tcsCarTypeNm><trafficAmout>22</trafficAmout><unitCode>123 </unitCode><unitName>구미</unitName></list><list><brofCode>610100</brofCode><brofName>구미</brofName><centerCode>905</centerCode><centerName>대구경북본부</centerName><inoutName>입구</inoutName><stdDate>20240206</stdDate><stdHour>15  </stdHour><tcsCarTypeCd>6</tcsCarTypeCd><tcsCarTypeGrpCd>1</tcsCarTypeGrpCd><tcsCarTypeGrpNm>소형차</tcsCarTypeGrpNm><tcsCarTypeNm>6종</tcsCarTypeNm><trafficAmout>30</trafficAmout><unitCode>123 </unitCode><unitName>구미</unitName></list><list><brofCode>610100</brofCode><brofName>구미</brofName><centerCode>905</centerCode><centerName>대구경북본부</centerName><inoutName>출구</inoutName><stdDate>20240206</stdDate><stdHour>15  </stdHour><tcsCarTypeCd>6</tcsCarTypeCd><tcsCarTypeGrpCd>1</tcsCarTypeGrpCd><tcsCarTypeGrpNm>소형차</tcsCarTypeGrpNm><tcsCarTypeNm>6종</tcsCarTypeNm><trafficAmout>40</trafficAmout><unitCode>123 </unitCode><unitName>구미</unitName></list><list><brofCode>610100</brofCode><brofName>구미</brofName><centerCode>905</centerCode><centerName>대구경북본부</centerName><inoutName>입구</inoutName><stdDate>20240206</stdDate><stdHour>15  </stdHour><tcsCarTypeCd>1</tcsCarTypeCd><tcsCarTypeGrpCd>1</tcsCarTypeGrpCd><tcsCarTypeGrpNm>소형차</tcsCarTypeGrpNm><tcsCarTypeNm>1종</tcsCarTypeNm><trafficAmout>694</trafficAmout><unitCode>125 </unitCode><unitName>남구미</unitName></list><list><brofCode>610100</brofCode><brofName>구미</brofName><centerCode>905</centerCode><centerName>대구경북본부</centerName><inoutName>출구</inoutName><stdDate>20240206</stdDate><stdHour>15  </stdHour><tcsCarTypeCd>1</tcsCarTypeCd><tcsCarTypeGrpCd>1</tcsCarTypeGrpCd><tcsCarTypeGrpNm>소형차</tcsCarTypeGrpNm><tcsCarTypeNm>1종</tcsCarTypeNm><trafficAmout>595</trafficAmout><unitCode>125 </unitCode><unitName>남구미</unitName></list><list><brofCode>610100</brofCode><brofName>구미</brofName><centerCode>905</centerCode><centerName>대구경북본부</centerName><inoutName>입구</inoutName><stdDate>20240206</stdDate><stdHour>15  </stdHour><tcsCarTypeCd>2</tcsCarTypeCd><tcsCarTypeGrpCd>2</tcsCarTypeGrpCd><tcsCarTypeGrpNm>중형차</tcsCarTypeGrpNm><tcsCarTypeNm>2종</tcsCarTypeNm><trafficAmout>33</trafficAmout><unitCode>125 </unitCode><unitName>남구미</unitName></list><list><brofCode>610100</brofCode><brofName>구미</brofName><centerCode>905</centerCode><centerName>대구경북본부</centerName><inoutName>출구</inoutName><stdDate>20240206</stdDate><stdHour>15  </stdHour><tcsCarTypeCd>2</tcsCarTypeCd><tcsCarTypeGrpCd>2</tcsCarTypeGrpCd><tcsCarTypeGrpNm>중형차</tcsCarTypeGrpNm><tcsCarTypeNm>2종</tcsCarTypeNm><trafficAmout>37</trafficAmout><unitCode>125 </unitCode><unitName>남구미</unitName></list><list><brofCode>610100</brofCode><brofName>구미</brofName><centerCode>905</centerCode><centerName>대구경북본부</centerName><inoutName>입구</inoutName><stdDate>20240206</stdDate><stdHour>15  </stdHour><tcsCarTypeCd>3</tcsCarTypeCd><tcsCarTypeGrpCd>3</tcsCarTypeGrpCd><tcsCarTypeGrpNm>대형차</tcsCarTypeGrpNm><tcsCarTypeNm>3종</tcsCarTypeNm><trafficAmout>28</trafficAmout><unitCode>125 </unitCode><unitName>남구미</unitName></list><list><brofCode>610100</brofCode><brofName>구미</brofName><centerCode>905</centerCode><centerName>대구경북본부</centerName><inoutName>출구</inoutName><stdDate>20240206</stdDate><stdHour>15  </stdHour><tcsCarTypeCd>3</tcsCarTypeCd><tcsCarTypeGrpCd>3</tcsCarTypeGrpCd><tcsCarTypeGrpNm>대형차</tcsCarTypeGrpNm><tcsCarTypeNm>3종</tcsCarTypeNm><trafficAmout>42</trafficAmout><unitCode>125 </unitCode><unitName>남구미</unitName></list><list><brofCode>610100</brofCode><brofName>구미</brofName><centerCode>905</centerCode><centerName>대구경북본부</centerName><inoutName>출구</inoutName><stdDate>20240206</stdDate><stdHour>15  </stdHour><tcsCarTypeCd>4</tcsCarTypeCd><tcsCarTypeGrpCd>3</tcsCarTypeGrpCd><tcsCarTypeGrpNm>대형차</tcsCarTypeGrpNm><tcsCarTypeNm>4종</tcsCarTypeNm><trafficAmout>47</trafficAmout><unitCode>125 </unitCode><unitName>남구미</unitName></list><list><brofCode>610100</brofCode><brofName>구미</brofName><centerCode>905</centerCode><centerName>대구경북본부</centerName><inoutName>입구</inoutName><stdDate>20240206</stdDate><stdHour>15  </stdHour><tcsCarTypeCd>4</tcsCarTypeCd><tcsCarTypeGrpCd>3</tcsCarTypeGrpCd><tcsCarTypeGrpNm>대형차</tcsCarTypeGrpNm><tcsCarTypeNm>4종</tcsCarTypeNm><trafficAmout>27</trafficAmout><unitCode>125 </unitCode><unitName>남구미</unitName></list><list><brofCode>610100</brofCode><brofName>구미</brofName><centerCode>905</centerCode><centerName>대구경북본부</centerName><inoutName>입구</inoutName><stdDate>20240206</stdDate><stdHour>15  </stdHour><tcsCarTypeCd>5</tcsCarTypeCd><tcsCarTypeGrpCd>3</tcsCarTypeGrpCd><tcsCarTypeGrpNm>대형차</tcsCarTypeGrpNm><tcsCarTypeNm>5종</tcsCarTypeNm><trafficAmout>67</trafficAmout><unitCode>125 </unitCode><unitName>남구미</unitName></list><list><brofCode>610100</brofCode><brofName>구미</brofName><centerCode>905</centerCode><centerName>대구경북본부</centerName><inoutName>출구</inoutName><stdDate>20240206</stdDate><stdHour>15  </stdHour><tcsCarTypeCd>5</tcsCarTypeCd><tcsCarTypeGrpCd>3</tcsCarTypeGrpCd><tcsCarTypeGrpNm>대형차</tcsCarTypeGrpNm><tcsCarTypeNm>5종</tcsCarTypeNm><trafficAmout>57</trafficAmout><unitCode>125 </unitCode><unitName>남구미</unitName></list><list><brofCode>610100</brofCode><brofName>구미</brofName><centerCode>905</centerCode><centerName>대구경북본부</centerName><inoutName>입구</inoutName><stdDate>20240206</stdDate><stdHour>15  </stdHour><tcsCarTypeCd>6</tcsCarTypeCd><tcsCarTypeGrpCd>1</tcsCarTypeGrpCd><tcsCarTypeGrpNm>소형차</tcsCarTypeGrpNm><tcsCarTypeNm>6종</tcsCarTypeNm><trafficAmout>26</trafficAmout><unitCode>125 </unitCode><unitName>남구미</unitName></list><list><brofCode>610100</brofCode><brofName>구미</brofName><centerCode>905</centerCode><centerName>대구경북본부</centerName><inoutName>출구</inoutName><stdDate>20240206</stdDate><stdHour>15  </stdHour><tcsCarTypeCd>6</tcsCarTypeCd><tcsCarTypeGrpCd>1</tcsCarTypeGrpCd><tcsCarTypeGrpNm>소형차</tcsCarTypeGrpNm><tcsCarTypeNm>6종</tcsCarTypeNm><trafficAmout>25</trafficAmout><unitCode>125 </unitCode><unitName>남구미</unitName></list><list><brofCode>610100</brofCode><brofName>구미</brofName><centerCode>905</centerCode><centerName>대구경북본부</centerName><inoutName>입구</inoutName><stdDate>20240206</stdDate><stdHour>15  </stdHour><tcsCarTypeCd>1</tcsCarTypeCd><tcsCarTypeGrpCd>1</tcsCarTypeGrpCd><tcsCarTypeGrpNm>소형차</tcsCarTypeGrpNm><tcsCarTypeNm>1종</tcsCarTypeNm><trafficAmout>779</trafficAmout><unitCode>126 </unitCode><unitName>왜관</unitName></list><list><brofCode>610100</brofCode><brofName>구미</brofName><centerCode>905</centerCode><centerName>대구경북본부</centerName><inoutName>출구</inoutName><stdDate>20240206</stdDate><stdHour>15  </stdHour><tcsCarTypeCd>1</tcsCarTypeCd><tcsCarTypeGrpCd>1</tcsCarTypeGrpCd><tcsCarTypeGrpNm>소형차</tcsCarTypeGrpNm><tcsCarTypeNm>1종</tcsCarTypeNm><trafficAmout>716</trafficAmout><unitCode>126 </unitCode><unitName>왜관</unitName></list><list><brofCode>610100</brofCode><brofName>구미</brofName><centerCode>905</centerCode><centerName>대구경북본부</centerName><inoutName>입구</inoutName><stdDate>20240206</stdDate><stdHour>15  </stdHour><tcsCarTypeCd>2</tcsCarTypeCd><tcsCarTypeGrpCd>2</tcsCarTypeGrpCd><tcsCarTypeGrpNm>중형차</tcsCarTypeGrpNm><tcsCarTypeNm>2종</tcsCarTypeNm><trafficAmout>42</trafficAmout><unitCode>126 </unitCode><unitName>왜관</unitName></list><list><brofCode>610100</brofCode><brofName>구미</brofName><centerCode>905</centerCode><centerName>대구경북본부</centerName><inoutName>출구</inoutName><stdDate>20240206</stdDate><stdHour>15  </stdHour><tcsCarTypeCd>2</tcsCarTypeCd><tcsCarTypeGrpCd>2</tcsCarTypeGrpCd><tcsCarTypeGrpNm>중형차</tcsCarTypeGrpNm><tcsCarTypeNm>2종</tcsCarTypeNm><trafficAmout>56</trafficAmout><unitCode>126 </unitCode><unitName>왜관</unitName></list><list><brofCode>610100</brofCode><brofName>구미</brofName><centerCode>905</centerCode><centerName>대구경북본부</centerName><inoutName>입구</inoutName><stdDate>20240206</stdDate><stdHour>15  </stdHour><tcsCarTypeCd>3</tcsCarTypeCd><tcsCarTypeGrpCd>3</tcsCarTypeGrpCd><tcsCarTypeGrpNm>대형차</tcsCarTypeGrpNm><tcsCarTypeNm>3종</tcsCarTypeNm><trafficAmout>21</trafficAmout><unitCode>126 </unitCode><unitName>왜관</unitName></list><list><brofCode>610100</brofCode><brofName>구미</brofName><centerCode>905</centerCode><centerName>대구경북본부</centerName><inoutName>출구</inoutName><stdDate>20240206</stdDate><stdHour>15  </stdHour><tcsCarTypeCd>3</tcsCarTypeCd><tcsCarTypeGrpCd>3</tcsCarTypeGrpCd><tcsCarTypeGrpNm>대형차</tcsCarTypeGrpNm><tcsCarTypeNm>3종</tcsCarTypeNm><trafficAmout>57</trafficAmout><unitCode>126 </unitCode><unitName>왜관</unitName></list><list><brofCode>610100</brofCode><brofName>구미</brofName><centerCode>905</centerCode><centerName>대구경북본부</centerName><inoutName>출구</inoutName><stdDate>20240206</stdDate><stdHour>15  </stdHour><tcsCarTypeCd>4</tcsCarTypeCd><tcsCarTypeGrpCd>3</tcsCarTypeGrpCd><tcsCarTypeGrpNm>대형차</tcsCarTypeGrpNm><tcsCarTypeNm>4종</tcsCarTypeNm><trafficAmout>48</trafficAmout><unitCode>126 </unitCode><unitName>왜관</unitName></list><list><brofCode>610100</brofCode><brofName>구미</brofName><centerCode>905</centerCode><centerName>대구경북본부</centerName><inoutName>입구</inoutName><stdDate>20240206</stdDate><stdHour>15  </stdHour><tcsCarTypeCd>4</tcsCarTypeCd><tcsCarTypeGrpCd>3</tcsCarTypeGrpCd><tcsCarTypeGrpNm>대형차</tcsCarTypeGrpNm><tcsCarTypeNm>4종</tcsCarTypeNm><trafficAmout>25</trafficAmout><unitCode>126 </unitCode><unitName>왜관</unitName></list><list><brofCode>610100</brofCode><brofName>구미</brofName><centerCode>905</centerCode><centerName>대구경북본부</centerName><inoutName>입구</inoutName><stdDate>20240206</stdDate><stdHour>15  </stdHour><tcsCarTypeCd>5</tcsCarTypeCd><tcsCarTypeGrpCd>3</tcsCarTypeGrpCd><tcsCarTypeGrpNm>대형차</tcsCarTypeGrpNm><tcsCarTypeNm>5종</tcsCarTypeNm><trafficAmout>58</trafficAmout><unitCode>126 </unitCode><unitName>왜관</unitName></list><list><brofCode>610100</brofCode><brofName>구미</brofName><centerCode>905</centerCode><centerName>대구경북본부</centerName><inoutName>출구</inoutName><stdDate>20240206</stdDate><stdHour>15  </stdHour><tcsCarTypeCd>5</tcsCarTypeCd><tcsCarTypeGrpCd>3</tcsCarTypeGrpCd><tcsCarTypeGrpNm>대형차</tcsCarTypeGrpNm><tcsCarTypeNm>5종</tcsCarTypeNm><trafficAmout>51</trafficAmout><unitCode>126 </unitCode><unitName>왜관</unitName></list><list><brofCode>610100</brofCode><brofName>구미</brofName><centerCode>905</centerCode><centerName>대구경북본부</centerName><inoutName>입구</inoutName><stdDate>20240206</stdDate><stdHour>15  </stdHour><tcsCarTypeCd>6</tcsCarTypeCd><tcsCarTypeGrpCd>1</tcsCarTypeGrpCd><tcsCarTypeGrpNm>소형차</tcsCarTypeGrpNm><tcsCarTypeNm>6종</tcsCarTypeNm><trafficAmout>28</trafficAmout><unitCode>126 </unitCode><unitName>왜관</unitName></list><list><brofCode>610100</brofCode><brofName>구미</brofName><centerCode>905</centerCode><centerName>대구경북본부</centerName><inoutName>출구</inoutName><stdDate>20240206</stdDate><stdHour>15  </stdHour><tcsCarTypeCd>6</tcsCarTypeCd><tcsCarTypeGrpCd>1</tcsCarTypeGrpCd><tcsCarTypeGrpNm>소형차</tcsCarTypeGrpNm><tcsCarTypeNm>6종</tcsCarTypeNm><trafficAmout>25</trafficAmout><unitCode>126 </unitCode><unitName>왜관</unitName></list><list><brofCode>610100</brofCode><brofName>구미</brofName><centerCode>905</centerCode><centerName>대구경북본부</centerName><inoutName>입구</inoutName><stdDate>20240206</stdDate><stdHour>15  </stdHour><tcsCarTypeCd>1</tcsCarTypeCd><tcsCarTypeGrpCd>1</tcsCarTypeGrpCd><tcsCarTypeGrpNm>소형차</tcsCarTypeGrpNm><tcsCarTypeNm>1종</tcsCarTypeNm><trafficAmout>405</trafficAmout><unitCode>130 </unitCode><unitName>동김천</unitName></list><list><brofCode>610100</brofCode><brofName>구미</brofName><centerCode>905</centerCode><centerName>대구경북본부</centerName><inoutName>출구</inoutName><stdDate>20240206</stdDate><stdHour>15  </stdHour><tcsCarTypeCd>1</tcsCarTypeCd><tcsCarTypeGrpCd>1</tcsCarTypeGrpCd><tcsCarTypeGrpNm>소형차</tcsCarTypeGrpNm><tcsCarTypeNm>1종</tcsCarTypeNm><trafficAmout>311</trafficAmout><unitCode>130 </unitCode><unitName>동김천</unitName></list><list><brofCode>610100</brofCode><brofName>구미</brofName><centerCode>905</centerCode><centerName>대구경북본부</centerName><inoutName>입구</inoutName><stdDate>20240206</stdDate><stdHour>15  </stdHour><tcsCarTypeCd>2</tcsCarTypeCd><tcsCarTypeGrpCd>2</tcsCarTypeGrpCd><tcsCarTypeGrpNm>중형차</tcsCarTypeGrpNm><tcsCarTypeNm>2종</tcsCarTypeNm><trafficAmout>10</trafficAmout><unitCode>130 </unitCode><unitName>동김천</unitName></list><list><brofCode>610100</brofCode><brofName>구미</brofName><centerCode>905</centerCode><centerName>대구경북본부</centerName><inoutName>출구</inoutName><stdDate>20240206</stdDate><stdHour>15  </stdHour><tcsCarTypeCd>2</tcsCarTypeCd><tcsCarTypeGrpCd>2</tcsCarTypeGrpCd><tcsCarTypeGrpNm>중형차</tcsCarTypeGrpNm><tcsCarTypeNm>2종</tcsCarTypeNm><trafficAmout>11</trafficAmout><unitCode>130 </unitCode><unitName>동김천</unitName></list><list><brofCode>610100</brofCode><brofName>구미</brofName><centerCode>905</centerCode><centerName>대구경북본부</centerName><inoutName>입구</inoutName><stdDate>20240206</stdDate><stdHour>15  </stdHour><tcsCarTypeCd>3</tcsCarTypeCd><tcsCarTypeGrpCd>3</tcsCarTypeGrpCd><tcsCarTypeGrpNm>대형차</tcsCarTypeGrpNm><tcsCarTypeNm>3종</tcsCarTypeNm><trafficAmout>9</trafficAmout><unitCode>130 </unitCode><unitName>동김천</unitName></list><list><brofCode>610100</brofCode><brofName>구미</brofName><centerCode>905</centerCode><centerName>대구경북본부</centerName><inoutName>출구</inoutName><stdDate>20240206</stdDate><stdHour>15  </stdHour><tcsCarTypeCd>3</tcsCarTypeCd><tcsCarTypeGrpCd>3</tcsCarTypeGrpCd><tcsCarTypeGrpNm>대형차</tcsCarTypeGrpNm><tcsCarTypeNm>3종</tcsCarTypeNm><trafficAmout>36</trafficAmout><unitCode>130 </unitCode><unitName>동김천</unitName></list><list><brofCode>610100</brofCode><brofName>구미</brofName><centerCode>905</centerCode><centerName>대구경북본부</centerName><inoutName>출구</inoutName><stdDate>20240206</stdDate><stdHour>15  </stdHour><tcsCarTypeCd>4</tcsCarTypeCd><tcsCarTypeGrpCd>3</tcsCarTypeGrpCd><tcsCarTypeGrpNm>대형차</tcsCarTypeGrpNm><tcsCarTypeNm>4종</tcsCarTypeNm><trafficAmout>18</trafficAmout><unitCode>130 </unitCode><unitName>동김천</unitName></list><list><brofCode>610100</brofCode><brofName>구미</brofName><centerCode>905</centerCode><centerName>대구경북본부</centerName><inoutName>입구</inoutName><stdDate>20240206</stdDate><stdHour>15  </stdHour><tcsCarTypeCd>4</tcsCarTypeCd><tcsCarTypeGrpCd>3</tcsCarTypeGrpCd><tcsCarTypeGrpNm>대형차</tcsCarTypeGrpNm><tcsCarTypeNm>4종</tcsCarTypeNm><trafficAmout>9</trafficAmout><unitCode>130 </unitCode><unitName>동김천</unitName></list><list><brofCode>610100</brofCode><brofName>구미</brofName><centerCode>905</centerCode><centerName>대구경북본부</centerName><inoutName>입구</inoutName><stdDate>20240206</stdDate><stdHour>15  </stdHour><tcsCarTypeCd>5</tcsCarTypeCd><tcsCarTypeGrpCd>3</tcsCarTypeGrpCd><tcsCarTypeGrpNm>대형차</tcsCarTypeGrpNm><tcsCarTypeNm>5종</tcsCarTypeNm><trafficAmout>38</trafficAmout><unitCode>130 </unitCode><unitName>동김천</unitName></list><list><brofCode>610100</brofCode><brofName>구미</brofName><centerCode>905</centerCode><centerName>대구경북본부</centerName><inoutName>출구</inoutName><stdDate>20240206</stdDate><stdHour>15  </stdHour><tcsCarTypeCd>5</tcsCarTypeCd><tcsCarTypeGrpCd>3</tcsCarTypeGrpCd><tcsCarTypeGrpNm>대형차</tcsCarTypeGrpNm><tcsCarTypeNm>5종</tcsCarTypeNm><trafficAmout>30</trafficAmout><unitCode>130 </unitCode><unitName>동김천</unitName></list><list><brofCode>610100</brofCode><brofName>구미</brofName><centerCode>905</centerCode><centerName>대구경북본부</centerName><inoutName>입구</inoutName><stdDate>20240206</stdDate><stdHour>15  </stdHour><tcsCarTypeCd>6</tcsCarTypeCd><tcsCarTypeGrpCd>1</tcsCarTypeGrpCd><tcsCarTypeGrpNm>소형차</tcsCarTypeGrpNm><tcsCarTypeNm>6종</tcsCarTypeNm><trafficAmout>19</trafficAmout><unitCode>130 </unitCode><unitName>동김천</unitName></list><list><brofCode>610100</brofCode><brofName>구미</brofName><centerCode>905</centerCode><centerName>대구경북본부</centerName><inoutName>출구</inoutName><stdDate>20240206</stdDate><stdHour>15  </stdHour><tcsCarTypeCd>6</tcsCarTypeCd><tcsCarTypeGrpCd>1</tcsCarTypeGrpCd><tcsCarTypeGrpNm>소형차</tcsCarTypeGrpNm><tcsCarTypeNm>6종</tcsCarTypeNm><trafficAmout>17</trafficAmout><unitCode>130 </unitCode><unitName>동김천</unitName></list><list><brofCode>610100</brofCode><brofName>구미</brofName><centerCode>905</centerCode><centerName>대구경북본부</centerName><inoutName>입구</inoutName><stdDate>20240206</stdDate><stdHour>15  </stdHour><tcsCarTypeCd>1</tcsCarTypeCd><tcsCarTypeGrpCd>1</tcsCarTypeGrpCd><tcsCarTypeGrpNm>소형차</tcsCarTypeGrpNm><tcsCarTypeNm>1종</tcsCarTypeNm><trafficAmout>265</trafficAmout><unitCode>518 </unitCode><unitName>칠곡물류</unitName></list><list><brofCode>610100</brofCode><brofName>구미</brofName><centerCode>905</centerCode><centerName>대구경북본부</centerName><inoutName>출구</inoutName><stdDate>20240206</stdDate><stdHour>15  </stdHour><tcsCarTypeCd>1</tcsCarTypeCd><tcsCarTypeGrpCd>1</tcsCarTypeGrpCd><tcsCarTypeGrpNm>소형차</tcsCarTypeGrpNm><tcsCarTypeNm>1종</tcsCarTypeNm><trafficAmout>210</trafficAmout><unitCode>518 </unitCode><unitName>칠곡물류</unitName></list><list><brofCode>610100</brofCode><brofName>구미</brofName><centerCode>905</centerCode><centerName>대구경북본부</centerName><inoutName>입구</inoutName><stdDate>20240206</stdDate><stdHour>15  </stdHour><tcsCarTypeCd>2</tcsCarTypeCd><tcsCarTypeGrpCd>2</tcsCarTypeGrpCd><tcsCarTypeGrpNm>중형차</tcsCarTypeGrpNm><tcsCarTypeNm>2종</tcsCarTypeNm><trafficAmout>18</trafficAmout><unitCode>518 </unitCode><unitName>칠곡물류</unitName></list><list><brofCode>610100</brofCode><brofName>구미</brofName><centerCode>905</centerCode><centerName>대구경북본부</centerName><inoutName>출구</inoutName><stdDate>20240206</stdDate><stdHour>15  </stdHour><tcsCarTypeCd>2</tcsCarTypeCd><tcsCarTypeGrpCd>2</tcsCarTypeGrpCd><tcsCarTypeGrpNm>중형차</tcsCarTypeGrpNm><tcsCarTypeNm>2종</tcsCarTypeNm><trafficAmout>37</trafficAmout><unitCode>518 </unitCode><unitName>칠곡물류</unitName></list><list><brofCode>610100</brofCode><brofName>구미</brofName><centerCode>905</centerCode><centerName>대구경북본부</centerName><inoutName>입구</inoutName><stdDate>20240206</stdDate><stdHour>15  </stdHour><tcsCarTypeCd>3</tcsCarTypeCd><tcsCarTypeGrpCd>3</tcsCarTypeGrpCd><tcsCarTypeGrpNm>대형차</tcsCarTypeGrpNm><tcsCarTypeNm>3종</tcsCarTypeNm><trafficAmout>13</trafficAmout><unitCode>518 </unitCode><unitName>칠곡물류</unitName></list><list><brofCode>610100</brofCode><brofName>구미</brofName><centerCode>905</centerCode><centerName>대구경북본부</centerName><inoutName>출구</inoutName><stdDate>20240206</stdDate><stdHour>15  </stdHour><tcsCarTypeCd>3</tcsCarTypeCd><tcsCarTypeGrpCd>3</tcsCarTypeGrpCd><tcsCarTypeGrpNm>대형차</tcsCarTypeGrpNm><tcsCarTypeNm>3종</tcsCarTypeNm><trafficAmout>55</trafficAmout><unitCode>518 </unitCode><unitName>칠곡물류</unitName></list><list><brofCode>610100</brofCode><brofName>구미</brofName><centerCode>905</centerCode><centerName>대구경북본부</centerName><inoutName>출구</inoutName><stdDate>20240206</stdDate><stdHour>15  </stdHour><tcsCarTypeCd>4</tcsCarTypeCd><tcsCarTypeGrpCd>3</tcsCarTypeGrpCd><tcsCarTypeGrpNm>대형차</tcsCarTypeGrpNm><tcsCarTypeNm>4종</tcsCarTypeNm><trafficAmout>60</trafficAmout><unitCode>518 </unitCode><unitName>칠곡물류</unitName></list><list><brofCode>610100</brofCode><brofName>구미</brofName><centerCode>905</centerCode><centerName>대구경북본부</centerName><inoutName>입구</inoutName><stdDate>20240206</stdDate><stdHour>15  </stdHour><tcsCarTypeCd>4</tcsCarTypeCd><tcsCarTypeGrpCd>3</tcsCarTypeGrpCd><tcsCarTypeGrpNm>대형차</tcsCarTypeGrpNm><tcsCarTypeNm>4종</tcsCarTypeNm><trafficAmout>24</trafficAmout><unitCode>518 </unitCode><unitName>칠곡물류</unitName></list><list><brofCode>610100</brofCode><brofName>구미</brofName><centerCode>905</centerCode><centerName>대구경북본부</centerName><inoutName>입구</inoutName><stdDate>20240206</stdDate><stdHour>15  </stdHour><tcsCarTypeCd>5</tcsCarTypeCd><tcsCarTypeGrpCd>3</tcsCarTypeGrpCd><tcsCarTypeGrpNm>대형차</tcsCarTypeGrpNm><tcsCarTypeNm>5종</tcsCarTypeNm><trafficAmout>17</trafficAmout><unitCode>518 </unitCode><unitName>칠곡물류</unitName></list><list><brofCode>610100</brofCode><brofName>구미</brofName><centerCode>905</centerCode><centerName>대구경북본부</centerName><inoutName>출구</inoutName><stdDate>20240206</stdDate><stdHour>15  </stdHour><tcsCarTypeCd>5</tcsCarTypeCd><tcsCarTypeGrpCd>3</tcsCarTypeGrpCd><tcsCarTypeGrpNm>대형차</tcsCarTypeGrpNm><tcsCarTypeNm>5종</tcsCarTypeNm><trafficAmout>24</trafficAmout><unitCode>518 </unitCode><unitName>칠곡물류</unitName></list><list><brofCode>610100</brofCode><brofName>구미</brofName><centerCode>905</centerCode><centerName>대구경북본부</centerName><inoutName>입구</inoutName><stdDate>20240206</stdDate><stdHour>15  </stdHour><tcsCarTypeCd>6</tcsCarTypeCd><tcsCarTypeGrpCd>1</tcsCarTypeGrpCd><tcsCarTypeGrpNm>소형차</tcsCarTypeGrpNm><tcsCarTypeNm>6종</tcsCarTypeNm><trafficAmout>6</trafficAmout><unitCode>518 </unitCode><unitName>칠곡물류</unitName></list><list><brofCode>610100</brofCode><brofName>구미</brofName><centerCode>905</centerCode><centerName>대구경북본부</centerName><inoutName>출구</inoutName><stdDate>20240206</stdDate><stdHour>15  </stdHour><tcsCarTypeCd>6</tcsCarTypeCd><tcsCarTypeGrpCd>1</tcsCarTypeGrpCd><tcsCarTypeGrpNm>소형차</tcsCarTypeGrpNm><tcsCarTypeNm>6종</tcsCarTypeNm><trafficAmout>3</trafficAmout><unitCode>518 </unitCode><unitName>칠곡물류</unitName></list><list><brofCode>610100</brofCode><brofName>구미</brofName><centerCode>905</centerCode><centerName>대구경북본부</centerName><inoutName>출구</inoutName><stdDate>20240206</stdDate><stdHour>15  </stdHour><tcsCarTypeCd>1</tcsCarTypeCd><tcsCarTypeGrpCd>1</tcsCarTypeGrpCd><tcsCarTypeGrpNm>소형차</tcsCarTypeGrpNm><tcsCarTypeNm>1종</tcsCarTypeNm><trafficAmout>291</trafficAmout><unitCode>723 </unitCode><unitName>북구미</unitName></list><list><brofCode>610100</brofCode><brofName>구미</brofName><centerCode>905</centerCode><centerName>대구경북본부</centerName><inoutName>입구</inoutName><stdDate>20240206</stdDate><stdHour>15  </stdHour><tcsCarTypeCd>1</tcsCarTypeCd><tcsCarTypeGrpCd>1</tcsCarTypeGrpCd><tcsCarTypeGrpNm>소형차</tcsCarTypeGrpNm><tcsCarTypeNm>1종</tcsCarTypeNm><trafficAmout>275</trafficAmout><unitCode>723 </unitCode><unitName>북구미</unitName></list><list><brofCode>610100</brofCode><brofName>구미</brofName><centerCode>905</centerCode><centerName>대구경북본부</centerName><inoutName>출구</inoutName><stdDate>20240206</stdDate><stdHour>15  </stdHour><tcsCarTypeCd>2</tcsCarTypeCd><tcsCarTypeGrpCd>2</tcsCarTypeGrpCd><tcsCarTypeGrpNm>중형차</tcsCarTypeGrpNm><tcsCarTypeNm>2종</tcsCarTypeNm><trafficAmout>6</trafficAmout><unitCode>723 </unitCode><unitName>북구미</unitName></list><list><brofCode>610100</brofCode><brofName>구미</brofName><centerCode>905</centerCode><centerName>대구경북본부</centerName><inoutName>입구</inoutName><stdDate>20240206</stdDate><stdHour>15  </stdHour><tcsCarTypeCd>2</tcsCarTypeCd><tcsCarTypeGrpCd>2</tcsCarTypeGrpCd><tcsCarTypeGrpNm>중형차</tcsCarTypeGrpNm><tcsCarTypeNm>2종</tcsCarTypeNm><trafficAmout>13</trafficAmout><unitCode>723 </unitCode><unitName>북구미</unitName></list><list><brofCode>610100</brofCode><brofName>구미</brofName><centerCode>905</centerCode><centerName>대구경북본부</centerName><inoutName>입구</inoutName><stdDate>20240206</stdDate><stdHour>15  </stdHour><tcsCarTypeCd>3</tcsCarTypeCd><tcsCarTypeGrpCd>3</tcsCarTypeGrpCd><tcsCarTypeGrpNm>대형차</tcsCarTypeGrpNm><tcsCarTypeNm>3종</tcsCarTypeNm><trafficAmout>2</trafficAmout><unitCode>723 </unitCode><unitName>북구미</unitName></list><list><brofCode>610100</brofCode><brofName>구미</brofName><centerCode>905</centerCode><centerName>대구경북본부</centerName><inoutName>출구</inoutName><stdDate>20240206</stdDate><stdHour>15  </stdHour><tcsCarTypeCd>3</tcsCarTypeCd><tcsCarTypeGrpCd>3</tcsCarTypeGrpCd><tcsCarTypeGrpNm>대형차</tcsCarTypeGrpNm><tcsCarTypeNm>3종</tcsCarTypeNm><trafficAmout>2</trafficAmout><unitCode>723 </unitCode><unitName>북구미</unitName></list><list><brofCode>610100</brofCode><brofName>구미</brofName><centerCode>905</centerCode><centerName>대구경북본부</centerName><inoutName>출구</inoutName><stdDate>20240206</stdDate><stdHour>15  </stdHour><tcsCarTypeCd>4</tcsCarTypeCd><tcsCarTypeGrpCd>3</tcsCarTypeGrpCd><tcsCarTypeGrpNm>대형차</tcsCarTypeGrpNm><tcsCarTypeNm>4종</tcsCarTypeNm><trafficAmout>1</trafficAmout><unitCode>723 </unitCode><unitName>북구미</unitName></list><list><brofCode>610100</brofCode><brofName>구미</brofName><centerCode>905</centerCode><centerName>대구경북본부</centerName><inoutName>출구</inoutName><stdDate>20240206</stdDate><stdHour>15  </stdHour><tcsCarTypeCd>5</tcsCarTypeCd><tcsCarTypeGrpCd>3</tcsCarTypeGrpCd><tcsCarTypeGrpNm>대형차</tcsCarTypeGrpNm><tcsCarTypeNm>5종</tcsCarTypeNm><trafficAmout>4</trafficAmout><unitCode>723 </unitCode><unitName>북구미</unitName></list><list><brofCode>610100</brofCode><brofName>구미</brofName><centerCode>905</centerCode><centerName>대구경북본부</centerName><inoutName>출구</inoutName><stdDate>20240206</stdDate><stdHour>15  </stdHour><tcsCarTypeCd>6</tcsCarTypeCd><tcsCarTypeGrpCd>1</tcsCarTypeGrpCd><tcsCarTypeGrpNm>소형차</tcsCarTypeGrpNm><tcsCarTypeNm>6종</tcsCarTypeNm><trafficAmout>16</trafficAmout><unitCode>723 </unitCode><unitName>북구미</unitName></list><list><brofCode>610100</brofCode><brofName>구미</brofName><centerCode>905</centerCode><centerName>대구경북본부</centerName><inoutName>입구</inoutName><stdDate>20240206</stdDate><stdHour>15  </stdHour><tcsCarTypeCd>6</tcsCarTypeCd><tcsCarTypeGrpCd>1</tcsCarTypeGrpCd><tcsCarTypeGrpNm>소형차</tcsCarTypeGrpNm><tcsCarTypeNm>6종</tcsCarTypeNm><trafficAmout>9</trafficAmout><unitCode>723 </unitCode><unitName>북구미</unitName></list><list><brofCode>610200</brofCode><brofName>대구</brofName><centerCode>905</centerCode><centerName>대구경북본부</centerName><inoutName>출구</inoutName><stdDate>20240206</stdDate><stdHour>15  </stdHour><tcsCarTypeCd>1</tcsCarTypeCd><tcsCarTypeGrpCd>1</tcsCarTypeGrpCd><tcsCarTypeGrpNm>소형차</tcsCarTypeGrpNm><tcsCarTypeNm>1종</tcsCarTypeNm><trafficAmout>78</trafficAmout><unitCode>057 </unitCode><unitName>다사</unitName></list><list><brofCode>610200</brofCode><brofName>대구</brofName><centerCode>905</centerCode><centerName>대구경북본부</centerName><inoutName>입구</inoutName><stdDate>20240206</stdDate><stdHour>15  </stdHour><tcsCarTypeCd>1</tcsCarTypeCd><tcsCarTypeGrpCd>1</tcsCarTypeGrpCd><tcsCarTypeGrpNm>소형차</tcsCarTypeGrpNm><tcsCarTypeNm>1종</tcsCarTypeNm><trafficAmout>87</trafficAmout><unitCode>057 </unitCode><unitName>다사</unitName></list><list><brofCode>610200</brofCode><brofName>대구</brofName><centerCode>905</centerCode><centerName>대구경북본부</centerName><inoutName>출구</inoutName><stdDate>20240206</stdDate><stdHour>15  </stdHour><tcsCarTypeCd>2</tcsCarTypeCd><tcsCarTypeGrpCd>2</tcsCarTypeGrpCd><tcsCarTypeGrpNm>중형차</tcsCarTypeGrpNm><tcsCarTypeNm>2종</tcsCarTypeNm><trafficAmout>4</trafficAmout><unitCode>057 </unitCode><unitName>다사</unitName></list><list><brofCode>610200</brofCode><brofName>대구</brofName><centerCode>905</centerCode><centerName>대구경북본부</centerName><inoutName>입구</inoutName><stdDate>20240206</stdDate><stdHour>15  </stdHour><tcsCarTypeCd>2</tcsCarTypeCd><tcsCarTypeGrpCd>2</tcsCarTypeGrpCd><tcsCarTypeGrpNm>중형차</tcsCarTypeGrpNm><tcsCarTypeNm>2종</tcsCarTypeNm><trafficAmout>2</trafficAmout><unitCode>057 </unitCode><unitName>다사</unitName></list><list><brofCode>610200</brofCode><brofName>대구</brofName><centerCode>905</centerCode><centerName>대구경북본부</centerName><inoutName>입구</inoutName><stdDate>20240206</stdDate><stdHour>15  </stdHour><tcsCarTypeCd>3</tcsCarTypeCd><tcsCarTypeGrpCd>3</tcsCarTypeGrpCd><tcsCarTypeGrpNm>대형차</tcsCarTypeGrpNm><tcsCarTypeNm>3종</tcsCarTypeNm><trafficAmout>2</trafficAmout><unitCode>057 </unitCode><unitName>다사</unitName></list><list><brofCode>610200</brofCode><brofName>대구</brofName><centerCode>905</centerCode><centerName>대구경북본부</centerName><inoutName>출구</inoutName><stdDate>20240206</stdDate><stdHour>15  </stdHour><tcsCarTypeCd>3</tcsCarTypeCd><tcsCarTypeGrpCd>3</tcsCarTypeGrpCd><tcsCarTypeGrpNm>대형차</tcsCarTypeGrpNm><tcsCarTypeNm>3종</tcsCarTypeNm><trafficAmout>1</trafficAmout><unitCode>057 </unitCode><unitName>다사</unitName></list><list><brofCode>610200</brofCode><brofName>대구</brofName><centerCode>905</centerCode><centerName>대구경북본부</centerName><inoutName>입구</inoutName><stdDate>20240206</stdDate><stdHour>15  </stdHour><tcsCarTypeCd>5</tcsCarTypeCd><tcsCarTypeGrpCd>3</tcsCarTypeGrpCd><tcsCarTypeGrpNm>대형차</tcsCarTypeGrpNm><tcsCarTypeNm>5종</tcsCarTypeNm><trafficAmout>1</trafficAmout><unitCode>057 </unitCode><unitName>다사</unitName></list><list><brofCode>610200</brofCode><brofName>대구</brofName><centerCode>905</centerCode><centerName>대구경북본부</centerName><inoutName>입구</inoutName><stdDate>20240206</stdDate><stdHour>15  </stdHour><tcsCarTypeCd>6</tcsCarTypeCd><tcsCarTypeGrpCd>1</tcsCarTypeGrpCd><tcsCarTypeGrpNm>소형차</tcsCarTypeGrpNm><tcsCarTypeNm>6종</tcsCarTypeNm><trafficAmout>7</trafficAmout><unitCode>057 </unitCode><unitName>다사</unitName></list><list><brofCode>610200</brofCode><brofName>대구</brofName><centerCode>905</centerCode><centerName>대구경북본부</centerName><inoutName>출구</inoutName><stdDate>20240206</stdDate><stdHour>15  </stdHour><tcsCarTypeCd>6</tcsCarTypeCd><tcsCarTypeGrpCd>1</tcsCarTypeGrpCd><tcsCarTypeGrpNm>소형차</tcsCarTypeGrpNm><tcsCarTypeNm>6종</tcsCarTypeNm><trafficAmout>5</trafficAmout><unitCode>057 </unitCode><unitName>다사</unitName></list><list><brofCode>610200</brofCode><brofName>대구</brofName><centerCode>905</centerCode><centerName>대구경북본부</centerName><inoutName>출구</inoutName><stdDate>20240206</stdDate><stdHour>15  </stdHour><tcsCarTypeCd>1</tcsCarTypeCd><tcsCarTypeGrpCd>1</tcsCarTypeGrpCd><tcsCarTypeGrpNm>소형차</tcsCarTypeGrpNm><tcsCarTypeNm>1종</tcsCarTypeNm><trafficAmout>56</trafficAmout><unitCode>058 </unitCode><unitName>지천</unitName></list><list><brofCode>610200</brofCode><brofName>대구</brofName><centerCode>905</centerCode><centerName>대구경북본부</centerName><inoutName>입구</inoutName><stdDate>20240206</stdDate><stdHour>15  </stdHour><tcsCarTypeCd>1</tcsCarTypeCd><tcsCarTypeGrpCd>1</tcsCarTypeGrpCd><tcsCarTypeGrpNm>소형차</tcsCarTypeGrpNm><tcsCarTypeNm>1종</tcsCarTypeNm><trafficAmout>39</trafficAmout><unitCode>058 </unitCode><unitName>지천</unitName></list><list><brofCode>610200</brofCode><brofName>대구</brofName><centerCode>905</centerCode><centerName>대구경북본부</centerName><inoutName>출구</inoutName><stdDate>20240206</stdDate><stdHour>15  </stdHour><tcsCarTypeCd>2</tcsCarTypeCd><tcsCarTypeGrpCd>2</tcsCarTypeGrpCd><tcsCarTypeGrpNm>중형차</tcsCarTypeGrpNm><tcsCarTypeNm>2종</tcsCarTypeNm><trafficAmout>4</trafficAmout><unitCode>058 </unitCode><unitName>지천</unitName></list><list><brofCode>610200</brofCode><brofName>대구</brofName><centerCode>905</centerCode><centerName>대구경북본부</centerName><inoutName>출구</inoutName><stdDate>20240206</stdDate><stdHour>15  </stdHour><tcsCarTypeCd>3</tcsCarTypeCd><tcsCarTypeGrpCd>3</tcsCarTypeGrpCd><tcsCarTypeGrpNm>대형차</tcsCarTypeGrpNm><tcsCarTypeNm>3종</tcsCarTypeNm><trafficAmout>3</trafficAmout><unitCode>058 </unitCode><unitName>지천</unitName></list><list><brofCode>610200</brofCode><brofName>대구</brofName><centerCode>905</centerCode><centerName>대구경북본부</centerName><inoutName>입구</inoutName><stdDate>20240206</stdDate><stdHour>15  </stdHour><tcsCarTypeCd>4</tcsCarTypeCd><tcsCarTypeGrpCd>3</tcsCarTypeGrpCd><tcsCarTypeGrpNm>대형차</tcsCarTypeGrpNm><tcsCarTypeNm>4종</tcsCarTypeNm><trafficAmout>1</trafficAmout><unitCode>058 </unitCode><unitName>지천</unitName></list><list><brofCode>610200</brofCode><brofName>대구</brofName><centerCode>905</centerCode><centerName>대구경북본부</centerName><inoutName>출구</inoutName><stdDate>20240206</stdDate><stdHour>15  </stdHour><tcsCarTypeCd>4</tcsCarTypeCd><tcsCarTypeGrpCd>3</tcsCarTypeGrpCd><tcsCarTypeGrpNm>대형차</tcsCarTypeGrpNm><tcsCarTypeNm>4종</tcsCarTypeNm><trafficAmout>1</trafficAmout><unitCode>058 </unitCode><unitName>지천</unitName></list><list><brofCode>610200</brofCode><brofName>대구</brofName><centerCode>905</centerCode><centerName>대구경북본부</centerName><inoutName>입구</inoutName><stdDate>20240206</stdDate><stdHour>15  </stdHour><tcsCarTypeCd>5</tcsCarTypeCd><tcsCarTypeGrpCd>3</tcsCarTypeGrpCd><tcsCarTypeGrpNm>대형차</tcsCarTypeGrpNm><tcsCarTypeNm>5종</tcsCarTypeNm><trafficAmout>1</trafficAmout><unitCode>058 </unitCode><unitName>지천</unitName></list><list><brofCode>610200</brofCode><brofName>대구</brofName><centerCode>905</centerCode><centerName>대구경북본부</centerName><inoutName>입구</inoutName><stdDate>20240206</stdDate><stdHour>15  </stdHour><tcsCarTypeCd>6</tcsCarTypeCd><tcsCarTypeGrpCd>1</tcsCarTypeGrpCd><tcsCarTypeGrpNm>소형차</tcsCarTypeGrpNm><tcsCarTypeNm>6종</tcsCarTypeNm><trafficAmout>4</trafficAmout><unitCode>058 </unitCode><unitName>지천</unitName></list><list><brofCode>610200</brofCode><brofName>대구</brofName><centerCode>905</centerCode><centerName>대구경북본부</centerName><inoutName>출구</inoutName><stdDate>20240206</stdDate><stdHour>15  </stdHour><tcsCarTypeCd>6</tcsCarTypeCd><tcsCarTypeGrpCd>1</tcsCarTypeGrpCd><tcsCarTypeGrpNm>소형차</tcsCarTypeGrpNm><tcsCarTypeNm>6종</tcsCarTypeNm><trafficAmout>3</trafficAmout><unitCode>058 </unitCode><unitName>지천</unitName></list><list><brofCode>610200</brofCode><brofName>대구</brofName><centerCode>905</centerCode><centerName>대구경북본부</centerName><inoutName>입구</inoutName><stdDate>20240206</stdDate><stdHour>15  </stdHour><tcsCarTypeCd>1</tcsCarTypeCd><tcsCarTypeGrpCd>1</tcsCarTypeGrpCd><tcsCarTypeGrpNm>소형차</tcsCarTypeGrpNm><tcsCarTypeNm>1종</tcsCarTypeNm><trafficAmout>1456</trafficAmout><unitCode>129 </unitCode><unitName>북대구</unitName></list><list><brofCode>610200</brofCode><brofName>대구</brofName><centerCode>905</centerCode><centerName>대구경북본부</centerName><inoutName>출구</inoutName><stdDate>20240206</stdDate><stdHour>15  </stdHour><tcsCarTypeCd>1</tcsCarTypeCd><tcsCarTypeGrpCd>1</tcsCarTypeGrpCd><tcsCarTypeGrpNm>소형차</tcsCarTypeGrpNm><tcsCarTypeNm>1종</tcsCarTypeNm><trafficAmout>2274</trafficAmout><unitCode>129 </unitCode><unitName>북대구</unitName></list><list><brofCode>610200</brofCode><brofName>대구</brofName><centerCode>905</centerCode><centerName>대구경북본부</centerName><inoutName>입구</inoutName><stdDate>20240206</stdDate><stdHour>15  </stdHour><tcsCarTypeCd>2</tcsCarTypeCd><tcsCarTypeGrpCd>2</tcsCarTypeGrpCd><tcsCarTypeGrpNm>중형차</tcsCarTypeGrpNm><tcsCarTypeNm>2종</tcsCarTypeNm><trafficAmout>46</trafficAmout><unitCode>129 </unitCode><unitName>북대구</unitName></list><list><brofCode>610200</brofCode><brofName>대구</brofName><centerCode>905</centerCode><centerName>대구경북본부</centerName><inoutName>출구</inoutName><stdDate>20240206</stdDate><stdHour>15  </stdHour><tcsCarTypeCd>2</tcsCarTypeCd><tcsCarTypeGrpCd>2</tcsCarTypeGrpCd><tcsCarTypeGrpNm>중형차</tcsCarTypeGrpNm><tcsCarTypeNm>2종</tcsCarTypeNm><trafficAmout>82</trafficAmout><unitCode>129 </unitCode><unitName>북대구</unitName></list><list><brofCode>610200</brofCode><brofName>대구</brofName><centerCode>905</centerCode><centerName>대구경북본부</centerName><inoutName>입구</inoutName><stdDate>20240206</stdDate><stdHour>15  </stdHour><tcsCarTypeCd>3</tcsCarTypeCd><tcsCarTypeGrpCd>3</tcsCarTypeGrpCd><tcsCarTypeGrpNm>대형차</tcsCarTypeGrpNm><tcsCarTypeNm>3종</tcsCarTypeNm><trafficAmout>33</trafficAmout><unitCode>129 </unitCode><unitName>북대구</unitName></list><list><brofCode>610200</brofCode><brofName>대구</brofName><centerCode>905</centerCode><centerName>대구경북본부</centerName><inoutName>출구</inoutName><stdDate>20240206</stdDate><stdHour>15  </stdHour><tcsCarTypeCd>3</tcsCarTypeCd><tcsCarTypeGrpCd>3</tcsCarTypeGrpCd><tcsCarTypeGrpNm>대형차</tcsCarTypeGrpNm><tcsCarTypeNm>3종</tcsCarTypeNm><trafficAmout>61</trafficAmout><unitCode>129 </unitCode><unitName>북대구</unitName></list><list><brofCode>610200</brofCode><brofName>대구</brofName><centerCode>905</centerCode><centerName>대구경북본부</centerName><inoutName>출구</inoutName><stdDate>20240206</stdDate><stdHour>15  </stdHour><tcsCarTypeCd>4</tcsCarTypeCd><tcsCarTypeGrpCd>3</tcsCarTypeGrpCd><tcsCarTypeGrpNm>대형차</tcsCarTypeGrpNm><tcsCarTypeNm>4종</tcsCarTypeNm><trafficAmout>40</trafficAmout><unitCode>129 </unitCode><unitName>북대구</unitName></list><list><brofCode>610200</brofCode><brofName>대구</brofName><centerCode>905</centerCode><centerName>대구경북본부</centerName><inoutName>입구</inoutName><stdDate>20240206</stdDate><stdHour>15  </stdHour><tcsCarTypeCd>4</tcsCarTypeCd><tcsCarTypeGrpCd>3</tcsCarTypeGrpCd><tcsCarTypeGrpNm>대형차</tcsCarTypeGrpNm><tcsCarTypeNm>4종</tcsCarTypeNm><trafficAmout>19</trafficAmout><unitCode>129 </unitCode><unitName>북대구</unitName></list><list><brofCode>610200</brofCode><brofName>대구</brofName><centerCode>905</centerCode><centerName>대구경북본부</centerName><inoutName>입구</inoutName><stdDate>20240206</stdDate><stdHour>15  </stdHour><tcsCarTypeCd>5</tcsCarTypeCd><tcsCarTypeGrpCd>3</tcsCarTypeGrpCd><tcsCarTypeGrpNm>대형차</tcsCarTypeGrpNm><tcsCarTypeNm>5종</tcsCarTypeNm><trafficAmout>17</trafficAmout><unitCode>129 </unitCode><unitName>북대구</unitName></list><list><brofCode>610200</brofCode><brofName>대구</brofName><centerCode>905</centerCode><centerName>대구경북본부</centerName><inoutName>출구</inoutName><stdDate>20240206</stdDate><stdHour>15  </stdHour><tcsCarTypeCd>5</tcsCarTypeCd><tcsCarTypeGrpCd>3</tcsCarTypeGrpCd><tcsCarTypeGrpNm>대형차</tcsCarTypeGrpNm><tcsCarTypeNm>5종</tcsCarTypeNm><trafficAmout>47</trafficAmout><unitCode>129 </unitCode><unitName>북대구</unitName></list><numOfRows>99</numOfRows><pageNo>26</pageNo><pageSize>58</pageSize></data>'"
      ]
     },
     "execution_count": 9,
     "metadata": {},
     "output_type": "execute_result"
    }
   ],
   "source": [
    "data = str(response.content, \"utf-8\")\n",
    "data"
   ]
  },
  {
   "cell_type": "markdown",
   "id": "bd8da2c1",
   "metadata": {},
   "source": [
    "<h2>01. 파싱하기<h2>"
   ]
  },
  {
   "cell_type": "code",
   "execution_count": 10,
   "id": "88f64ee2",
   "metadata": {},
   "outputs": [],
   "source": [
    "#파싱 하기\n",
    "\n",
    "import xml.etree.ElementTree as ET"
   ]
  },
  {
   "cell_type": "code",
   "execution_count": 11,
   "id": "5975b9e4",
   "metadata": {},
   "outputs": [
    {
     "data": {
      "text/plain": [
       "<Element 'data' at 0x7fc1f03cf950>"
      ]
     },
     "execution_count": 11,
     "metadata": {},
     "output_type": "execute_result"
    }
   ],
   "source": [
    "tree = ET.fromstring(data)\n",
    "tree"
   ]
  },
  {
   "cell_type": "markdown",
   "id": "6051ea14",
   "metadata": {},
   "source": [
    "<h2>02. 데이터 확인<h2>"
   ]
  },
  {
   "cell_type": "code",
   "execution_count": 12,
   "id": "aa63016a",
   "metadata": {},
   "outputs": [
    {
     "data": {
      "text/plain": [
       "105"
      ]
     },
     "execution_count": 12,
     "metadata": {},
     "output_type": "execute_result"
    }
   ],
   "source": [
    "#데이터 길이(크기)\n",
    "\n",
    "len(tree)"
   ]
  },
  {
   "cell_type": "code",
   "execution_count": 13,
   "id": "22f8c024",
   "metadata": {
    "scrolled": true
   },
   "outputs": [
    {
     "data": {
      "text/plain": [
       "[<Element 'code' at 0x7fc1f03cf9a0>,\n",
       " <Element 'message' at 0x7fc1f03cf9f0>,\n",
       " <Element 'count' at 0x7fc1f03cfa40>,\n",
       " <Element 'list' at 0x7fc1f03cfa90>,\n",
       " <Element 'list' at 0x7fc1f03cff40>,\n",
       " <Element 'list' at 0x7fc1f03d3450>,\n",
       " <Element 'list' at 0x7fc1f03c1ea0>,\n",
       " <Element 'list' at 0x7fc1f03b46d0>,\n",
       " <Element 'list' at 0x7fc1f03d3900>,\n",
       " <Element 'list' at 0x7fc1f03d3db0>,\n",
       " <Element 'list' at 0x7fc1f03ba2c0>,\n",
       " <Element 'list' at 0x7fc1f03ba770>,\n",
       " <Element 'list' at 0x7fc1f03bac20>,\n",
       " <Element 'list' at 0x7fc1f03d6130>,\n",
       " <Element 'list' at 0x7fc1f03d65e0>,\n",
       " <Element 'list' at 0x7fc1f03d6a90>,\n",
       " <Element 'list' at 0x7fc1f03d6f40>,\n",
       " <Element 'list' at 0x7fc1f03d7450>,\n",
       " <Element 'list' at 0x7fc1f03d7900>,\n",
       " <Element 'list' at 0x7fc1f03d7db0>,\n",
       " <Element 'list' at 0x7fc1f03da2c0>,\n",
       " <Element 'list' at 0x7fc1f03da770>,\n",
       " <Element 'list' at 0x7fc1f03dac20>,\n",
       " <Element 'list' at 0x7fc1f03dc130>,\n",
       " <Element 'list' at 0x7fc1f03dc5e0>,\n",
       " <Element 'list' at 0x7fc1f03dca90>,\n",
       " <Element 'list' at 0x7fc1f03dcf40>,\n",
       " <Element 'list' at 0x7fc1f03dd450>,\n",
       " <Element 'list' at 0x7fc1f03dd900>,\n",
       " <Element 'list' at 0x7fc1f03dddb0>,\n",
       " <Element 'list' at 0x7fc1f03e02c0>,\n",
       " <Element 'list' at 0x7fc1f03e0770>,\n",
       " <Element 'list' at 0x7fc1f03e0c20>,\n",
       " <Element 'list' at 0x7fc1f03e1130>,\n",
       " <Element 'list' at 0x7fc1f03e15e0>,\n",
       " <Element 'list' at 0x7fc1f03e1a90>,\n",
       " <Element 'list' at 0x7fc1f03e1f40>,\n",
       " <Element 'list' at 0x7fc1f03e2450>,\n",
       " <Element 'list' at 0x7fc1f03e2900>,\n",
       " <Element 'list' at 0x7fc1f03e2db0>,\n",
       " <Element 'list' at 0x7fc1f03e52c0>,\n",
       " <Element 'list' at 0x7fc1f03e5770>,\n",
       " <Element 'list' at 0x7fc1f03e5c20>,\n",
       " <Element 'list' at 0x7fc1f03e7130>,\n",
       " <Element 'list' at 0x7fc1f03e75e0>,\n",
       " <Element 'list' at 0x7fc1f03e7a90>,\n",
       " <Element 'list' at 0x7fc1f03e7f40>,\n",
       " <Element 'list' at 0x7fc1f03ea450>,\n",
       " <Element 'list' at 0x7fc1f03ea900>,\n",
       " <Element 'list' at 0x7fc1f03eadb0>,\n",
       " <Element 'list' at 0x7fc1f03eb2c0>,\n",
       " <Element 'list' at 0x7fc1f03eb770>,\n",
       " <Element 'list' at 0x7fc1f03ebc20>,\n",
       " <Element 'list' at 0x7fc1f03ec130>,\n",
       " <Element 'list' at 0x7fc1f03ec5e0>,\n",
       " <Element 'list' at 0x7fc1f03eca90>,\n",
       " <Element 'list' at 0x7fc1f03ecf40>,\n",
       " <Element 'list' at 0x7fc1f03ef450>,\n",
       " <Element 'list' at 0x7fc1f03ef900>,\n",
       " <Element 'list' at 0x7fc1f03efdb0>,\n",
       " <Element 'list' at 0x7fc212e612c0>,\n",
       " <Element 'list' at 0x7fc212e61770>,\n",
       " <Element 'list' at 0x7fc212e61c20>,\n",
       " <Element 'list' at 0x7fc212e63130>,\n",
       " <Element 'list' at 0x7fc212e635e0>,\n",
       " <Element 'list' at 0x7fc212e63a90>,\n",
       " <Element 'list' at 0x7fc212e63f40>,\n",
       " <Element 'list' at 0x7fc212e65450>,\n",
       " <Element 'list' at 0x7fc212e65900>,\n",
       " <Element 'list' at 0x7fc212e65db0>,\n",
       " <Element 'list' at 0x7fc212e662c0>,\n",
       " <Element 'list' at 0x7fc212e66770>,\n",
       " <Element 'list' at 0x7fc212e66c20>,\n",
       " <Element 'list' at 0x7fc212e68130>,\n",
       " <Element 'list' at 0x7fc212e685e0>,\n",
       " <Element 'list' at 0x7fc212e68a90>,\n",
       " <Element 'list' at 0x7fc212e68f40>,\n",
       " <Element 'list' at 0x7fc212e6b450>,\n",
       " <Element 'list' at 0x7fc212e6b900>,\n",
       " <Element 'list' at 0x7fc212e6bdb0>,\n",
       " <Element 'list' at 0x7fc212e6d2c0>,\n",
       " <Element 'list' at 0x7fc212e6d770>,\n",
       " <Element 'list' at 0x7fc212e6dc20>,\n",
       " <Element 'list' at 0x7fc212e6e130>,\n",
       " <Element 'list' at 0x7fc212e6e5e0>,\n",
       " <Element 'list' at 0x7fc212e6ea90>,\n",
       " <Element 'list' at 0x7fc212e6ef40>,\n",
       " <Element 'list' at 0x7fc212e70450>,\n",
       " <Element 'list' at 0x7fc212e70900>,\n",
       " <Element 'list' at 0x7fc212e70db0>,\n",
       " <Element 'list' at 0x7fc212e722c0>,\n",
       " <Element 'list' at 0x7fc212e72770>,\n",
       " <Element 'list' at 0x7fc212e72c20>,\n",
       " <Element 'list' at 0x7fc212e73130>,\n",
       " <Element 'list' at 0x7fc212e735e0>,\n",
       " <Element 'list' at 0x7fc212e73a90>,\n",
       " <Element 'list' at 0x7fc212e73f40>,\n",
       " <Element 'list' at 0x7fc212e77450>,\n",
       " <Element 'list' at 0x7fc212e77900>,\n",
       " <Element 'list' at 0x7fc212e77db0>,\n",
       " <Element 'list' at 0x7fc212e782c0>,\n",
       " <Element 'list' at 0x7fc212e78770>,\n",
       " <Element 'numOfRows' at 0x7fc212e78c20>,\n",
       " <Element 'pageNo' at 0x7fc212e78c70>,\n",
       " <Element 'pageSize' at 0x7fc212e78cc0>]"
      ]
     },
     "execution_count": 13,
     "metadata": {},
     "output_type": "execute_result"
    }
   ],
   "source": [
    "#tree 안에 데이터를 list로 변환\n",
    "\n",
    "list(tree)"
   ]
  },
  {
   "cell_type": "code",
   "execution_count": 14,
   "id": "310ea77d",
   "metadata": {},
   "outputs": [
    {
     "data": {
      "text/plain": [
       "<Element 'centerCode' at 0x7fc1f03d3540>"
      ]
     },
     "execution_count": 14,
     "metadata": {},
     "output_type": "execute_result"
    }
   ],
   "source": [
    "tree[5][2]"
   ]
  },
  {
   "cell_type": "code",
   "execution_count": 15,
   "id": "974d51a6",
   "metadata": {},
   "outputs": [
    {
     "name": "stdout",
     "output_type": "stream",
     "text": [
      "14\n",
      "<Element 'list' at 0x7fc1f03ba2c0>\n"
     ]
    }
   ],
   "source": [
    "new_data = tree[10]\n",
    "print(len(new_data))\n",
    "print(new_data)"
   ]
  },
  {
   "cell_type": "code",
   "execution_count": 16,
   "id": "f1f48bfb",
   "metadata": {},
   "outputs": [
    {
     "name": "stdout",
     "output_type": "stream",
     "text": [
      "0 brofCode 610100\n",
      "1 brofName 구미\n",
      "2 centerCode 905\n",
      "3 centerName 대구경북본부\n",
      "4 inoutName 출구\n",
      "5 stdDate 20240206\n",
      "6 stdHour 15  \n",
      "7 tcsCarTypeCd 4\n",
      "8 tcsCarTypeGrpCd 3\n",
      "9 tcsCarTypeGrpNm 대형차\n",
      "10 tcsCarTypeNm 4종\n",
      "11 trafficAmout 27\n",
      "12 unitCode 123 \n",
      "13 unitName 구미\n"
     ]
    }
   ],
   "source": [
    "for i in range(len(new_data)) :\n",
    "    print(i, new_data[i].tag, new_data[i].text) #-> <brofCode>210100</brofCode> ->> <tag> text </tag> 꼴로 정리"
   ]
  },
  {
   "cell_type": "markdown",
   "id": "72d4caa7",
   "metadata": {},
   "source": [
    "<h2>[참고] 복합데이터 list<h2>"
   ]
  },
  {
   "cell_type": "code",
   "execution_count": 17,
   "id": "5953dc44",
   "metadata": {},
   "outputs": [],
   "source": [
    "list = [10, 20, 30]"
   ]
  },
  {
   "cell_type": "code",
   "execution_count": 18,
   "id": "8f2a3660",
   "metadata": {},
   "outputs": [],
   "source": [
    "list = [10, 20, 30, [40, 50, 60]]"
   ]
  },
  {
   "cell_type": "code",
   "execution_count": 19,
   "id": "69396048",
   "metadata": {},
   "outputs": [],
   "source": [
    "list = [1, 2, 3, ['list1', 'list2', 'list3', 'liste4'], ['f1', 'f2', 'f3','f4'] ]"
   ]
  },
  {
   "cell_type": "markdown",
   "id": "521c3925",
   "metadata": {},
   "source": [
    "<h2>필요한 데이터만 추출<h2>"
   ]
  },
  {
   "cell_type": "code",
   "execution_count": 20,
   "id": "594bab3c",
   "metadata": {},
   "outputs": [
    {
     "name": "stdout",
     "output_type": "stream",
     "text": [
      "구미 대구경북본부 출구 20240206 15   6 1 소형차 6종 122  김천 trafficAmout 12\n",
      "구미 대구경북본부 입구 20240206 15   1 1 소형차 1종 123  구미 trafficAmout 843\n",
      "구미 대구경북본부 출구 20240206 15   1 1 소형차 1종 123  구미 trafficAmout 830\n",
      "구미 대구경북본부 입구 20240206 15   2 2 중형차 2종 123  구미 trafficAmout 16\n",
      "구미 대구경북본부 출구 20240206 15   2 2 중형차 2종 123  구미 trafficAmout 31\n",
      "구미 대구경북본부 입구 20240206 15   3 3 대형차 3종 123  구미 trafficAmout 22\n",
      "구미 대구경북본부 출구 20240206 15   3 3 대형차 3종 123  구미 trafficAmout 33\n",
      "구미 대구경북본부 출구 20240206 15   4 3 대형차 4종 123  구미 trafficAmout 27\n",
      "구미 대구경북본부 입구 20240206 15   4 3 대형차 4종 123  구미 trafficAmout 9\n",
      "구미 대구경북본부 입구 20240206 15   5 3 대형차 5종 123  구미 trafficAmout 18\n",
      "구미 대구경북본부 출구 20240206 15   5 3 대형차 5종 123  구미 trafficAmout 22\n",
      "구미 대구경북본부 입구 20240206 15   6 1 소형차 6종 123  구미 trafficAmout 30\n",
      "구미 대구경북본부 출구 20240206 15   6 1 소형차 6종 123  구미 trafficAmout 40\n",
      "구미 대구경북본부 입구 20240206 15   1 1 소형차 1종 125  남구미 trafficAmout 694\n",
      "구미 대구경북본부 출구 20240206 15   1 1 소형차 1종 125  남구미 trafficAmout 595\n",
      "구미 대구경북본부 입구 20240206 15   2 2 중형차 2종 125  남구미 trafficAmout 33\n",
      "구미 대구경북본부 출구 20240206 15   2 2 중형차 2종 125  남구미 trafficAmout 37\n",
      "구미 대구경북본부 입구 20240206 15   3 3 대형차 3종 125  남구미 trafficAmout 28\n",
      "구미 대구경북본부 출구 20240206 15   3 3 대형차 3종 125  남구미 trafficAmout 42\n",
      "구미 대구경북본부 출구 20240206 15   4 3 대형차 4종 125  남구미 trafficAmout 47\n",
      "구미 대구경북본부 입구 20240206 15   4 3 대형차 4종 125  남구미 trafficAmout 27\n",
      "구미 대구경북본부 입구 20240206 15   5 3 대형차 5종 125  남구미 trafficAmout 67\n",
      "구미 대구경북본부 출구 20240206 15   5 3 대형차 5종 125  남구미 trafficAmout 57\n",
      "구미 대구경북본부 입구 20240206 15   6 1 소형차 6종 125  남구미 trafficAmout 26\n",
      "구미 대구경북본부 출구 20240206 15   6 1 소형차 6종 125  남구미 trafficAmout 25\n",
      "구미 대구경북본부 입구 20240206 15   1 1 소형차 1종 126  왜관 trafficAmout 779\n",
      "구미 대구경북본부 출구 20240206 15   1 1 소형차 1종 126  왜관 trafficAmout 716\n",
      "구미 대구경북본부 입구 20240206 15   2 2 중형차 2종 126  왜관 trafficAmout 42\n",
      "구미 대구경북본부 출구 20240206 15   2 2 중형차 2종 126  왜관 trafficAmout 56\n",
      "구미 대구경북본부 입구 20240206 15   3 3 대형차 3종 126  왜관 trafficAmout 21\n",
      "구미 대구경북본부 출구 20240206 15   3 3 대형차 3종 126  왜관 trafficAmout 57\n",
      "구미 대구경북본부 출구 20240206 15   4 3 대형차 4종 126  왜관 trafficAmout 48\n",
      "구미 대구경북본부 입구 20240206 15   4 3 대형차 4종 126  왜관 trafficAmout 25\n",
      "구미 대구경북본부 입구 20240206 15   5 3 대형차 5종 126  왜관 trafficAmout 58\n",
      "구미 대구경북본부 출구 20240206 15   5 3 대형차 5종 126  왜관 trafficAmout 51\n",
      "구미 대구경북본부 입구 20240206 15   6 1 소형차 6종 126  왜관 trafficAmout 28\n",
      "구미 대구경북본부 출구 20240206 15   6 1 소형차 6종 126  왜관 trafficAmout 25\n",
      "구미 대구경북본부 입구 20240206 15   1 1 소형차 1종 130  동김천 trafficAmout 405\n",
      "구미 대구경북본부 출구 20240206 15   1 1 소형차 1종 130  동김천 trafficAmout 311\n",
      "구미 대구경북본부 입구 20240206 15   2 2 중형차 2종 130  동김천 trafficAmout 10\n",
      "구미 대구경북본부 출구 20240206 15   2 2 중형차 2종 130  동김천 trafficAmout 11\n",
      "구미 대구경북본부 입구 20240206 15   3 3 대형차 3종 130  동김천 trafficAmout 9\n",
      "구미 대구경북본부 출구 20240206 15   3 3 대형차 3종 130  동김천 trafficAmout 36\n",
      "구미 대구경북본부 출구 20240206 15   4 3 대형차 4종 130  동김천 trafficAmout 18\n",
      "구미 대구경북본부 입구 20240206 15   4 3 대형차 4종 130  동김천 trafficAmout 9\n",
      "구미 대구경북본부 입구 20240206 15   5 3 대형차 5종 130  동김천 trafficAmout 38\n",
      "구미 대구경북본부 출구 20240206 15   5 3 대형차 5종 130  동김천 trafficAmout 30\n",
      "구미 대구경북본부 입구 20240206 15   6 1 소형차 6종 130  동김천 trafficAmout 19\n",
      "구미 대구경북본부 출구 20240206 15   6 1 소형차 6종 130  동김천 trafficAmout 17\n",
      "구미 대구경북본부 입구 20240206 15   1 1 소형차 1종 518  칠곡물류 trafficAmout 265\n",
      "구미 대구경북본부 출구 20240206 15   1 1 소형차 1종 518  칠곡물류 trafficAmout 210\n",
      "구미 대구경북본부 입구 20240206 15   2 2 중형차 2종 518  칠곡물류 trafficAmout 18\n",
      "구미 대구경북본부 출구 20240206 15   2 2 중형차 2종 518  칠곡물류 trafficAmout 37\n",
      "구미 대구경북본부 입구 20240206 15   3 3 대형차 3종 518  칠곡물류 trafficAmout 13\n",
      "구미 대구경북본부 출구 20240206 15   3 3 대형차 3종 518  칠곡물류 trafficAmout 55\n",
      "구미 대구경북본부 출구 20240206 15   4 3 대형차 4종 518  칠곡물류 trafficAmout 60\n",
      "구미 대구경북본부 입구 20240206 15   4 3 대형차 4종 518  칠곡물류 trafficAmout 24\n",
      "구미 대구경북본부 입구 20240206 15   5 3 대형차 5종 518  칠곡물류 trafficAmout 17\n",
      "구미 대구경북본부 출구 20240206 15   5 3 대형차 5종 518  칠곡물류 trafficAmout 24\n",
      "구미 대구경북본부 입구 20240206 15   6 1 소형차 6종 518  칠곡물류 trafficAmout 6\n",
      "구미 대구경북본부 출구 20240206 15   6 1 소형차 6종 518  칠곡물류 trafficAmout 3\n",
      "구미 대구경북본부 출구 20240206 15   1 1 소형차 1종 723  북구미 trafficAmout 291\n",
      "구미 대구경북본부 입구 20240206 15   1 1 소형차 1종 723  북구미 trafficAmout 275\n",
      "구미 대구경북본부 출구 20240206 15   2 2 중형차 2종 723  북구미 trafficAmout 6\n",
      "구미 대구경북본부 입구 20240206 15   2 2 중형차 2종 723  북구미 trafficAmout 13\n",
      "구미 대구경북본부 입구 20240206 15   3 3 대형차 3종 723  북구미 trafficAmout 2\n",
      "구미 대구경북본부 출구 20240206 15   3 3 대형차 3종 723  북구미 trafficAmout 2\n",
      "구미 대구경북본부 출구 20240206 15   4 3 대형차 4종 723  북구미 trafficAmout 1\n",
      "구미 대구경북본부 출구 20240206 15   5 3 대형차 5종 723  북구미 trafficAmout 4\n",
      "구미 대구경북본부 출구 20240206 15   6 1 소형차 6종 723  북구미 trafficAmout 16\n",
      "구미 대구경북본부 입구 20240206 15   6 1 소형차 6종 723  북구미 trafficAmout 9\n",
      "대구 대구경북본부 출구 20240206 15   1 1 소형차 1종 057  다사 trafficAmout 78\n",
      "대구 대구경북본부 입구 20240206 15   1 1 소형차 1종 057  다사 trafficAmout 87\n",
      "대구 대구경북본부 출구 20240206 15   2 2 중형차 2종 057  다사 trafficAmout 4\n",
      "대구 대구경북본부 입구 20240206 15   2 2 중형차 2종 057  다사 trafficAmout 2\n",
      "대구 대구경북본부 입구 20240206 15   3 3 대형차 3종 057  다사 trafficAmout 2\n",
      "대구 대구경북본부 출구 20240206 15   3 3 대형차 3종 057  다사 trafficAmout 1\n",
      "대구 대구경북본부 입구 20240206 15   5 3 대형차 5종 057  다사 trafficAmout 1\n",
      "대구 대구경북본부 입구 20240206 15   6 1 소형차 6종 057  다사 trafficAmout 7\n",
      "대구 대구경북본부 출구 20240206 15   6 1 소형차 6종 057  다사 trafficAmout 5\n",
      "대구 대구경북본부 출구 20240206 15   1 1 소형차 1종 058  지천 trafficAmout 56\n",
      "대구 대구경북본부 입구 20240206 15   1 1 소형차 1종 058  지천 trafficAmout 39\n",
      "대구 대구경북본부 출구 20240206 15   2 2 중형차 2종 058  지천 trafficAmout 4\n",
      "대구 대구경북본부 출구 20240206 15   3 3 대형차 3종 058  지천 trafficAmout 3\n",
      "대구 대구경북본부 입구 20240206 15   4 3 대형차 4종 058  지천 trafficAmout 1\n",
      "대구 대구경북본부 출구 20240206 15   4 3 대형차 4종 058  지천 trafficAmout 1\n",
      "대구 대구경북본부 입구 20240206 15   5 3 대형차 5종 058  지천 trafficAmout 1\n",
      "대구 대구경북본부 입구 20240206 15   6 1 소형차 6종 058  지천 trafficAmout 4\n",
      "대구 대구경북본부 출구 20240206 15   6 1 소형차 6종 058  지천 trafficAmout 3\n",
      "대구 대구경북본부 입구 20240206 15   1 1 소형차 1종 129  북대구 trafficAmout 1456\n",
      "대구 대구경북본부 출구 20240206 15   1 1 소형차 1종 129  북대구 trafficAmout 2274\n",
      "대구 대구경북본부 입구 20240206 15   2 2 중형차 2종 129  북대구 trafficAmout 46\n",
      "대구 대구경북본부 출구 20240206 15   2 2 중형차 2종 129  북대구 trafficAmout 82\n",
      "대구 대구경북본부 입구 20240206 15   3 3 대형차 3종 129  북대구 trafficAmout 33\n",
      "대구 대구경북본부 출구 20240206 15   3 3 대형차 3종 129  북대구 trafficAmout 61\n",
      "대구 대구경북본부 출구 20240206 15   4 3 대형차 4종 129  북대구 trafficAmout 40\n",
      "대구 대구경북본부 입구 20240206 15   4 3 대형차 4종 129  북대구 trafficAmout 19\n",
      "대구 대구경북본부 입구 20240206 15   5 3 대형차 5종 129  북대구 trafficAmout 17\n",
      "대구 대구경북본부 출구 20240206 15   5 3 대형차 5종 129  북대구 trafficAmout 47\n"
     ]
    }
   ],
   "source": [
    "for a in range (3, 102):\n",
    "    new_data = tree[a]\n",
    "    print(new_data[1].text, new_data[3].text, new_data[4].text, \n",
    "          new_data[5].text, new_data[6].text, new_data[7].text, \n",
    "          new_data[8].text, new_data[9].text, new_data[10].text, \n",
    "          new_data[12].text, new_data[13].text, new_data[11].tag, new_data[11].text)"
   ]
  },
  {
   "cell_type": "markdown",
   "id": "9c18f82a",
   "metadata": {},
   "source": [
    "<h2>3. 필요 데이터 배열 생성<h2>"
   ]
  },
  {
   "cell_type": "code",
   "execution_count": 21,
   "id": "10acc963",
   "metadata": {},
   "outputs": [
    {
     "data": {
      "text/plain": [
       "[['출구', '12', '김천'],\n",
       " ['입구', '843', '구미'],\n",
       " ['출구', '830', '구미'],\n",
       " ['입구', '16', '구미'],\n",
       " ['출구', '31', '구미'],\n",
       " ['입구', '22', '구미'],\n",
       " ['출구', '33', '구미'],\n",
       " ['출구', '27', '구미'],\n",
       " ['입구', '9', '구미'],\n",
       " ['입구', '18', '구미'],\n",
       " ['출구', '22', '구미'],\n",
       " ['입구', '30', '구미'],\n",
       " ['출구', '40', '구미'],\n",
       " ['입구', '694', '남구미'],\n",
       " ['출구', '595', '남구미'],\n",
       " ['입구', '33', '남구미'],\n",
       " ['출구', '37', '남구미'],\n",
       " ['입구', '28', '남구미'],\n",
       " ['출구', '42', '남구미'],\n",
       " ['출구', '47', '남구미'],\n",
       " ['입구', '27', '남구미'],\n",
       " ['입구', '67', '남구미'],\n",
       " ['출구', '57', '남구미'],\n",
       " ['입구', '26', '남구미'],\n",
       " ['출구', '25', '남구미'],\n",
       " ['입구', '779', '왜관'],\n",
       " ['출구', '716', '왜관'],\n",
       " ['입구', '42', '왜관'],\n",
       " ['출구', '56', '왜관'],\n",
       " ['입구', '21', '왜관'],\n",
       " ['출구', '57', '왜관'],\n",
       " ['출구', '48', '왜관'],\n",
       " ['입구', '25', '왜관'],\n",
       " ['입구', '58', '왜관'],\n",
       " ['출구', '51', '왜관'],\n",
       " ['입구', '28', '왜관'],\n",
       " ['출구', '25', '왜관'],\n",
       " ['입구', '405', '동김천'],\n",
       " ['출구', '311', '동김천'],\n",
       " ['입구', '10', '동김천'],\n",
       " ['출구', '11', '동김천'],\n",
       " ['입구', '9', '동김천'],\n",
       " ['출구', '36', '동김천'],\n",
       " ['출구', '18', '동김천'],\n",
       " ['입구', '9', '동김천'],\n",
       " ['입구', '38', '동김천'],\n",
       " ['출구', '30', '동김천'],\n",
       " ['입구', '19', '동김천'],\n",
       " ['출구', '17', '동김천'],\n",
       " ['입구', '265', '칠곡물류'],\n",
       " ['출구', '210', '칠곡물류'],\n",
       " ['입구', '18', '칠곡물류'],\n",
       " ['출구', '37', '칠곡물류'],\n",
       " ['입구', '13', '칠곡물류'],\n",
       " ['출구', '55', '칠곡물류'],\n",
       " ['출구', '60', '칠곡물류'],\n",
       " ['입구', '24', '칠곡물류'],\n",
       " ['입구', '17', '칠곡물류'],\n",
       " ['출구', '24', '칠곡물류'],\n",
       " ['입구', '6', '칠곡물류'],\n",
       " ['출구', '3', '칠곡물류'],\n",
       " ['출구', '291', '북구미'],\n",
       " ['입구', '275', '북구미'],\n",
       " ['출구', '6', '북구미'],\n",
       " ['입구', '13', '북구미'],\n",
       " ['입구', '2', '북구미'],\n",
       " ['출구', '2', '북구미'],\n",
       " ['출구', '1', '북구미'],\n",
       " ['출구', '4', '북구미'],\n",
       " ['출구', '16', '북구미'],\n",
       " ['입구', '9', '북구미'],\n",
       " ['출구', '78', '다사'],\n",
       " ['입구', '87', '다사'],\n",
       " ['출구', '4', '다사'],\n",
       " ['입구', '2', '다사'],\n",
       " ['입구', '2', '다사'],\n",
       " ['출구', '1', '다사'],\n",
       " ['입구', '1', '다사'],\n",
       " ['입구', '7', '다사'],\n",
       " ['출구', '5', '다사'],\n",
       " ['출구', '56', '지천'],\n",
       " ['입구', '39', '지천'],\n",
       " ['출구', '4', '지천'],\n",
       " ['출구', '3', '지천'],\n",
       " ['입구', '1', '지천'],\n",
       " ['출구', '1', '지천'],\n",
       " ['입구', '1', '지천'],\n",
       " ['입구', '4', '지천'],\n",
       " ['출구', '3', '지천'],\n",
       " ['입구', '1456', '북대구'],\n",
       " ['출구', '2274', '북대구'],\n",
       " ['입구', '46', '북대구'],\n",
       " ['출구', '82', '북대구'],\n",
       " ['입구', '33', '북대구'],\n",
       " ['출구', '61', '북대구'],\n",
       " ['출구', '40', '북대구'],\n",
       " ['입구', '19', '북대구'],\n",
       " ['입구', '17', '북대구'],\n",
       " ['출구', '47', '북대구']]"
      ]
     },
     "execution_count": 21,
     "metadata": {},
     "output_type": "execute_result"
    }
   ],
   "source": [
    "df = []\n",
    "for a in range(3, 102):\n",
    "    temp=[]\n",
    "    for b in [4, 11, 13]:\n",
    "        temp.append(tree[a][b].text)\n",
    "    df.append(temp)\n",
    "\n",
    "df"
   ]
  },
  {
   "cell_type": "markdown",
   "id": "0be65eee",
   "metadata": {},
   "source": [
    "<h2>4. 데이터 처리하기<h2>"
   ]
  },
  {
   "cell_type": "code",
   "execution_count": 22,
   "id": "4fa7b3e8",
   "metadata": {},
   "outputs": [
    {
     "data": {
      "text/html": [
       "<div>\n",
       "<style scoped>\n",
       "    .dataframe tbody tr th:only-of-type {\n",
       "        vertical-align: middle;\n",
       "    }\n",
       "\n",
       "    .dataframe tbody tr th {\n",
       "        vertical-align: top;\n",
       "    }\n",
       "\n",
       "    .dataframe thead th {\n",
       "        text-align: right;\n",
       "    }\n",
       "</style>\n",
       "<table border=\"1\" class=\"dataframe\">\n",
       "  <thead>\n",
       "    <tr style=\"text-align: right;\">\n",
       "      <th></th>\n",
       "      <th>0</th>\n",
       "      <th>1</th>\n",
       "      <th>2</th>\n",
       "    </tr>\n",
       "  </thead>\n",
       "  <tbody>\n",
       "    <tr>\n",
       "      <th>0</th>\n",
       "      <td>출구</td>\n",
       "      <td>12</td>\n",
       "      <td>김천</td>\n",
       "    </tr>\n",
       "    <tr>\n",
       "      <th>1</th>\n",
       "      <td>입구</td>\n",
       "      <td>843</td>\n",
       "      <td>구미</td>\n",
       "    </tr>\n",
       "    <tr>\n",
       "      <th>2</th>\n",
       "      <td>출구</td>\n",
       "      <td>830</td>\n",
       "      <td>구미</td>\n",
       "    </tr>\n",
       "    <tr>\n",
       "      <th>3</th>\n",
       "      <td>입구</td>\n",
       "      <td>16</td>\n",
       "      <td>구미</td>\n",
       "    </tr>\n",
       "    <tr>\n",
       "      <th>4</th>\n",
       "      <td>출구</td>\n",
       "      <td>31</td>\n",
       "      <td>구미</td>\n",
       "    </tr>\n",
       "    <tr>\n",
       "      <th>5</th>\n",
       "      <td>입구</td>\n",
       "      <td>22</td>\n",
       "      <td>구미</td>\n",
       "    </tr>\n",
       "    <tr>\n",
       "      <th>6</th>\n",
       "      <td>출구</td>\n",
       "      <td>33</td>\n",
       "      <td>구미</td>\n",
       "    </tr>\n",
       "    <tr>\n",
       "      <th>7</th>\n",
       "      <td>출구</td>\n",
       "      <td>27</td>\n",
       "      <td>구미</td>\n",
       "    </tr>\n",
       "    <tr>\n",
       "      <th>8</th>\n",
       "      <td>입구</td>\n",
       "      <td>9</td>\n",
       "      <td>구미</td>\n",
       "    </tr>\n",
       "    <tr>\n",
       "      <th>9</th>\n",
       "      <td>입구</td>\n",
       "      <td>18</td>\n",
       "      <td>구미</td>\n",
       "    </tr>\n",
       "  </tbody>\n",
       "</table>\n",
       "</div>"
      ],
      "text/plain": [
       "    0    1   2\n",
       "0  출구   12  김천\n",
       "1  입구  843  구미\n",
       "2  출구  830  구미\n",
       "3  입구   16  구미\n",
       "4  출구   31  구미\n",
       "5  입구   22  구미\n",
       "6  출구   33  구미\n",
       "7  출구   27  구미\n",
       "8  입구    9  구미\n",
       "9  입구   18  구미"
      ]
     },
     "execution_count": 22,
     "metadata": {},
     "output_type": "execute_result"
    }
   ],
   "source": [
    "df = pd.DataFrame(df)\n",
    "df.head(10) # .head를 parameter 없이 사용시 defualt 값으로 앞에서 5개의 데이터만 봄."
   ]
  },
  {
   "cell_type": "code",
   "execution_count": 23,
   "id": "ea77627a",
   "metadata": {},
   "outputs": [
    {
     "data": {
      "text/html": [
       "<div>\n",
       "<style scoped>\n",
       "    .dataframe tbody tr th:only-of-type {\n",
       "        vertical-align: middle;\n",
       "    }\n",
       "\n",
       "    .dataframe tbody tr th {\n",
       "        vertical-align: top;\n",
       "    }\n",
       "\n",
       "    .dataframe thead th {\n",
       "        text-align: right;\n",
       "    }\n",
       "</style>\n",
       "<table border=\"1\" class=\"dataframe\">\n",
       "  <thead>\n",
       "    <tr style=\"text-align: right;\">\n",
       "      <th></th>\n",
       "      <th>exit</th>\n",
       "      <th>volume</th>\n",
       "      <th>toll</th>\n",
       "    </tr>\n",
       "  </thead>\n",
       "  <tbody>\n",
       "    <tr>\n",
       "      <th>0</th>\n",
       "      <td>출구</td>\n",
       "      <td>12</td>\n",
       "      <td>김천</td>\n",
       "    </tr>\n",
       "    <tr>\n",
       "      <th>1</th>\n",
       "      <td>입구</td>\n",
       "      <td>843</td>\n",
       "      <td>구미</td>\n",
       "    </tr>\n",
       "    <tr>\n",
       "      <th>2</th>\n",
       "      <td>출구</td>\n",
       "      <td>830</td>\n",
       "      <td>구미</td>\n",
       "    </tr>\n",
       "    <tr>\n",
       "      <th>3</th>\n",
       "      <td>입구</td>\n",
       "      <td>16</td>\n",
       "      <td>구미</td>\n",
       "    </tr>\n",
       "    <tr>\n",
       "      <th>4</th>\n",
       "      <td>출구</td>\n",
       "      <td>31</td>\n",
       "      <td>구미</td>\n",
       "    </tr>\n",
       "  </tbody>\n",
       "</table>\n",
       "</div>"
      ],
      "text/plain": [
       "  exit volume toll\n",
       "0   출구     12   김천\n",
       "1   입구    843   구미\n",
       "2   출구    830   구미\n",
       "3   입구     16   구미\n",
       "4   출구     31   구미"
      ]
     },
     "execution_count": 23,
     "metadata": {},
     "output_type": "execute_result"
    }
   ],
   "source": [
    "#.columns -> 데이터 프레임의 열 이름 바꾸기\n",
    "df.columns = ['exit', 'volume', 'toll']\n",
    "df.head()"
   ]
  },
  {
   "cell_type": "code",
   "execution_count": 24,
   "id": "56fa7dbd",
   "metadata": {},
   "outputs": [
    {
     "name": "stdout",
     "output_type": "stream",
     "text": [
      "<class 'pandas.core.frame.DataFrame'>\n",
      "RangeIndex: 99 entries, 0 to 98\n",
      "Data columns (total 3 columns):\n",
      " #   Column  Non-Null Count  Dtype \n",
      "---  ------  --------------  ----- \n",
      " 0   exit    99 non-null     object\n",
      " 1   volume  99 non-null     object\n",
      " 2   toll    99 non-null     object\n",
      "dtypes: object(3)\n",
      "memory usage: 2.4+ KB\n"
     ]
    }
   ],
   "source": [
    "#volume 값의 형이 int인지 확인 -> 연산을 하기 위함\n",
    "df.info()"
   ]
  },
  {
   "cell_type": "code",
   "execution_count": 25,
   "id": "4a74ac49",
   "metadata": {},
   "outputs": [],
   "source": [
    "#df에 있는 volume 데이터를 int형으로 형변환\n",
    "df['volume'] = df['volume'].astype(int)"
   ]
  },
  {
   "cell_type": "code",
   "execution_count": 26,
   "id": "c73aa027",
   "metadata": {},
   "outputs": [
    {
     "name": "stdout",
     "output_type": "stream",
     "text": [
      "<class 'pandas.core.frame.DataFrame'>\n",
      "RangeIndex: 99 entries, 0 to 98\n",
      "Data columns (total 3 columns):\n",
      " #   Column  Non-Null Count  Dtype \n",
      "---  ------  --------------  ----- \n",
      " 0   exit    99 non-null     object\n",
      " 1   volume  99 non-null     int64 \n",
      " 2   toll    99 non-null     object\n",
      "dtypes: int64(1), object(2)\n",
      "memory usage: 2.4+ KB\n"
     ]
    }
   ],
   "source": [
    "#int형으로 형변환 확인\n",
    "df.info()"
   ]
  },
  {
   "cell_type": "code",
   "execution_count": 27,
   "id": "7d51d06a",
   "metadata": {},
   "outputs": [
    {
     "data": {
      "text/html": [
       "<div>\n",
       "<style scoped>\n",
       "    .dataframe tbody tr th:only-of-type {\n",
       "        vertical-align: middle;\n",
       "    }\n",
       "\n",
       "    .dataframe tbody tr th {\n",
       "        vertical-align: top;\n",
       "    }\n",
       "\n",
       "    .dataframe thead th {\n",
       "        text-align: right;\n",
       "    }\n",
       "</style>\n",
       "<table border=\"1\" class=\"dataframe\">\n",
       "  <thead>\n",
       "    <tr style=\"text-align: right;\">\n",
       "      <th></th>\n",
       "      <th>exit</th>\n",
       "      <th>volume</th>\n",
       "      <th>toll</th>\n",
       "    </tr>\n",
       "  </thead>\n",
       "  <tbody>\n",
       "    <tr>\n",
       "      <th>0</th>\n",
       "      <td>출구</td>\n",
       "      <td>12</td>\n",
       "      <td>김천</td>\n",
       "    </tr>\n",
       "    <tr>\n",
       "      <th>2</th>\n",
       "      <td>출구</td>\n",
       "      <td>830</td>\n",
       "      <td>구미</td>\n",
       "    </tr>\n",
       "    <tr>\n",
       "      <th>4</th>\n",
       "      <td>출구</td>\n",
       "      <td>31</td>\n",
       "      <td>구미</td>\n",
       "    </tr>\n",
       "    <tr>\n",
       "      <th>6</th>\n",
       "      <td>출구</td>\n",
       "      <td>33</td>\n",
       "      <td>구미</td>\n",
       "    </tr>\n",
       "    <tr>\n",
       "      <th>7</th>\n",
       "      <td>출구</td>\n",
       "      <td>27</td>\n",
       "      <td>구미</td>\n",
       "    </tr>\n",
       "    <tr>\n",
       "      <th>10</th>\n",
       "      <td>출구</td>\n",
       "      <td>22</td>\n",
       "      <td>구미</td>\n",
       "    </tr>\n",
       "    <tr>\n",
       "      <th>12</th>\n",
       "      <td>출구</td>\n",
       "      <td>40</td>\n",
       "      <td>구미</td>\n",
       "    </tr>\n",
       "    <tr>\n",
       "      <th>14</th>\n",
       "      <td>출구</td>\n",
       "      <td>595</td>\n",
       "      <td>남구미</td>\n",
       "    </tr>\n",
       "    <tr>\n",
       "      <th>16</th>\n",
       "      <td>출구</td>\n",
       "      <td>37</td>\n",
       "      <td>남구미</td>\n",
       "    </tr>\n",
       "    <tr>\n",
       "      <th>18</th>\n",
       "      <td>출구</td>\n",
       "      <td>42</td>\n",
       "      <td>남구미</td>\n",
       "    </tr>\n",
       "    <tr>\n",
       "      <th>19</th>\n",
       "      <td>출구</td>\n",
       "      <td>47</td>\n",
       "      <td>남구미</td>\n",
       "    </tr>\n",
       "    <tr>\n",
       "      <th>22</th>\n",
       "      <td>출구</td>\n",
       "      <td>57</td>\n",
       "      <td>남구미</td>\n",
       "    </tr>\n",
       "    <tr>\n",
       "      <th>24</th>\n",
       "      <td>출구</td>\n",
       "      <td>25</td>\n",
       "      <td>남구미</td>\n",
       "    </tr>\n",
       "    <tr>\n",
       "      <th>26</th>\n",
       "      <td>출구</td>\n",
       "      <td>716</td>\n",
       "      <td>왜관</td>\n",
       "    </tr>\n",
       "    <tr>\n",
       "      <th>28</th>\n",
       "      <td>출구</td>\n",
       "      <td>56</td>\n",
       "      <td>왜관</td>\n",
       "    </tr>\n",
       "    <tr>\n",
       "      <th>30</th>\n",
       "      <td>출구</td>\n",
       "      <td>57</td>\n",
       "      <td>왜관</td>\n",
       "    </tr>\n",
       "    <tr>\n",
       "      <th>31</th>\n",
       "      <td>출구</td>\n",
       "      <td>48</td>\n",
       "      <td>왜관</td>\n",
       "    </tr>\n",
       "    <tr>\n",
       "      <th>34</th>\n",
       "      <td>출구</td>\n",
       "      <td>51</td>\n",
       "      <td>왜관</td>\n",
       "    </tr>\n",
       "    <tr>\n",
       "      <th>36</th>\n",
       "      <td>출구</td>\n",
       "      <td>25</td>\n",
       "      <td>왜관</td>\n",
       "    </tr>\n",
       "    <tr>\n",
       "      <th>38</th>\n",
       "      <td>출구</td>\n",
       "      <td>311</td>\n",
       "      <td>동김천</td>\n",
       "    </tr>\n",
       "    <tr>\n",
       "      <th>40</th>\n",
       "      <td>출구</td>\n",
       "      <td>11</td>\n",
       "      <td>동김천</td>\n",
       "    </tr>\n",
       "    <tr>\n",
       "      <th>42</th>\n",
       "      <td>출구</td>\n",
       "      <td>36</td>\n",
       "      <td>동김천</td>\n",
       "    </tr>\n",
       "    <tr>\n",
       "      <th>43</th>\n",
       "      <td>출구</td>\n",
       "      <td>18</td>\n",
       "      <td>동김천</td>\n",
       "    </tr>\n",
       "    <tr>\n",
       "      <th>46</th>\n",
       "      <td>출구</td>\n",
       "      <td>30</td>\n",
       "      <td>동김천</td>\n",
       "    </tr>\n",
       "    <tr>\n",
       "      <th>48</th>\n",
       "      <td>출구</td>\n",
       "      <td>17</td>\n",
       "      <td>동김천</td>\n",
       "    </tr>\n",
       "    <tr>\n",
       "      <th>50</th>\n",
       "      <td>출구</td>\n",
       "      <td>210</td>\n",
       "      <td>칠곡물류</td>\n",
       "    </tr>\n",
       "    <tr>\n",
       "      <th>52</th>\n",
       "      <td>출구</td>\n",
       "      <td>37</td>\n",
       "      <td>칠곡물류</td>\n",
       "    </tr>\n",
       "    <tr>\n",
       "      <th>54</th>\n",
       "      <td>출구</td>\n",
       "      <td>55</td>\n",
       "      <td>칠곡물류</td>\n",
       "    </tr>\n",
       "    <tr>\n",
       "      <th>55</th>\n",
       "      <td>출구</td>\n",
       "      <td>60</td>\n",
       "      <td>칠곡물류</td>\n",
       "    </tr>\n",
       "    <tr>\n",
       "      <th>58</th>\n",
       "      <td>출구</td>\n",
       "      <td>24</td>\n",
       "      <td>칠곡물류</td>\n",
       "    </tr>\n",
       "    <tr>\n",
       "      <th>60</th>\n",
       "      <td>출구</td>\n",
       "      <td>3</td>\n",
       "      <td>칠곡물류</td>\n",
       "    </tr>\n",
       "    <tr>\n",
       "      <th>61</th>\n",
       "      <td>출구</td>\n",
       "      <td>291</td>\n",
       "      <td>북구미</td>\n",
       "    </tr>\n",
       "    <tr>\n",
       "      <th>63</th>\n",
       "      <td>출구</td>\n",
       "      <td>6</td>\n",
       "      <td>북구미</td>\n",
       "    </tr>\n",
       "    <tr>\n",
       "      <th>66</th>\n",
       "      <td>출구</td>\n",
       "      <td>2</td>\n",
       "      <td>북구미</td>\n",
       "    </tr>\n",
       "    <tr>\n",
       "      <th>67</th>\n",
       "      <td>출구</td>\n",
       "      <td>1</td>\n",
       "      <td>북구미</td>\n",
       "    </tr>\n",
       "    <tr>\n",
       "      <th>68</th>\n",
       "      <td>출구</td>\n",
       "      <td>4</td>\n",
       "      <td>북구미</td>\n",
       "    </tr>\n",
       "    <tr>\n",
       "      <th>69</th>\n",
       "      <td>출구</td>\n",
       "      <td>16</td>\n",
       "      <td>북구미</td>\n",
       "    </tr>\n",
       "    <tr>\n",
       "      <th>71</th>\n",
       "      <td>출구</td>\n",
       "      <td>78</td>\n",
       "      <td>다사</td>\n",
       "    </tr>\n",
       "    <tr>\n",
       "      <th>73</th>\n",
       "      <td>출구</td>\n",
       "      <td>4</td>\n",
       "      <td>다사</td>\n",
       "    </tr>\n",
       "    <tr>\n",
       "      <th>76</th>\n",
       "      <td>출구</td>\n",
       "      <td>1</td>\n",
       "      <td>다사</td>\n",
       "    </tr>\n",
       "    <tr>\n",
       "      <th>79</th>\n",
       "      <td>출구</td>\n",
       "      <td>5</td>\n",
       "      <td>다사</td>\n",
       "    </tr>\n",
       "    <tr>\n",
       "      <th>80</th>\n",
       "      <td>출구</td>\n",
       "      <td>56</td>\n",
       "      <td>지천</td>\n",
       "    </tr>\n",
       "    <tr>\n",
       "      <th>82</th>\n",
       "      <td>출구</td>\n",
       "      <td>4</td>\n",
       "      <td>지천</td>\n",
       "    </tr>\n",
       "    <tr>\n",
       "      <th>83</th>\n",
       "      <td>출구</td>\n",
       "      <td>3</td>\n",
       "      <td>지천</td>\n",
       "    </tr>\n",
       "    <tr>\n",
       "      <th>85</th>\n",
       "      <td>출구</td>\n",
       "      <td>1</td>\n",
       "      <td>지천</td>\n",
       "    </tr>\n",
       "    <tr>\n",
       "      <th>88</th>\n",
       "      <td>출구</td>\n",
       "      <td>3</td>\n",
       "      <td>지천</td>\n",
       "    </tr>\n",
       "    <tr>\n",
       "      <th>90</th>\n",
       "      <td>출구</td>\n",
       "      <td>2274</td>\n",
       "      <td>북대구</td>\n",
       "    </tr>\n",
       "    <tr>\n",
       "      <th>92</th>\n",
       "      <td>출구</td>\n",
       "      <td>82</td>\n",
       "      <td>북대구</td>\n",
       "    </tr>\n",
       "    <tr>\n",
       "      <th>94</th>\n",
       "      <td>출구</td>\n",
       "      <td>61</td>\n",
       "      <td>북대구</td>\n",
       "    </tr>\n",
       "    <tr>\n",
       "      <th>95</th>\n",
       "      <td>출구</td>\n",
       "      <td>40</td>\n",
       "      <td>북대구</td>\n",
       "    </tr>\n",
       "    <tr>\n",
       "      <th>98</th>\n",
       "      <td>출구</td>\n",
       "      <td>47</td>\n",
       "      <td>북대구</td>\n",
       "    </tr>\n",
       "  </tbody>\n",
       "</table>\n",
       "</div>"
      ],
      "text/plain": [
       "   exit  volume  toll\n",
       "0    출구      12    김천\n",
       "2    출구     830    구미\n",
       "4    출구      31    구미\n",
       "6    출구      33    구미\n",
       "7    출구      27    구미\n",
       "10   출구      22    구미\n",
       "12   출구      40    구미\n",
       "14   출구     595   남구미\n",
       "16   출구      37   남구미\n",
       "18   출구      42   남구미\n",
       "19   출구      47   남구미\n",
       "22   출구      57   남구미\n",
       "24   출구      25   남구미\n",
       "26   출구     716    왜관\n",
       "28   출구      56    왜관\n",
       "30   출구      57    왜관\n",
       "31   출구      48    왜관\n",
       "34   출구      51    왜관\n",
       "36   출구      25    왜관\n",
       "38   출구     311   동김천\n",
       "40   출구      11   동김천\n",
       "42   출구      36   동김천\n",
       "43   출구      18   동김천\n",
       "46   출구      30   동김천\n",
       "48   출구      17   동김천\n",
       "50   출구     210  칠곡물류\n",
       "52   출구      37  칠곡물류\n",
       "54   출구      55  칠곡물류\n",
       "55   출구      60  칠곡물류\n",
       "58   출구      24  칠곡물류\n",
       "60   출구       3  칠곡물류\n",
       "61   출구     291   북구미\n",
       "63   출구       6   북구미\n",
       "66   출구       2   북구미\n",
       "67   출구       1   북구미\n",
       "68   출구       4   북구미\n",
       "69   출구      16   북구미\n",
       "71   출구      78    다사\n",
       "73   출구       4    다사\n",
       "76   출구       1    다사\n",
       "79   출구       5    다사\n",
       "80   출구      56    지천\n",
       "82   출구       4    지천\n",
       "83   출구       3    지천\n",
       "85   출구       1    지천\n",
       "88   출구       3    지천\n",
       "90   출구    2274   북대구\n",
       "92   출구      82   북대구\n",
       "94   출구      61   북대구\n",
       "95   출구      40   북대구\n",
       "98   출구      47   북대구"
      ]
     },
     "execution_count": 27,
     "metadata": {},
     "output_type": "execute_result"
    }
   ],
   "source": [
    "#출구만 추려내기 .iloc -> 같은 index(여기서는 열) 값의 값들을 추려내줌\n",
    "df = df[df.iloc[:, 0] == '출구']\n",
    "\n",
    "df"
   ]
  },
  {
   "cell_type": "code",
   "execution_count": 28,
   "id": "eda045af",
   "metadata": {},
   "outputs": [
    {
     "data": {
      "text/html": [
       "<div>\n",
       "<style scoped>\n",
       "    .dataframe tbody tr th:only-of-type {\n",
       "        vertical-align: middle;\n",
       "    }\n",
       "\n",
       "    .dataframe tbody tr th {\n",
       "        vertical-align: top;\n",
       "    }\n",
       "\n",
       "    .dataframe thead th {\n",
       "        text-align: right;\n",
       "    }\n",
       "</style>\n",
       "<table border=\"1\" class=\"dataframe\">\n",
       "  <thead>\n",
       "    <tr style=\"text-align: right;\">\n",
       "      <th></th>\n",
       "      <th>volume</th>\n",
       "    </tr>\n",
       "    <tr>\n",
       "      <th>toll</th>\n",
       "      <th></th>\n",
       "    </tr>\n",
       "  </thead>\n",
       "  <tbody>\n",
       "    <tr>\n",
       "      <th>구미</th>\n",
       "      <td>983</td>\n",
       "    </tr>\n",
       "    <tr>\n",
       "      <th>김천</th>\n",
       "      <td>12</td>\n",
       "    </tr>\n",
       "    <tr>\n",
       "      <th>남구미</th>\n",
       "      <td>803</td>\n",
       "    </tr>\n",
       "    <tr>\n",
       "      <th>다사</th>\n",
       "      <td>88</td>\n",
       "    </tr>\n",
       "    <tr>\n",
       "      <th>동김천</th>\n",
       "      <td>423</td>\n",
       "    </tr>\n",
       "    <tr>\n",
       "      <th>북구미</th>\n",
       "      <td>320</td>\n",
       "    </tr>\n",
       "    <tr>\n",
       "      <th>북대구</th>\n",
       "      <td>2504</td>\n",
       "    </tr>\n",
       "    <tr>\n",
       "      <th>왜관</th>\n",
       "      <td>953</td>\n",
       "    </tr>\n",
       "    <tr>\n",
       "      <th>지천</th>\n",
       "      <td>67</td>\n",
       "    </tr>\n",
       "    <tr>\n",
       "      <th>칠곡물류</th>\n",
       "      <td>389</td>\n",
       "    </tr>\n",
       "  </tbody>\n",
       "</table>\n",
       "</div>"
      ],
      "text/plain": [
       "      volume\n",
       "toll        \n",
       "구미       983\n",
       "김천        12\n",
       "남구미      803\n",
       "다사        88\n",
       "동김천      423\n",
       "북구미      320\n",
       "북대구     2504\n",
       "왜관       953\n",
       "지천        67\n",
       "칠곡물류     389"
      ]
     },
     "execution_count": 28,
     "metadata": {},
     "output_type": "execute_result"
    }
   ],
   "source": [
    "#toll 열 기준으로 group by 하는데, 'volume' 열에 대해서만 집계를 하기 위함\n",
    "\n",
    "traffic = df.groupby('toll')['volume'].sum()\n",
    "df_traffic = pd.DataFrame(traffic)\n",
    "df_traffic"
   ]
  },
  {
   "cell_type": "markdown",
   "id": "44fd5dea",
   "metadata": {},
   "source": [
    "<h2>5. 그래프 그리기<h2>"
   ]
  },
  {
   "cell_type": "code",
   "execution_count": 32,
   "id": "e59d5189",
   "metadata": {},
   "outputs": [
    {
     "data": {
      "application/vnd.plotly.v1+json": {
       "config": {
        "plotlyServerURL": "https://plot.ly"
       },
       "data": [
        {
         "alignmentgroup": "True",
         "hovertemplate": "toll=%{x}<br>volume=%{y}<extra></extra>",
         "legendgroup": "",
         "marker": {
          "color": "#636efa",
          "pattern": {
           "shape": ""
          }
         },
         "name": "",
         "offsetgroup": "",
         "orientation": "v",
         "showlegend": false,
         "textposition": "auto",
         "type": "bar",
         "x": [
          "구미",
          "김천",
          "남구미",
          "다사",
          "동김천",
          "북구미",
          "북대구",
          "왜관",
          "지천",
          "칠곡물류"
         ],
         "xaxis": "x",
         "y": [
          983,
          12,
          803,
          88,
          423,
          320,
          2504,
          953,
          67,
          389
         ],
         "yaxis": "y"
        }
       ],
       "layout": {
        "barmode": "relative",
        "height": 450,
        "legend": {
         "tracegroupgap": 0
        },
        "template": {
         "data": {
          "bar": [
           {
            "error_x": {
             "color": "#2a3f5f"
            },
            "error_y": {
             "color": "#2a3f5f"
            },
            "marker": {
             "line": {
              "color": "#E5ECF6",
              "width": 0.5
             },
             "pattern": {
              "fillmode": "overlay",
              "size": 10,
              "solidity": 0.2
             }
            },
            "type": "bar"
           }
          ],
          "barpolar": [
           {
            "marker": {
             "line": {
              "color": "#E5ECF6",
              "width": 0.5
             },
             "pattern": {
              "fillmode": "overlay",
              "size": 10,
              "solidity": 0.2
             }
            },
            "type": "barpolar"
           }
          ],
          "carpet": [
           {
            "aaxis": {
             "endlinecolor": "#2a3f5f",
             "gridcolor": "white",
             "linecolor": "white",
             "minorgridcolor": "white",
             "startlinecolor": "#2a3f5f"
            },
            "baxis": {
             "endlinecolor": "#2a3f5f",
             "gridcolor": "white",
             "linecolor": "white",
             "minorgridcolor": "white",
             "startlinecolor": "#2a3f5f"
            },
            "type": "carpet"
           }
          ],
          "choropleth": [
           {
            "colorbar": {
             "outlinewidth": 0,
             "ticks": ""
            },
            "type": "choropleth"
           }
          ],
          "contour": [
           {
            "colorbar": {
             "outlinewidth": 0,
             "ticks": ""
            },
            "colorscale": [
             [
              0,
              "#0d0887"
             ],
             [
              0.1111111111111111,
              "#46039f"
             ],
             [
              0.2222222222222222,
              "#7201a8"
             ],
             [
              0.3333333333333333,
              "#9c179e"
             ],
             [
              0.4444444444444444,
              "#bd3786"
             ],
             [
              0.5555555555555556,
              "#d8576b"
             ],
             [
              0.6666666666666666,
              "#ed7953"
             ],
             [
              0.7777777777777778,
              "#fb9f3a"
             ],
             [
              0.8888888888888888,
              "#fdca26"
             ],
             [
              1,
              "#f0f921"
             ]
            ],
            "type": "contour"
           }
          ],
          "contourcarpet": [
           {
            "colorbar": {
             "outlinewidth": 0,
             "ticks": ""
            },
            "type": "contourcarpet"
           }
          ],
          "heatmap": [
           {
            "colorbar": {
             "outlinewidth": 0,
             "ticks": ""
            },
            "colorscale": [
             [
              0,
              "#0d0887"
             ],
             [
              0.1111111111111111,
              "#46039f"
             ],
             [
              0.2222222222222222,
              "#7201a8"
             ],
             [
              0.3333333333333333,
              "#9c179e"
             ],
             [
              0.4444444444444444,
              "#bd3786"
             ],
             [
              0.5555555555555556,
              "#d8576b"
             ],
             [
              0.6666666666666666,
              "#ed7953"
             ],
             [
              0.7777777777777778,
              "#fb9f3a"
             ],
             [
              0.8888888888888888,
              "#fdca26"
             ],
             [
              1,
              "#f0f921"
             ]
            ],
            "type": "heatmap"
           }
          ],
          "heatmapgl": [
           {
            "colorbar": {
             "outlinewidth": 0,
             "ticks": ""
            },
            "colorscale": [
             [
              0,
              "#0d0887"
             ],
             [
              0.1111111111111111,
              "#46039f"
             ],
             [
              0.2222222222222222,
              "#7201a8"
             ],
             [
              0.3333333333333333,
              "#9c179e"
             ],
             [
              0.4444444444444444,
              "#bd3786"
             ],
             [
              0.5555555555555556,
              "#d8576b"
             ],
             [
              0.6666666666666666,
              "#ed7953"
             ],
             [
              0.7777777777777778,
              "#fb9f3a"
             ],
             [
              0.8888888888888888,
              "#fdca26"
             ],
             [
              1,
              "#f0f921"
             ]
            ],
            "type": "heatmapgl"
           }
          ],
          "histogram": [
           {
            "marker": {
             "pattern": {
              "fillmode": "overlay",
              "size": 10,
              "solidity": 0.2
             }
            },
            "type": "histogram"
           }
          ],
          "histogram2d": [
           {
            "colorbar": {
             "outlinewidth": 0,
             "ticks": ""
            },
            "colorscale": [
             [
              0,
              "#0d0887"
             ],
             [
              0.1111111111111111,
              "#46039f"
             ],
             [
              0.2222222222222222,
              "#7201a8"
             ],
             [
              0.3333333333333333,
              "#9c179e"
             ],
             [
              0.4444444444444444,
              "#bd3786"
             ],
             [
              0.5555555555555556,
              "#d8576b"
             ],
             [
              0.6666666666666666,
              "#ed7953"
             ],
             [
              0.7777777777777778,
              "#fb9f3a"
             ],
             [
              0.8888888888888888,
              "#fdca26"
             ],
             [
              1,
              "#f0f921"
             ]
            ],
            "type": "histogram2d"
           }
          ],
          "histogram2dcontour": [
           {
            "colorbar": {
             "outlinewidth": 0,
             "ticks": ""
            },
            "colorscale": [
             [
              0,
              "#0d0887"
             ],
             [
              0.1111111111111111,
              "#46039f"
             ],
             [
              0.2222222222222222,
              "#7201a8"
             ],
             [
              0.3333333333333333,
              "#9c179e"
             ],
             [
              0.4444444444444444,
              "#bd3786"
             ],
             [
              0.5555555555555556,
              "#d8576b"
             ],
             [
              0.6666666666666666,
              "#ed7953"
             ],
             [
              0.7777777777777778,
              "#fb9f3a"
             ],
             [
              0.8888888888888888,
              "#fdca26"
             ],
             [
              1,
              "#f0f921"
             ]
            ],
            "type": "histogram2dcontour"
           }
          ],
          "mesh3d": [
           {
            "colorbar": {
             "outlinewidth": 0,
             "ticks": ""
            },
            "type": "mesh3d"
           }
          ],
          "parcoords": [
           {
            "line": {
             "colorbar": {
              "outlinewidth": 0,
              "ticks": ""
             }
            },
            "type": "parcoords"
           }
          ],
          "pie": [
           {
            "automargin": true,
            "type": "pie"
           }
          ],
          "scatter": [
           {
            "fillpattern": {
             "fillmode": "overlay",
             "size": 10,
             "solidity": 0.2
            },
            "type": "scatter"
           }
          ],
          "scatter3d": [
           {
            "line": {
             "colorbar": {
              "outlinewidth": 0,
              "ticks": ""
             }
            },
            "marker": {
             "colorbar": {
              "outlinewidth": 0,
              "ticks": ""
             }
            },
            "type": "scatter3d"
           }
          ],
          "scattercarpet": [
           {
            "marker": {
             "colorbar": {
              "outlinewidth": 0,
              "ticks": ""
             }
            },
            "type": "scattercarpet"
           }
          ],
          "scattergeo": [
           {
            "marker": {
             "colorbar": {
              "outlinewidth": 0,
              "ticks": ""
             }
            },
            "type": "scattergeo"
           }
          ],
          "scattergl": [
           {
            "marker": {
             "colorbar": {
              "outlinewidth": 0,
              "ticks": ""
             }
            },
            "type": "scattergl"
           }
          ],
          "scattermapbox": [
           {
            "marker": {
             "colorbar": {
              "outlinewidth": 0,
              "ticks": ""
             }
            },
            "type": "scattermapbox"
           }
          ],
          "scatterpolar": [
           {
            "marker": {
             "colorbar": {
              "outlinewidth": 0,
              "ticks": ""
             }
            },
            "type": "scatterpolar"
           }
          ],
          "scatterpolargl": [
           {
            "marker": {
             "colorbar": {
              "outlinewidth": 0,
              "ticks": ""
             }
            },
            "type": "scatterpolargl"
           }
          ],
          "scatterternary": [
           {
            "marker": {
             "colorbar": {
              "outlinewidth": 0,
              "ticks": ""
             }
            },
            "type": "scatterternary"
           }
          ],
          "surface": [
           {
            "colorbar": {
             "outlinewidth": 0,
             "ticks": ""
            },
            "colorscale": [
             [
              0,
              "#0d0887"
             ],
             [
              0.1111111111111111,
              "#46039f"
             ],
             [
              0.2222222222222222,
              "#7201a8"
             ],
             [
              0.3333333333333333,
              "#9c179e"
             ],
             [
              0.4444444444444444,
              "#bd3786"
             ],
             [
              0.5555555555555556,
              "#d8576b"
             ],
             [
              0.6666666666666666,
              "#ed7953"
             ],
             [
              0.7777777777777778,
              "#fb9f3a"
             ],
             [
              0.8888888888888888,
              "#fdca26"
             ],
             [
              1,
              "#f0f921"
             ]
            ],
            "type": "surface"
           }
          ],
          "table": [
           {
            "cells": {
             "fill": {
              "color": "#EBF0F8"
             },
             "line": {
              "color": "white"
             }
            },
            "header": {
             "fill": {
              "color": "#C8D4E3"
             },
             "line": {
              "color": "white"
             }
            },
            "type": "table"
           }
          ]
         },
         "layout": {
          "annotationdefaults": {
           "arrowcolor": "#2a3f5f",
           "arrowhead": 0,
           "arrowwidth": 1
          },
          "autotypenumbers": "strict",
          "coloraxis": {
           "colorbar": {
            "outlinewidth": 0,
            "ticks": ""
           }
          },
          "colorscale": {
           "diverging": [
            [
             0,
             "#8e0152"
            ],
            [
             0.1,
             "#c51b7d"
            ],
            [
             0.2,
             "#de77ae"
            ],
            [
             0.3,
             "#f1b6da"
            ],
            [
             0.4,
             "#fde0ef"
            ],
            [
             0.5,
             "#f7f7f7"
            ],
            [
             0.6,
             "#e6f5d0"
            ],
            [
             0.7,
             "#b8e186"
            ],
            [
             0.8,
             "#7fbc41"
            ],
            [
             0.9,
             "#4d9221"
            ],
            [
             1,
             "#276419"
            ]
           ],
           "sequential": [
            [
             0,
             "#0d0887"
            ],
            [
             0.1111111111111111,
             "#46039f"
            ],
            [
             0.2222222222222222,
             "#7201a8"
            ],
            [
             0.3333333333333333,
             "#9c179e"
            ],
            [
             0.4444444444444444,
             "#bd3786"
            ],
            [
             0.5555555555555556,
             "#d8576b"
            ],
            [
             0.6666666666666666,
             "#ed7953"
            ],
            [
             0.7777777777777778,
             "#fb9f3a"
            ],
            [
             0.8888888888888888,
             "#fdca26"
            ],
            [
             1,
             "#f0f921"
            ]
           ],
           "sequentialminus": [
            [
             0,
             "#0d0887"
            ],
            [
             0.1111111111111111,
             "#46039f"
            ],
            [
             0.2222222222222222,
             "#7201a8"
            ],
            [
             0.3333333333333333,
             "#9c179e"
            ],
            [
             0.4444444444444444,
             "#bd3786"
            ],
            [
             0.5555555555555556,
             "#d8576b"
            ],
            [
             0.6666666666666666,
             "#ed7953"
            ],
            [
             0.7777777777777778,
             "#fb9f3a"
            ],
            [
             0.8888888888888888,
             "#fdca26"
            ],
            [
             1,
             "#f0f921"
            ]
           ]
          },
          "colorway": [
           "#636efa",
           "#EF553B",
           "#00cc96",
           "#ab63fa",
           "#FFA15A",
           "#19d3f3",
           "#FF6692",
           "#B6E880",
           "#FF97FF",
           "#FECB52"
          ],
          "font": {
           "color": "#2a3f5f"
          },
          "geo": {
           "bgcolor": "white",
           "lakecolor": "white",
           "landcolor": "#E5ECF6",
           "showlakes": true,
           "showland": true,
           "subunitcolor": "white"
          },
          "hoverlabel": {
           "align": "left"
          },
          "hovermode": "closest",
          "mapbox": {
           "style": "light"
          },
          "paper_bgcolor": "white",
          "plot_bgcolor": "#E5ECF6",
          "polar": {
           "angularaxis": {
            "gridcolor": "white",
            "linecolor": "white",
            "ticks": ""
           },
           "bgcolor": "#E5ECF6",
           "radialaxis": {
            "gridcolor": "white",
            "linecolor": "white",
            "ticks": ""
           }
          },
          "scene": {
           "xaxis": {
            "backgroundcolor": "#E5ECF6",
            "gridcolor": "white",
            "gridwidth": 2,
            "linecolor": "white",
            "showbackground": true,
            "ticks": "",
            "zerolinecolor": "white"
           },
           "yaxis": {
            "backgroundcolor": "#E5ECF6",
            "gridcolor": "white",
            "gridwidth": 2,
            "linecolor": "white",
            "showbackground": true,
            "ticks": "",
            "zerolinecolor": "white"
           },
           "zaxis": {
            "backgroundcolor": "#E5ECF6",
            "gridcolor": "white",
            "gridwidth": 2,
            "linecolor": "white",
            "showbackground": true,
            "ticks": "",
            "zerolinecolor": "white"
           }
          },
          "shapedefaults": {
           "line": {
            "color": "#2a3f5f"
           }
          },
          "ternary": {
           "aaxis": {
            "gridcolor": "white",
            "linecolor": "white",
            "ticks": ""
           },
           "baxis": {
            "gridcolor": "white",
            "linecolor": "white",
            "ticks": ""
           },
           "bgcolor": "#E5ECF6",
           "caxis": {
            "gridcolor": "white",
            "linecolor": "white",
            "ticks": ""
           }
          },
          "title": {
           "x": 0.05
          },
          "xaxis": {
           "automargin": true,
           "gridcolor": "white",
           "linecolor": "white",
           "ticks": "",
           "title": {
            "standoff": 15
           },
           "zerolinecolor": "white",
           "zerolinewidth": 2
          },
          "yaxis": {
           "automargin": true,
           "gridcolor": "white",
           "linecolor": "white",
           "ticks": "",
           "title": {
            "standoff": 15
           },
           "zerolinecolor": "white",
           "zerolinewidth": 2
          }
         }
        },
        "title": {
         "text": "톨게이트별 교통량"
        },
        "width": 800,
        "xaxis": {
         "anchor": "y",
         "domain": [
          0,
          1
         ],
         "title": {
          "text": "toll"
         }
        },
        "yaxis": {
         "anchor": "x",
         "domain": [
          0,
          1
         ],
         "title": {
          "text": "volume"
         }
        }
       }
      },
      "text/html": [
       "<div>                            <div id=\"fa7f254f-f492-4b92-819a-76f98b87c4e5\" class=\"plotly-graph-div\" style=\"height:450px; width:800px;\"></div>            <script type=\"text/javascript\">                require([\"plotly\"], function(Plotly) {                    window.PLOTLYENV=window.PLOTLYENV || {};                                    if (document.getElementById(\"fa7f254f-f492-4b92-819a-76f98b87c4e5\")) {                    Plotly.newPlot(                        \"fa7f254f-f492-4b92-819a-76f98b87c4e5\",                        [{\"alignmentgroup\":\"True\",\"hovertemplate\":\"toll=%{x}<br>volume=%{y}<extra></extra>\",\"legendgroup\":\"\",\"marker\":{\"color\":\"#636efa\",\"pattern\":{\"shape\":\"\"}},\"name\":\"\",\"offsetgroup\":\"\",\"orientation\":\"v\",\"showlegend\":false,\"textposition\":\"auto\",\"x\":[\"\\uad6c\\ubbf8\",\"\\uae40\\ucc9c\",\"\\ub0a8\\uad6c\\ubbf8\",\"\\ub2e4\\uc0ac\",\"\\ub3d9\\uae40\\ucc9c\",\"\\ubd81\\uad6c\\ubbf8\",\"\\ubd81\\ub300\\uad6c\",\"\\uc65c\\uad00\",\"\\uc9c0\\ucc9c\",\"\\uce60\\uace1\\ubb3c\\ub958\"],\"xaxis\":\"x\",\"y\":[983,12,803,88,423,320,2504,953,67,389],\"yaxis\":\"y\",\"type\":\"bar\"}],                        {\"template\":{\"data\":{\"histogram2dcontour\":[{\"type\":\"histogram2dcontour\",\"colorbar\":{\"outlinewidth\":0,\"ticks\":\"\"},\"colorscale\":[[0.0,\"#0d0887\"],[0.1111111111111111,\"#46039f\"],[0.2222222222222222,\"#7201a8\"],[0.3333333333333333,\"#9c179e\"],[0.4444444444444444,\"#bd3786\"],[0.5555555555555556,\"#d8576b\"],[0.6666666666666666,\"#ed7953\"],[0.7777777777777778,\"#fb9f3a\"],[0.8888888888888888,\"#fdca26\"],[1.0,\"#f0f921\"]]}],\"choropleth\":[{\"type\":\"choropleth\",\"colorbar\":{\"outlinewidth\":0,\"ticks\":\"\"}}],\"histogram2d\":[{\"type\":\"histogram2d\",\"colorbar\":{\"outlinewidth\":0,\"ticks\":\"\"},\"colorscale\":[[0.0,\"#0d0887\"],[0.1111111111111111,\"#46039f\"],[0.2222222222222222,\"#7201a8\"],[0.3333333333333333,\"#9c179e\"],[0.4444444444444444,\"#bd3786\"],[0.5555555555555556,\"#d8576b\"],[0.6666666666666666,\"#ed7953\"],[0.7777777777777778,\"#fb9f3a\"],[0.8888888888888888,\"#fdca26\"],[1.0,\"#f0f921\"]]}],\"heatmap\":[{\"type\":\"heatmap\",\"colorbar\":{\"outlinewidth\":0,\"ticks\":\"\"},\"colorscale\":[[0.0,\"#0d0887\"],[0.1111111111111111,\"#46039f\"],[0.2222222222222222,\"#7201a8\"],[0.3333333333333333,\"#9c179e\"],[0.4444444444444444,\"#bd3786\"],[0.5555555555555556,\"#d8576b\"],[0.6666666666666666,\"#ed7953\"],[0.7777777777777778,\"#fb9f3a\"],[0.8888888888888888,\"#fdca26\"],[1.0,\"#f0f921\"]]}],\"heatmapgl\":[{\"type\":\"heatmapgl\",\"colorbar\":{\"outlinewidth\":0,\"ticks\":\"\"},\"colorscale\":[[0.0,\"#0d0887\"],[0.1111111111111111,\"#46039f\"],[0.2222222222222222,\"#7201a8\"],[0.3333333333333333,\"#9c179e\"],[0.4444444444444444,\"#bd3786\"],[0.5555555555555556,\"#d8576b\"],[0.6666666666666666,\"#ed7953\"],[0.7777777777777778,\"#fb9f3a\"],[0.8888888888888888,\"#fdca26\"],[1.0,\"#f0f921\"]]}],\"contourcarpet\":[{\"type\":\"contourcarpet\",\"colorbar\":{\"outlinewidth\":0,\"ticks\":\"\"}}],\"contour\":[{\"type\":\"contour\",\"colorbar\":{\"outlinewidth\":0,\"ticks\":\"\"},\"colorscale\":[[0.0,\"#0d0887\"],[0.1111111111111111,\"#46039f\"],[0.2222222222222222,\"#7201a8\"],[0.3333333333333333,\"#9c179e\"],[0.4444444444444444,\"#bd3786\"],[0.5555555555555556,\"#d8576b\"],[0.6666666666666666,\"#ed7953\"],[0.7777777777777778,\"#fb9f3a\"],[0.8888888888888888,\"#fdca26\"],[1.0,\"#f0f921\"]]}],\"surface\":[{\"type\":\"surface\",\"colorbar\":{\"outlinewidth\":0,\"ticks\":\"\"},\"colorscale\":[[0.0,\"#0d0887\"],[0.1111111111111111,\"#46039f\"],[0.2222222222222222,\"#7201a8\"],[0.3333333333333333,\"#9c179e\"],[0.4444444444444444,\"#bd3786\"],[0.5555555555555556,\"#d8576b\"],[0.6666666666666666,\"#ed7953\"],[0.7777777777777778,\"#fb9f3a\"],[0.8888888888888888,\"#fdca26\"],[1.0,\"#f0f921\"]]}],\"mesh3d\":[{\"type\":\"mesh3d\",\"colorbar\":{\"outlinewidth\":0,\"ticks\":\"\"}}],\"scatter\":[{\"fillpattern\":{\"fillmode\":\"overlay\",\"size\":10,\"solidity\":0.2},\"type\":\"scatter\"}],\"parcoords\":[{\"type\":\"parcoords\",\"line\":{\"colorbar\":{\"outlinewidth\":0,\"ticks\":\"\"}}}],\"scatterpolargl\":[{\"type\":\"scatterpolargl\",\"marker\":{\"colorbar\":{\"outlinewidth\":0,\"ticks\":\"\"}}}],\"bar\":[{\"error_x\":{\"color\":\"#2a3f5f\"},\"error_y\":{\"color\":\"#2a3f5f\"},\"marker\":{\"line\":{\"color\":\"#E5ECF6\",\"width\":0.5},\"pattern\":{\"fillmode\":\"overlay\",\"size\":10,\"solidity\":0.2}},\"type\":\"bar\"}],\"scattergeo\":[{\"type\":\"scattergeo\",\"marker\":{\"colorbar\":{\"outlinewidth\":0,\"ticks\":\"\"}}}],\"scatterpolar\":[{\"type\":\"scatterpolar\",\"marker\":{\"colorbar\":{\"outlinewidth\":0,\"ticks\":\"\"}}}],\"histogram\":[{\"marker\":{\"pattern\":{\"fillmode\":\"overlay\",\"size\":10,\"solidity\":0.2}},\"type\":\"histogram\"}],\"scattergl\":[{\"type\":\"scattergl\",\"marker\":{\"colorbar\":{\"outlinewidth\":0,\"ticks\":\"\"}}}],\"scatter3d\":[{\"type\":\"scatter3d\",\"line\":{\"colorbar\":{\"outlinewidth\":0,\"ticks\":\"\"}},\"marker\":{\"colorbar\":{\"outlinewidth\":0,\"ticks\":\"\"}}}],\"scattermapbox\":[{\"type\":\"scattermapbox\",\"marker\":{\"colorbar\":{\"outlinewidth\":0,\"ticks\":\"\"}}}],\"scatterternary\":[{\"type\":\"scatterternary\",\"marker\":{\"colorbar\":{\"outlinewidth\":0,\"ticks\":\"\"}}}],\"scattercarpet\":[{\"type\":\"scattercarpet\",\"marker\":{\"colorbar\":{\"outlinewidth\":0,\"ticks\":\"\"}}}],\"carpet\":[{\"aaxis\":{\"endlinecolor\":\"#2a3f5f\",\"gridcolor\":\"white\",\"linecolor\":\"white\",\"minorgridcolor\":\"white\",\"startlinecolor\":\"#2a3f5f\"},\"baxis\":{\"endlinecolor\":\"#2a3f5f\",\"gridcolor\":\"white\",\"linecolor\":\"white\",\"minorgridcolor\":\"white\",\"startlinecolor\":\"#2a3f5f\"},\"type\":\"carpet\"}],\"table\":[{\"cells\":{\"fill\":{\"color\":\"#EBF0F8\"},\"line\":{\"color\":\"white\"}},\"header\":{\"fill\":{\"color\":\"#C8D4E3\"},\"line\":{\"color\":\"white\"}},\"type\":\"table\"}],\"barpolar\":[{\"marker\":{\"line\":{\"color\":\"#E5ECF6\",\"width\":0.5},\"pattern\":{\"fillmode\":\"overlay\",\"size\":10,\"solidity\":0.2}},\"type\":\"barpolar\"}],\"pie\":[{\"automargin\":true,\"type\":\"pie\"}]},\"layout\":{\"autotypenumbers\":\"strict\",\"colorway\":[\"#636efa\",\"#EF553B\",\"#00cc96\",\"#ab63fa\",\"#FFA15A\",\"#19d3f3\",\"#FF6692\",\"#B6E880\",\"#FF97FF\",\"#FECB52\"],\"font\":{\"color\":\"#2a3f5f\"},\"hovermode\":\"closest\",\"hoverlabel\":{\"align\":\"left\"},\"paper_bgcolor\":\"white\",\"plot_bgcolor\":\"#E5ECF6\",\"polar\":{\"bgcolor\":\"#E5ECF6\",\"angularaxis\":{\"gridcolor\":\"white\",\"linecolor\":\"white\",\"ticks\":\"\"},\"radialaxis\":{\"gridcolor\":\"white\",\"linecolor\":\"white\",\"ticks\":\"\"}},\"ternary\":{\"bgcolor\":\"#E5ECF6\",\"aaxis\":{\"gridcolor\":\"white\",\"linecolor\":\"white\",\"ticks\":\"\"},\"baxis\":{\"gridcolor\":\"white\",\"linecolor\":\"white\",\"ticks\":\"\"},\"caxis\":{\"gridcolor\":\"white\",\"linecolor\":\"white\",\"ticks\":\"\"}},\"coloraxis\":{\"colorbar\":{\"outlinewidth\":0,\"ticks\":\"\"}},\"colorscale\":{\"sequential\":[[0.0,\"#0d0887\"],[0.1111111111111111,\"#46039f\"],[0.2222222222222222,\"#7201a8\"],[0.3333333333333333,\"#9c179e\"],[0.4444444444444444,\"#bd3786\"],[0.5555555555555556,\"#d8576b\"],[0.6666666666666666,\"#ed7953\"],[0.7777777777777778,\"#fb9f3a\"],[0.8888888888888888,\"#fdca26\"],[1.0,\"#f0f921\"]],\"sequentialminus\":[[0.0,\"#0d0887\"],[0.1111111111111111,\"#46039f\"],[0.2222222222222222,\"#7201a8\"],[0.3333333333333333,\"#9c179e\"],[0.4444444444444444,\"#bd3786\"],[0.5555555555555556,\"#d8576b\"],[0.6666666666666666,\"#ed7953\"],[0.7777777777777778,\"#fb9f3a\"],[0.8888888888888888,\"#fdca26\"],[1.0,\"#f0f921\"]],\"diverging\":[[0,\"#8e0152\"],[0.1,\"#c51b7d\"],[0.2,\"#de77ae\"],[0.3,\"#f1b6da\"],[0.4,\"#fde0ef\"],[0.5,\"#f7f7f7\"],[0.6,\"#e6f5d0\"],[0.7,\"#b8e186\"],[0.8,\"#7fbc41\"],[0.9,\"#4d9221\"],[1,\"#276419\"]]},\"xaxis\":{\"gridcolor\":\"white\",\"linecolor\":\"white\",\"ticks\":\"\",\"title\":{\"standoff\":15},\"zerolinecolor\":\"white\",\"automargin\":true,\"zerolinewidth\":2},\"yaxis\":{\"gridcolor\":\"white\",\"linecolor\":\"white\",\"ticks\":\"\",\"title\":{\"standoff\":15},\"zerolinecolor\":\"white\",\"automargin\":true,\"zerolinewidth\":2},\"scene\":{\"xaxis\":{\"backgroundcolor\":\"#E5ECF6\",\"gridcolor\":\"white\",\"linecolor\":\"white\",\"showbackground\":true,\"ticks\":\"\",\"zerolinecolor\":\"white\",\"gridwidth\":2},\"yaxis\":{\"backgroundcolor\":\"#E5ECF6\",\"gridcolor\":\"white\",\"linecolor\":\"white\",\"showbackground\":true,\"ticks\":\"\",\"zerolinecolor\":\"white\",\"gridwidth\":2},\"zaxis\":{\"backgroundcolor\":\"#E5ECF6\",\"gridcolor\":\"white\",\"linecolor\":\"white\",\"showbackground\":true,\"ticks\":\"\",\"zerolinecolor\":\"white\",\"gridwidth\":2}},\"shapedefaults\":{\"line\":{\"color\":\"#2a3f5f\"}},\"annotationdefaults\":{\"arrowcolor\":\"#2a3f5f\",\"arrowhead\":0,\"arrowwidth\":1},\"geo\":{\"bgcolor\":\"white\",\"landcolor\":\"#E5ECF6\",\"subunitcolor\":\"white\",\"showland\":true,\"showlakes\":true,\"lakecolor\":\"white\"},\"title\":{\"x\":0.05},\"mapbox\":{\"style\":\"light\"}}},\"xaxis\":{\"anchor\":\"y\",\"domain\":[0.0,1.0],\"title\":{\"text\":\"toll\"}},\"yaxis\":{\"anchor\":\"x\",\"domain\":[0.0,1.0],\"title\":{\"text\":\"volume\"}},\"legend\":{\"tracegroupgap\":0},\"title\":{\"text\":\"\\ud1a8\\uac8c\\uc774\\ud2b8\\ubcc4 \\uad50\\ud1b5\\ub7c9\"},\"barmode\":\"relative\",\"height\":450,\"width\":800},                        {\"responsive\": true}                    ).then(function(){\n",
       "                            \n",
       "var gd = document.getElementById('fa7f254f-f492-4b92-819a-76f98b87c4e5');\n",
       "var x = new MutationObserver(function (mutations, observer) {{\n",
       "        var display = window.getComputedStyle(gd).display;\n",
       "        if (!display || display === 'none') {{\n",
       "            console.log([gd, 'removed!']);\n",
       "            Plotly.purge(gd);\n",
       "            observer.disconnect();\n",
       "        }}\n",
       "}});\n",
       "\n",
       "// Listen for the removal of the full notebook cells\n",
       "var notebookContainer = gd.closest('#notebook-container');\n",
       "if (notebookContainer) {{\n",
       "    x.observe(notebookContainer, {childList: true});\n",
       "}}\n",
       "\n",
       "// Listen for the clearing of the current output cell\n",
       "var outputEl = gd.closest('.output');\n",
       "if (outputEl) {{\n",
       "    x.observe(outputEl, {childList: true});\n",
       "}}\n",
       "\n",
       "                        })                };                });            </script>        </div>"
      ]
     },
     "metadata": {},
     "output_type": "display_data"
    }
   ],
   "source": [
    "import plotly.express as px\n",
    "\n",
    "fig = px.bar(\n",
    "    df_traffic,\n",
    "    y = \"volume\",\n",
    "    width = 800,\n",
    "    height = 450,\n",
    "    title = '톨게이트별 교통량')\n",
    "\n",
    "fig.show()"
   ]
  },
  {
   "cell_type": "code",
   "execution_count": null,
   "id": "31480c91",
   "metadata": {},
   "outputs": [],
   "source": []
  }
 ],
 "metadata": {
  "kernelspec": {
   "display_name": "Python 3 (ipykernel)",
   "language": "python",
   "name": "python3"
  },
  "language_info": {
   "codemirror_mode": {
    "name": "ipython",
    "version": 3
   },
   "file_extension": ".py",
   "mimetype": "text/x-python",
   "name": "python",
   "nbconvert_exporter": "python",
   "pygments_lexer": "ipython3",
   "version": "3.9.18"
  }
 },
 "nbformat": 4,
 "nbformat_minor": 5
}
